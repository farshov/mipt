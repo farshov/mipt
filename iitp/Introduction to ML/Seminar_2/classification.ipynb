{
 "cells": [
  {
   "cell_type": "markdown",
   "metadata": {
    "slideshow": {
     "slide_type": "slide"
    }
   },
   "source": [
    "# Seminar 4. Classification & Cross-validation"
   ]
  },
  {
   "cell_type": "markdown",
   "metadata": {
    "slideshow": {
     "slide_type": "slide"
    }
   },
   "source": [
    "# Examples"
   ]
  },
  {
   "cell_type": "markdown",
   "metadata": {
    "slideshow": {
     "slide_type": "slide"
    }
   },
   "source": [
    "## Iris Data Set\n",
    "https://archive.ics.uci.edu/ml/datasets/Iris"
   ]
  },
  {
   "cell_type": "markdown",
   "metadata": {},
   "source": [
    "The data set contains 3 classes of 50 instances each, where each class refers to a type of iris plant\n",
    "\n",
    "This is perhaps the best known database to be found in the pattern recognition literature. \n",
    "\n",
    "Fisher's paper is a classic in the field and is referenced frequently to this day. (See Duda & Hart, for example.) \n",
    "\n",
    "\n"
   ]
  },
  {
   "cell_type": "markdown",
   "metadata": {
    "slideshow": {
     "slide_type": "subslide"
    }
   },
   "source": [
    "** Inputs // Features // X**: Flower sizes  \n",
    "  1. sepal length in cm \n",
    "  2. sepal width in cm \n",
    "  3. petal length in cm \n",
    "  4. petal width in cm \n",
    "  \n",
    "<div style=\"width:25%; text-align:center\">\n",
    "<img src=http://sebastianraschka.com/images/blog/2014/linear-discriminant-analysis/iris_petal_sepal.png width=500px>\n",
    "</div>\n",
    "\n",
    "The picture is taken from a very detailed [blogpost](http://sebastianraschka.com/Articles/2014_python_lda.html) on Linear Discriminant analysis"
   ]
  },
  {
   "cell_type": "markdown",
   "metadata": {
    "slideshow": {
     "slide_type": "subslide"
    }
   },
   "source": [
    "** Output // Target // Y**: Type of iris plant\n",
    " - Iris Setosa \n",
    " - Iris Versicolour \n",
    " - Iris Virginica\n",
    " \n",
    "<div style=\"width:100%; text-align:center\">\n",
    "<img src=http://articles.concreteinteractive.com/wp-content/uploads/2015/03/irises.png width=500px>\n",
    "</div>\n",
    "\n",
    "The picture is taken from a very detailed [blogpost](http://sebastianraschka.com/Articles/2014_python_lda.html) on Linear Discriminant analysis"
   ]
  },
  {
   "cell_type": "markdown",
   "metadata": {
    "slideshow": {
     "slide_type": "slide"
    }
   },
   "source": [
    "##  Shuttle Landing Control Data Set\n",
    "https://archive.ics.uci.edu/ml/datasets/Shuttle+Landing+Control"
   ]
  },
  {
   "cell_type": "markdown",
   "metadata": {
    "slideshow": {
     "slide_type": "subslide"
    }
   },
   "source": [
    "Determining the conditions under which an autolanding would be preferable to manual control of the spacecraft.\n",
    "\n",
    "<div style=\"width:30%; text-align:center\">\n",
    "<img src=https://archive.ics.uci.edu/ml/assets/MLimages/Large92.jpg width=500px>\n",
    "</div>"
   ]
  },
  {
   "cell_type": "markdown",
   "metadata": {
    "slideshow": {
     "slide_type": "subslide"
    }
   },
   "source": [
    "** Inputs // Features // X**: Flight conditions  \n",
    "\n",
    "2. STABILITY: stab, xstab \n",
    "3. ERROR: XL, LX, MM, SS \n",
    "4. SIGN: pp, nn \n",
    "5. WIND: head, tail \n",
    "6. MAGNITUDE: Low, Medium, Strong, OutOfRange \n",
    "7. VISIBILITY: yes, no\n",
    "\n"
   ]
  },
  {
   "cell_type": "markdown",
   "metadata": {
    "slideshow": {
     "slide_type": "fragment"
    }
   },
   "source": [
    "** Output // Target // Y**: Type of control\n",
    "\n",
    "Auto or manual landing\n"
   ]
  },
  {
   "cell_type": "markdown",
   "metadata": {
    "slideshow": {
     "slide_type": "slide"
    }
   },
   "source": [
    "## Mice Protein Expression Data Set\n",
    "https://archive.ics.uci.edu/ml/datasets/Mice+Protein+Expression"
   ]
  },
  {
   "cell_type": "markdown",
   "metadata": {
    "collapsed": true,
    "slideshow": {
     "slide_type": "subslide"
    }
   },
   "source": [
    "- The data set consists of the expression levels of 77 proteins that produced detectable signals in the nuclear fraction of cortex.\n",
    "- There are 38 control mice and 34 trisomic mice (Down syndrome). \n",
    "- In the experiments, 15 measurements were registered of each protein per sample/mouse. \n",
    "- Therefore, for control mice, there are 38x15, or 570 measurements, and for trisomic mice, there are 34x15, or 510 measurements. So, the dataset contains a total of 1080 measurements per protein. \n",
    "- Each measurement can be considered as an independent sample/mouse. "
   ]
  },
  {
   "cell_type": "markdown",
   "metadata": {
    "slideshow": {
     "slide_type": "subslide"
    }
   },
   "source": [
    "Classes: \n",
    " - c-CS-s: control mice, stimulated to learn, injected with saline (9 mice) \n",
    " - c-CS-m: control mice, stimulated to learn, injected with memantine (10 mice) \n",
    " - c-SC-s: control mice, not stimulated to learn, injected with saline (9 mice) \n",
    " - c-SC-m: control mice, not stimulated to learn, injected with memantine (10 mice) \n",
    "\n",
    " - t-CS-s: trisomy mice, stimulated to learn, injected with saline (7 mice) \n",
    " - t-CS-m: trisomy mice, stimulated to learn, injected with memantine (9 mice) \n",
    " - t-SC-s: trisomy mice, not stimulated to learn, injected with saline (9 mice) \n",
    " - t-SC-m: trisomy mice, not stimulated to learn, injected with memantine (9 mice) "
   ]
  },
  {
   "cell_type": "markdown",
   "metadata": {
    "slideshow": {
     "slide_type": "subslide"
    }
   },
   "source": [
    "** Inputs // Features // X**: the expression levels of 77 proteins \n",
    "\n",
    "** Output // Target // Y**: Control or trisomy"
   ]
  },
  {
   "cell_type": "markdown",
   "metadata": {
    "slideshow": {
     "slide_type": "slide"
    }
   },
   "source": [
    "# Brief intro to classification algorithms"
   ]
  },
  {
   "cell_type": "code",
   "execution_count": 1,
   "metadata": {
    "slideshow": {
     "slide_type": "skip"
    }
   },
   "outputs": [
    {
     "name": "stderr",
     "output_type": "stream",
     "text": [
      "/home/danger/anaconda3/lib/python3.6/site-packages/sklearn/cross_validation.py:41: DeprecationWarning: This module was deprecated in version 0.18 in favor of the model_selection module into which all the refactored classes and functions are moved. Also note that the interface of the new CV iterators are different from that of this module. This module will be removed in 0.20.\n",
      "  \"This module will be removed in 0.20.\", DeprecationWarning)\n"
     ]
    }
   ],
   "source": [
    "import seminar4_utils as utils # plot functions"
   ]
  },
  {
   "cell_type": "markdown",
   "metadata": {
    "slideshow": {
     "slide_type": "subslide"
    }
   },
   "source": [
    "## Logistic regression"
   ]
  },
  {
   "cell_type": "code",
   "execution_count": 4,
   "metadata": {
    "slideshow": {
     "slide_type": "fragment"
    }
   },
   "outputs": [
    {
     "data": {
      "image/png": "[encoded data removed]",
      "text/plain": [
       "<Figure size 1080x360 with 3 Axes>"
      ]
     },
     "metadata": {},
     "output_type": "display_data"
    }
   ],
   "source": [
    "from sklearn.linear_model import LogisticRegression\n",
    "utils.plot_clf(LogisticRegression())"
   ]
  },
  {
   "cell_type": "markdown",
   "metadata": {
    "slideshow": {
     "slide_type": "slide"
    }
   },
   "source": [
    "## Sparcity"
   ]
  },
  {
   "cell_type": "markdown",
   "metadata": {
    "slideshow": {
     "slide_type": "subslide"
    }
   },
   "source": [
    "<div style=\"width:60%; text-align:center\">\n",
    "<img src=https://1.bp.blogspot.com/-tXq6Nl2lcNg/V3qzttiZ4sI/AAAAAAAAN_M/6nmjgwydWJUy5Kqt9gFg2Nb12BCTcD4ogCLcB/s1600/LASSO.png>\n",
    "</div>"
   ]
  },
  {
   "cell_type": "code",
   "execution_count": 5,
   "metadata": {},
   "outputs": [
    {
     "data": {
      "image/png": "[encoded data removed]",
      "text/plain": [
       "<Figure size 1080x360 with 3 Axes>"
      ]
     },
     "metadata": {},
     "output_type": "display_data"
    }
   ],
   "source": [
    "utils.plot_clf(LogisticRegression(C=1e-1, penalty='l1'))"
   ]
  },
  {
   "cell_type": "markdown",
   "metadata": {},
   "source": [
    "## Support vector machine"
   ]
  },
  {
   "cell_type": "code",
   "execution_count": 15,
   "metadata": {
    "slideshow": {
     "slide_type": "subslide"
    }
   },
   "outputs": [
    {
     "data": {
      "image/png": "[encoded data removed]",
      "text/plain": [
       "<Figure size 1080x360 with 3 Axes>"
      ]
     },
     "metadata": {},
     "output_type": "display_data"
    }
   ],
   "source": [
    "from sklearn.svm import SVC # SVC means Support Vector Classifier\n",
    "utils.plot_clf(SVC(kernel='linear'))"
   ]
  },
  {
   "cell_type": "markdown",
   "metadata": {
    "slideshow": {
     "slide_type": "subslide"
    }
   },
   "source": [
    "** Kernel trick**. Main idea\n",
    "* SVM builds a linear decision boundary in a feature space\n",
    "* Some problems cannot be solved by a linear method (Problem 1 above)\n",
    "* But what if we somehow transform our feature space?\n",
    "* For example, use $x_1^2,\\; x_1 x_2, \\; x_2^2$ as features?"
   ]
  },
  {
   "cell_type": "code",
   "execution_count": 8,
   "metadata": {
    "slideshow": {
     "slide_type": "subslide"
    }
   },
   "outputs": [
    {
     "data": {
      "image/png": "[encoded data removed]",
      "text/plain": [
       "<Figure size 1080x360 with 3 Axes>"
      ]
     },
     "metadata": {},
     "output_type": "display_data"
    }
   ],
   "source": [
    "# reload(utils)\n",
    "utils.plot_clf(SVC(kernel='poly', degree=2))"
   ]
  },
  {
   "cell_type": "markdown",
   "metadata": {
    "slideshow": {
     "slide_type": "subslide"
    }
   },
   "source": [
    "#### We can even use infinite-dimensional vector spaces!"
   ]
  },
  {
   "cell_type": "code",
   "execution_count": 16,
   "metadata": {
    "slideshow": {
     "slide_type": "fragment"
    }
   },
   "outputs": [
    {
     "data": {
      "image/png": "[encoded data removed]",
      "text/plain": [
       "<Figure size 1080x360 with 3 Axes>"
      ]
     },
     "metadata": {},
     "output_type": "display_data"
    }
   ],
   "source": [
    "utils.plot_clf(SVC(kernel='rbf'))"
   ]
  },
  {
   "cell_type": "markdown",
   "metadata": {
    "slideshow": {
     "slide_type": "slide"
    }
   },
   "source": [
    "#  Example: Mice classification"
   ]
  },
  {
   "cell_type": "markdown",
   "metadata": {
    "slideshow": {
     "slide_type": "subslide"
    }
   },
   "source": [
    "TODO: 1. Import pandas"
   ]
  },
  {
   "cell_type": "code",
   "execution_count": 17,
   "metadata": {},
   "outputs": [],
   "source": [
    "import pandas as pd"
   ]
  },
  {
   "cell_type": "markdown",
   "metadata": {
    "slideshow": {
     "slide_type": "fragment"
    }
   },
   "source": [
    "TODO: 2. Load the Mice data set (check out *pd.read_* functions) and have a look at it\n",
    "\n",
    "*tip*: add index_col='MouseID' to yuor reading function to use Mouse Id as an index"
   ]
  },
  {
   "cell_type": "code",
   "execution_count": 18,
   "metadata": {
    "slideshow": {
     "slide_type": "fragment"
    }
   },
   "outputs": [
    {
     "data": {
      "text/html": [
       "<div>\n",
       "<style scoped>\n",
       "    .dataframe tbody tr th:only-of-type {\n",
       "        vertical-align: middle;\n",
       "    }\n",
       "\n",
       "    .dataframe tbody tr th {\n",
       "        vertical-align: top;\n",
       "    }\n",
       "\n",
       "    .dataframe thead th {\n",
       "        text-align: right;\n",
       "    }\n",
       "</style>\n",
       "<table border=\"1\" class=\"dataframe\">\n",
       "  <thead>\n",
       "    <tr style=\"text-align: right;\">\n",
       "      <th></th>\n",
       "      <th>DYRK1A_N</th>\n",
       "      <th>ITSN1_N</th>\n",
       "      <th>BDNF_N</th>\n",
       "      <th>NR1_N</th>\n",
       "      <th>NR2A_N</th>\n",
       "      <th>pAKT_N</th>\n",
       "      <th>pBRAF_N</th>\n",
       "      <th>pCAMKII_N</th>\n",
       "      <th>pCREB_N</th>\n",
       "      <th>pELK_N</th>\n",
       "      <th>...</th>\n",
       "      <th>pCFOS_N</th>\n",
       "      <th>SYP_N</th>\n",
       "      <th>H3AcK18_N</th>\n",
       "      <th>EGR1_N</th>\n",
       "      <th>H3MeK4_N</th>\n",
       "      <th>CaNA_N</th>\n",
       "      <th>Genotype</th>\n",
       "      <th>Treatment</th>\n",
       "      <th>Behavior</th>\n",
       "      <th>class</th>\n",
       "    </tr>\n",
       "    <tr>\n",
       "      <th>MouseID</th>\n",
       "      <th></th>\n",
       "      <th></th>\n",
       "      <th></th>\n",
       "      <th></th>\n",
       "      <th></th>\n",
       "      <th></th>\n",
       "      <th></th>\n",
       "      <th></th>\n",
       "      <th></th>\n",
       "      <th></th>\n",
       "      <th></th>\n",
       "      <th></th>\n",
       "      <th></th>\n",
       "      <th></th>\n",
       "      <th></th>\n",
       "      <th></th>\n",
       "      <th></th>\n",
       "      <th></th>\n",
       "      <th></th>\n",
       "      <th></th>\n",
       "      <th></th>\n",
       "    </tr>\n",
       "  </thead>\n",
       "  <tbody>\n",
       "    <tr>\n",
       "      <th>309_1</th>\n",
       "      <td>0.503644</td>\n",
       "      <td>0.747193</td>\n",
       "      <td>0.430175</td>\n",
       "      <td>2.816329</td>\n",
       "      <td>5.990152</td>\n",
       "      <td>0.218830</td>\n",
       "      <td>0.177565</td>\n",
       "      <td>2.373744</td>\n",
       "      <td>0.232224</td>\n",
       "      <td>1.750936</td>\n",
       "      <td>...</td>\n",
       "      <td>0.108336</td>\n",
       "      <td>0.427099</td>\n",
       "      <td>0.114783</td>\n",
       "      <td>0.131790</td>\n",
       "      <td>0.128186</td>\n",
       "      <td>1.675652</td>\n",
       "      <td>Control</td>\n",
       "      <td>Memantine</td>\n",
       "      <td>C/S</td>\n",
       "      <td>c-CS-m</td>\n",
       "    </tr>\n",
       "    <tr>\n",
       "      <th>309_2</th>\n",
       "      <td>0.514617</td>\n",
       "      <td>0.689064</td>\n",
       "      <td>0.411770</td>\n",
       "      <td>2.789514</td>\n",
       "      <td>5.685038</td>\n",
       "      <td>0.211636</td>\n",
       "      <td>0.172817</td>\n",
       "      <td>2.292150</td>\n",
       "      <td>0.226972</td>\n",
       "      <td>1.596377</td>\n",
       "      <td>...</td>\n",
       "      <td>0.104315</td>\n",
       "      <td>0.441581</td>\n",
       "      <td>0.111974</td>\n",
       "      <td>0.135103</td>\n",
       "      <td>0.131119</td>\n",
       "      <td>1.743610</td>\n",
       "      <td>Control</td>\n",
       "      <td>Memantine</td>\n",
       "      <td>C/S</td>\n",
       "      <td>c-CS-m</td>\n",
       "    </tr>\n",
       "    <tr>\n",
       "      <th>309_3</th>\n",
       "      <td>0.509183</td>\n",
       "      <td>0.730247</td>\n",
       "      <td>0.418309</td>\n",
       "      <td>2.687201</td>\n",
       "      <td>5.622059</td>\n",
       "      <td>0.209011</td>\n",
       "      <td>0.175722</td>\n",
       "      <td>2.283337</td>\n",
       "      <td>0.230247</td>\n",
       "      <td>1.561316</td>\n",
       "      <td>...</td>\n",
       "      <td>0.106219</td>\n",
       "      <td>0.435777</td>\n",
       "      <td>0.111883</td>\n",
       "      <td>0.133362</td>\n",
       "      <td>0.127431</td>\n",
       "      <td>1.926427</td>\n",
       "      <td>Control</td>\n",
       "      <td>Memantine</td>\n",
       "      <td>C/S</td>\n",
       "      <td>c-CS-m</td>\n",
       "    </tr>\n",
       "    <tr>\n",
       "      <th>309_4</th>\n",
       "      <td>0.442107</td>\n",
       "      <td>0.617076</td>\n",
       "      <td>0.358626</td>\n",
       "      <td>2.466947</td>\n",
       "      <td>4.979503</td>\n",
       "      <td>0.222886</td>\n",
       "      <td>0.176463</td>\n",
       "      <td>2.152301</td>\n",
       "      <td>0.207004</td>\n",
       "      <td>1.595086</td>\n",
       "      <td>...</td>\n",
       "      <td>0.111262</td>\n",
       "      <td>0.391691</td>\n",
       "      <td>0.130405</td>\n",
       "      <td>0.147444</td>\n",
       "      <td>0.146901</td>\n",
       "      <td>1.700563</td>\n",
       "      <td>Control</td>\n",
       "      <td>Memantine</td>\n",
       "      <td>C/S</td>\n",
       "      <td>c-CS-m</td>\n",
       "    </tr>\n",
       "    <tr>\n",
       "      <th>309_5</th>\n",
       "      <td>0.434940</td>\n",
       "      <td>0.617430</td>\n",
       "      <td>0.358802</td>\n",
       "      <td>2.365785</td>\n",
       "      <td>4.718679</td>\n",
       "      <td>0.213106</td>\n",
       "      <td>0.173627</td>\n",
       "      <td>2.134014</td>\n",
       "      <td>0.192158</td>\n",
       "      <td>1.504230</td>\n",
       "      <td>...</td>\n",
       "      <td>0.110694</td>\n",
       "      <td>0.434154</td>\n",
       "      <td>0.118481</td>\n",
       "      <td>0.140314</td>\n",
       "      <td>0.148380</td>\n",
       "      <td>1.839730</td>\n",
       "      <td>Control</td>\n",
       "      <td>Memantine</td>\n",
       "      <td>C/S</td>\n",
       "      <td>c-CS-m</td>\n",
       "    </tr>\n",
       "  </tbody>\n",
       "</table>\n",
       "<p>5 rows × 81 columns</p>\n",
       "</div>"
      ],
      "text/plain": [
       "         DYRK1A_N   ITSN1_N    BDNF_N     NR1_N    NR2A_N    pAKT_N   pBRAF_N  \\\n",
       "MouseID                                                                         \n",
       "309_1    0.503644  0.747193  0.430175  2.816329  5.990152  0.218830  0.177565   \n",
       "309_2    0.514617  0.689064  0.411770  2.789514  5.685038  0.211636  0.172817   \n",
       "309_3    0.509183  0.730247  0.418309  2.687201  5.622059  0.209011  0.175722   \n",
       "309_4    0.442107  0.617076  0.358626  2.466947  4.979503  0.222886  0.176463   \n",
       "309_5    0.434940  0.617430  0.358802  2.365785  4.718679  0.213106  0.173627   \n",
       "\n",
       "         pCAMKII_N   pCREB_N    pELK_N   ...     pCFOS_N     SYP_N  H3AcK18_N  \\\n",
       "MouseID                                  ...                                    \n",
       "309_1     2.373744  0.232224  1.750936   ...    0.108336  0.427099   0.114783   \n",
       "309_2     2.292150  0.226972  1.596377   ...    0.104315  0.441581   0.111974   \n",
       "309_3     2.283337  0.230247  1.561316   ...    0.106219  0.435777   0.111883   \n",
       "309_4     2.152301  0.207004  1.595086   ...    0.111262  0.391691   0.130405   \n",
       "309_5     2.134014  0.192158  1.504230   ...    0.110694  0.434154   0.118481   \n",
       "\n",
       "           EGR1_N  H3MeK4_N    CaNA_N  Genotype  Treatment  Behavior   class  \n",
       "MouseID                                                                       \n",
       "309_1    0.131790  0.128186  1.675652   Control  Memantine       C/S  c-CS-m  \n",
       "309_2    0.135103  0.131119  1.743610   Control  Memantine       C/S  c-CS-m  \n",
       "309_3    0.133362  0.127431  1.926427   Control  Memantine       C/S  c-CS-m  \n",
       "309_4    0.147444  0.146901  1.700563   Control  Memantine       C/S  c-CS-m  \n",
       "309_5    0.140314  0.148380  1.839730   Control  Memantine       C/S  c-CS-m  \n",
       "\n",
       "[5 rows x 81 columns]"
      ]
     },
     "execution_count": 18,
     "metadata": {},
     "output_type": "execute_result"
    }
   ],
   "source": [
    "#path_to_data = 'https://archive.ics.uci.edu/ml/machine-learning-databases/00342/Data_Cortex_Nuclear.xls'\n",
    "path_to_data = 'Data_Cortex_Nuclear.xls'\n",
    "data = pd.read_excel(path_to_data, index_col='MouseID')\n",
    "data.head()"
   ]
  },
  {
   "cell_type": "code",
   "execution_count": 19,
   "metadata": {},
   "outputs": [
    {
     "data": {
      "text/plain": [
       "DYRK1A_N           1077\n",
       "ITSN1_N            1077\n",
       "BDNF_N             1077\n",
       "NR1_N              1077\n",
       "NR2A_N             1077\n",
       "pAKT_N             1077\n",
       "pBRAF_N            1077\n",
       "pCAMKII_N          1077\n",
       "pCREB_N            1077\n",
       "pELK_N             1077\n",
       "pERK_N             1077\n",
       "pJNK_N             1077\n",
       "PKCA_N             1077\n",
       "pMEK_N             1077\n",
       "pNR1_N             1077\n",
       "pNR2A_N            1077\n",
       "pNR2B_N            1077\n",
       "pPKCAB_N           1077\n",
       "pRSK_N             1077\n",
       "AKT_N              1077\n",
       "BRAF_N             1077\n",
       "CAMKII_N           1077\n",
       "CREB_N             1077\n",
       "ELK_N              1062\n",
       "ERK_N              1077\n",
       "GSK3B_N            1077\n",
       "JNK_N              1077\n",
       "MEK_N              1073\n",
       "TRKA_N             1077\n",
       "RSK_N              1077\n",
       "                   ... \n",
       "RRP1_N             1080\n",
       "BAX_N              1080\n",
       "ARC_N              1080\n",
       "ERBB4_N            1080\n",
       "nNOS_N             1080\n",
       "Tau_N              1080\n",
       "GFAP_N             1080\n",
       "GluR3_N            1080\n",
       "GluR4_N            1080\n",
       "IL1B_N             1080\n",
       "P3525_N            1080\n",
       "pCASP9_N           1080\n",
       "PSD95_N            1080\n",
       "SNCA_N             1080\n",
       "Ubiquitin_N        1080\n",
       "pGSK3B_Tyr216_N    1080\n",
       "SHH_N              1080\n",
       "BAD_N               867\n",
       "BCL2_N              795\n",
       "pS6_N              1080\n",
       "pCFOS_N            1005\n",
       "SYP_N              1080\n",
       "H3AcK18_N           900\n",
       "EGR1_N              870\n",
       "H3MeK4_N            810\n",
       "CaNA_N             1080\n",
       "Genotype           1080\n",
       "Treatment          1080\n",
       "Behavior           1080\n",
       "class              1080\n",
       "Length: 81, dtype: int64"
      ]
     },
     "execution_count": 19,
     "metadata": {},
     "output_type": "execute_result"
    }
   ],
   "source": [
    "data.count()"
   ]
  },
  {
   "cell_type": "code",
   "execution_count": 20,
   "metadata": {
    "slideshow": {
     "slide_type": "subslide"
    }
   },
   "outputs": [
    {
     "name": "stdout",
     "output_type": "stream",
     "text": [
      "(1080, 81)\n",
      "(1077, 81)\n"
     ]
    }
   ],
   "source": [
    "# We have 3 points with large number of NAs. Here we drop them\n",
    "print(data.shape)\n",
    "data.dropna(thresh=70, axis=0, inplace=True)\n",
    "print(data.shape)"
   ]
  },
  {
   "cell_type": "markdown",
   "metadata": {
    "slideshow": {
     "slide_type": "subslide"
    }
   },
   "source": [
    "TODO: 3. Identify features (X) and targets (y)"
   ]
  },
  {
   "cell_type": "markdown",
   "metadata": {},
   "source": [
    " - c-CS-s: control mice, stimulated to learn, injected with saline (9 mice) \n",
    " - c-CS-m: control mice, stimulated to learn, injected with memantine (10 mice) \n",
    " - c-SC-s: control mice, not stimulated to learn, injected with saline (9 mice) \n",
    " - c-SC-m: control mice, not stimulated to learn, injected with memantine (10 mice) \n",
    "\n",
    " - t-CS-s: trisomy mice, stimulated to learn, injected with saline (7 mice) \n",
    " - t-CS-m: trisomy mice, stimulated to learn, injected with memantine (9 mice) \n",
    " - t-SC-s: trisomy mice, not stimulated to learn, injected with saline (9 mice) \n",
    " - t-SC-m: trisomy mice, not stimulated to learn, injected with memantine (9 mice) "
   ]
  },
  {
   "cell_type": "code",
   "execution_count": 21,
   "metadata": {},
   "outputs": [
    {
     "data": {
      "text/html": [
       "<div>\n",
       "<style scoped>\n",
       "    .dataframe tbody tr th:only-of-type {\n",
       "        vertical-align: middle;\n",
       "    }\n",
       "\n",
       "    .dataframe tbody tr th {\n",
       "        vertical-align: top;\n",
       "    }\n",
       "\n",
       "    .dataframe thead th {\n",
       "        text-align: right;\n",
       "    }\n",
       "</style>\n",
       "<table border=\"1\" class=\"dataframe\">\n",
       "  <thead>\n",
       "    <tr style=\"text-align: right;\">\n",
       "      <th></th>\n",
       "      <th>DYRK1A_N</th>\n",
       "      <th>ITSN1_N</th>\n",
       "      <th>BDNF_N</th>\n",
       "      <th>NR1_N</th>\n",
       "      <th>NR2A_N</th>\n",
       "      <th>pAKT_N</th>\n",
       "      <th>pBRAF_N</th>\n",
       "      <th>pCAMKII_N</th>\n",
       "      <th>pCREB_N</th>\n",
       "      <th>pELK_N</th>\n",
       "      <th>...</th>\n",
       "      <th>pCFOS_N</th>\n",
       "      <th>SYP_N</th>\n",
       "      <th>H3AcK18_N</th>\n",
       "      <th>EGR1_N</th>\n",
       "      <th>H3MeK4_N</th>\n",
       "      <th>CaNA_N</th>\n",
       "      <th>Genotype</th>\n",
       "      <th>Treatment</th>\n",
       "      <th>Behavior</th>\n",
       "      <th>class</th>\n",
       "    </tr>\n",
       "    <tr>\n",
       "      <th>MouseID</th>\n",
       "      <th></th>\n",
       "      <th></th>\n",
       "      <th></th>\n",
       "      <th></th>\n",
       "      <th></th>\n",
       "      <th></th>\n",
       "      <th></th>\n",
       "      <th></th>\n",
       "      <th></th>\n",
       "      <th></th>\n",
       "      <th></th>\n",
       "      <th></th>\n",
       "      <th></th>\n",
       "      <th></th>\n",
       "      <th></th>\n",
       "      <th></th>\n",
       "      <th></th>\n",
       "      <th></th>\n",
       "      <th></th>\n",
       "      <th></th>\n",
       "      <th></th>\n",
       "    </tr>\n",
       "  </thead>\n",
       "  <tbody>\n",
       "    <tr>\n",
       "      <th>309_1</th>\n",
       "      <td>0.503644</td>\n",
       "      <td>0.747193</td>\n",
       "      <td>0.430175</td>\n",
       "      <td>2.816329</td>\n",
       "      <td>5.990152</td>\n",
       "      <td>0.218830</td>\n",
       "      <td>0.177565</td>\n",
       "      <td>2.373744</td>\n",
       "      <td>0.232224</td>\n",
       "      <td>1.750936</td>\n",
       "      <td>...</td>\n",
       "      <td>0.108336</td>\n",
       "      <td>0.427099</td>\n",
       "      <td>0.114783</td>\n",
       "      <td>0.131790</td>\n",
       "      <td>0.128186</td>\n",
       "      <td>1.675652</td>\n",
       "      <td>Control</td>\n",
       "      <td>Memantine</td>\n",
       "      <td>C/S</td>\n",
       "      <td>c-CS-m</td>\n",
       "    </tr>\n",
       "    <tr>\n",
       "      <th>309_2</th>\n",
       "      <td>0.514617</td>\n",
       "      <td>0.689064</td>\n",
       "      <td>0.411770</td>\n",
       "      <td>2.789514</td>\n",
       "      <td>5.685038</td>\n",
       "      <td>0.211636</td>\n",
       "      <td>0.172817</td>\n",
       "      <td>2.292150</td>\n",
       "      <td>0.226972</td>\n",
       "      <td>1.596377</td>\n",
       "      <td>...</td>\n",
       "      <td>0.104315</td>\n",
       "      <td>0.441581</td>\n",
       "      <td>0.111974</td>\n",
       "      <td>0.135103</td>\n",
       "      <td>0.131119</td>\n",
       "      <td>1.743610</td>\n",
       "      <td>Control</td>\n",
       "      <td>Memantine</td>\n",
       "      <td>C/S</td>\n",
       "      <td>c-CS-m</td>\n",
       "    </tr>\n",
       "    <tr>\n",
       "      <th>309_3</th>\n",
       "      <td>0.509183</td>\n",
       "      <td>0.730247</td>\n",
       "      <td>0.418309</td>\n",
       "      <td>2.687201</td>\n",
       "      <td>5.622059</td>\n",
       "      <td>0.209011</td>\n",
       "      <td>0.175722</td>\n",
       "      <td>2.283337</td>\n",
       "      <td>0.230247</td>\n",
       "      <td>1.561316</td>\n",
       "      <td>...</td>\n",
       "      <td>0.106219</td>\n",
       "      <td>0.435777</td>\n",
       "      <td>0.111883</td>\n",
       "      <td>0.133362</td>\n",
       "      <td>0.127431</td>\n",
       "      <td>1.926427</td>\n",
       "      <td>Control</td>\n",
       "      <td>Memantine</td>\n",
       "      <td>C/S</td>\n",
       "      <td>c-CS-m</td>\n",
       "    </tr>\n",
       "    <tr>\n",
       "      <th>309_4</th>\n",
       "      <td>0.442107</td>\n",
       "      <td>0.617076</td>\n",
       "      <td>0.358626</td>\n",
       "      <td>2.466947</td>\n",
       "      <td>4.979503</td>\n",
       "      <td>0.222886</td>\n",
       "      <td>0.176463</td>\n",
       "      <td>2.152301</td>\n",
       "      <td>0.207004</td>\n",
       "      <td>1.595086</td>\n",
       "      <td>...</td>\n",
       "      <td>0.111262</td>\n",
       "      <td>0.391691</td>\n",
       "      <td>0.130405</td>\n",
       "      <td>0.147444</td>\n",
       "      <td>0.146901</td>\n",
       "      <td>1.700563</td>\n",
       "      <td>Control</td>\n",
       "      <td>Memantine</td>\n",
       "      <td>C/S</td>\n",
       "      <td>c-CS-m</td>\n",
       "    </tr>\n",
       "    <tr>\n",
       "      <th>309_5</th>\n",
       "      <td>0.434940</td>\n",
       "      <td>0.617430</td>\n",
       "      <td>0.358802</td>\n",
       "      <td>2.365785</td>\n",
       "      <td>4.718679</td>\n",
       "      <td>0.213106</td>\n",
       "      <td>0.173627</td>\n",
       "      <td>2.134014</td>\n",
       "      <td>0.192158</td>\n",
       "      <td>1.504230</td>\n",
       "      <td>...</td>\n",
       "      <td>0.110694</td>\n",
       "      <td>0.434154</td>\n",
       "      <td>0.118481</td>\n",
       "      <td>0.140314</td>\n",
       "      <td>0.148380</td>\n",
       "      <td>1.839730</td>\n",
       "      <td>Control</td>\n",
       "      <td>Memantine</td>\n",
       "      <td>C/S</td>\n",
       "      <td>c-CS-m</td>\n",
       "    </tr>\n",
       "  </tbody>\n",
       "</table>\n",
       "<p>5 rows × 81 columns</p>\n",
       "</div>"
      ],
      "text/plain": [
       "         DYRK1A_N   ITSN1_N    BDNF_N     NR1_N    NR2A_N    pAKT_N   pBRAF_N  \\\n",
       "MouseID                                                                         \n",
       "309_1    0.503644  0.747193  0.430175  2.816329  5.990152  0.218830  0.177565   \n",
       "309_2    0.514617  0.689064  0.411770  2.789514  5.685038  0.211636  0.172817   \n",
       "309_3    0.509183  0.730247  0.418309  2.687201  5.622059  0.209011  0.175722   \n",
       "309_4    0.442107  0.617076  0.358626  2.466947  4.979503  0.222886  0.176463   \n",
       "309_5    0.434940  0.617430  0.358802  2.365785  4.718679  0.213106  0.173627   \n",
       "\n",
       "         pCAMKII_N   pCREB_N    pELK_N   ...     pCFOS_N     SYP_N  H3AcK18_N  \\\n",
       "MouseID                                  ...                                    \n",
       "309_1     2.373744  0.232224  1.750936   ...    0.108336  0.427099   0.114783   \n",
       "309_2     2.292150  0.226972  1.596377   ...    0.104315  0.441581   0.111974   \n",
       "309_3     2.283337  0.230247  1.561316   ...    0.106219  0.435777   0.111883   \n",
       "309_4     2.152301  0.207004  1.595086   ...    0.111262  0.391691   0.130405   \n",
       "309_5     2.134014  0.192158  1.504230   ...    0.110694  0.434154   0.118481   \n",
       "\n",
       "           EGR1_N  H3MeK4_N    CaNA_N  Genotype  Treatment  Behavior   class  \n",
       "MouseID                                                                       \n",
       "309_1    0.131790  0.128186  1.675652   Control  Memantine       C/S  c-CS-m  \n",
       "309_2    0.135103  0.131119  1.743610   Control  Memantine       C/S  c-CS-m  \n",
       "309_3    0.133362  0.127431  1.926427   Control  Memantine       C/S  c-CS-m  \n",
       "309_4    0.147444  0.146901  1.700563   Control  Memantine       C/S  c-CS-m  \n",
       "309_5    0.140314  0.148380  1.839730   Control  Memantine       C/S  c-CS-m  \n",
       "\n",
       "[5 rows x 81 columns]"
      ]
     },
     "execution_count": 21,
     "metadata": {},
     "output_type": "execute_result"
    }
   ],
   "source": [
    "data.head()"
   ]
  },
  {
   "cell_type": "markdown",
   "metadata": {
    "slideshow": {
     "slide_type": "fragment"
    }
   },
   "source": [
    "TODO: 4. Split your data into X and y\n",
    "\n",
    "*tip* you can assign data to X and drop unnecessary columns via drop() method"
   ]
  },
  {
   "cell_type": "code",
   "execution_count": 22,
   "metadata": {},
   "outputs": [],
   "source": [
    "X = data.copy()\n",
    "X.drop(['Genotype', 'Treatment', 'Behavior', 'class'], axis=1, inplace=True)"
   ]
  },
  {
   "cell_type": "markdown",
   "metadata": {
    "slideshow": {
     "slide_type": "subslide"
    }
   },
   "source": [
    "TODO: 5. Decode Genotype: Control as 0, Ts65Dn as 1\n",
    "    \n",
    "*tip* example from the titanic dataset: sex decoding\n",
    "\n",
    "titanic.sex = titanic.sex.map({\"male\":0, \"female\":1})"
   ]
  },
  {
   "cell_type": "code",
   "execution_count": 23,
   "metadata": {
    "slideshow": {
     "slide_type": "fragment"
    }
   },
   "outputs": [],
   "source": [
    "y = data['Genotype']\n",
    "y = y.map({\"Control\":0, \"Ts65Dn\":1})"
   ]
  },
  {
   "cell_type": "markdown",
   "metadata": {
    "slideshow": {
     "slide_type": "subslide"
    }
   },
   "source": [
    "TODO: 6. Check NA values via count() and then drop columns with NaNs via dropna()\n",
    "\n",
    "*tip* check that you specify the correct axes to drop columns (and not rows)"
   ]
  },
  {
   "cell_type": "code",
   "execution_count": 24,
   "metadata": {
    "slideshow": {
     "slide_type": "fragment"
    }
   },
   "outputs": [
    {
     "data": {
      "text/html": [
       "<div>\n",
       "<style scoped>\n",
       "    .dataframe tbody tr th:only-of-type {\n",
       "        vertical-align: middle;\n",
       "    }\n",
       "\n",
       "    .dataframe tbody tr th {\n",
       "        vertical-align: top;\n",
       "    }\n",
       "\n",
       "    .dataframe thead th {\n",
       "        text-align: right;\n",
       "    }\n",
       "</style>\n",
       "<table border=\"1\" class=\"dataframe\">\n",
       "  <thead>\n",
       "    <tr style=\"text-align: right;\">\n",
       "      <th></th>\n",
       "      <th>DYRK1A_N</th>\n",
       "      <th>ITSN1_N</th>\n",
       "      <th>BDNF_N</th>\n",
       "      <th>NR1_N</th>\n",
       "      <th>NR2A_N</th>\n",
       "      <th>pAKT_N</th>\n",
       "      <th>pBRAF_N</th>\n",
       "      <th>pCAMKII_N</th>\n",
       "      <th>pCREB_N</th>\n",
       "      <th>pELK_N</th>\n",
       "      <th>...</th>\n",
       "      <th>SHH_N</th>\n",
       "      <th>BAD_N</th>\n",
       "      <th>BCL2_N</th>\n",
       "      <th>pS6_N</th>\n",
       "      <th>pCFOS_N</th>\n",
       "      <th>SYP_N</th>\n",
       "      <th>H3AcK18_N</th>\n",
       "      <th>EGR1_N</th>\n",
       "      <th>H3MeK4_N</th>\n",
       "      <th>CaNA_N</th>\n",
       "    </tr>\n",
       "    <tr>\n",
       "      <th>MouseID</th>\n",
       "      <th></th>\n",
       "      <th></th>\n",
       "      <th></th>\n",
       "      <th></th>\n",
       "      <th></th>\n",
       "      <th></th>\n",
       "      <th></th>\n",
       "      <th></th>\n",
       "      <th></th>\n",
       "      <th></th>\n",
       "      <th></th>\n",
       "      <th></th>\n",
       "      <th></th>\n",
       "      <th></th>\n",
       "      <th></th>\n",
       "      <th></th>\n",
       "      <th></th>\n",
       "      <th></th>\n",
       "      <th></th>\n",
       "      <th></th>\n",
       "      <th></th>\n",
       "    </tr>\n",
       "  </thead>\n",
       "  <tbody>\n",
       "    <tr>\n",
       "      <th>309_1</th>\n",
       "      <td>0.503644</td>\n",
       "      <td>0.747193</td>\n",
       "      <td>0.430175</td>\n",
       "      <td>2.816329</td>\n",
       "      <td>5.990152</td>\n",
       "      <td>0.218830</td>\n",
       "      <td>0.177565</td>\n",
       "      <td>2.373744</td>\n",
       "      <td>0.232224</td>\n",
       "      <td>1.750936</td>\n",
       "      <td>...</td>\n",
       "      <td>0.188852</td>\n",
       "      <td>0.122652</td>\n",
       "      <td>NaN</td>\n",
       "      <td>0.106305</td>\n",
       "      <td>0.108336</td>\n",
       "      <td>0.427099</td>\n",
       "      <td>0.114783</td>\n",
       "      <td>0.131790</td>\n",
       "      <td>0.128186</td>\n",
       "      <td>1.675652</td>\n",
       "    </tr>\n",
       "    <tr>\n",
       "      <th>309_2</th>\n",
       "      <td>0.514617</td>\n",
       "      <td>0.689064</td>\n",
       "      <td>0.411770</td>\n",
       "      <td>2.789514</td>\n",
       "      <td>5.685038</td>\n",
       "      <td>0.211636</td>\n",
       "      <td>0.172817</td>\n",
       "      <td>2.292150</td>\n",
       "      <td>0.226972</td>\n",
       "      <td>1.596377</td>\n",
       "      <td>...</td>\n",
       "      <td>0.200404</td>\n",
       "      <td>0.116682</td>\n",
       "      <td>NaN</td>\n",
       "      <td>0.106592</td>\n",
       "      <td>0.104315</td>\n",
       "      <td>0.441581</td>\n",
       "      <td>0.111974</td>\n",
       "      <td>0.135103</td>\n",
       "      <td>0.131119</td>\n",
       "      <td>1.743610</td>\n",
       "    </tr>\n",
       "    <tr>\n",
       "      <th>309_3</th>\n",
       "      <td>0.509183</td>\n",
       "      <td>0.730247</td>\n",
       "      <td>0.418309</td>\n",
       "      <td>2.687201</td>\n",
       "      <td>5.622059</td>\n",
       "      <td>0.209011</td>\n",
       "      <td>0.175722</td>\n",
       "      <td>2.283337</td>\n",
       "      <td>0.230247</td>\n",
       "      <td>1.561316</td>\n",
       "      <td>...</td>\n",
       "      <td>0.193685</td>\n",
       "      <td>0.118508</td>\n",
       "      <td>NaN</td>\n",
       "      <td>0.108303</td>\n",
       "      <td>0.106219</td>\n",
       "      <td>0.435777</td>\n",
       "      <td>0.111883</td>\n",
       "      <td>0.133362</td>\n",
       "      <td>0.127431</td>\n",
       "      <td>1.926427</td>\n",
       "    </tr>\n",
       "    <tr>\n",
       "      <th>309_4</th>\n",
       "      <td>0.442107</td>\n",
       "      <td>0.617076</td>\n",
       "      <td>0.358626</td>\n",
       "      <td>2.466947</td>\n",
       "      <td>4.979503</td>\n",
       "      <td>0.222886</td>\n",
       "      <td>0.176463</td>\n",
       "      <td>2.152301</td>\n",
       "      <td>0.207004</td>\n",
       "      <td>1.595086</td>\n",
       "      <td>...</td>\n",
       "      <td>0.192112</td>\n",
       "      <td>0.132781</td>\n",
       "      <td>NaN</td>\n",
       "      <td>0.103184</td>\n",
       "      <td>0.111262</td>\n",
       "      <td>0.391691</td>\n",
       "      <td>0.130405</td>\n",
       "      <td>0.147444</td>\n",
       "      <td>0.146901</td>\n",
       "      <td>1.700563</td>\n",
       "    </tr>\n",
       "    <tr>\n",
       "      <th>309_5</th>\n",
       "      <td>0.434940</td>\n",
       "      <td>0.617430</td>\n",
       "      <td>0.358802</td>\n",
       "      <td>2.365785</td>\n",
       "      <td>4.718679</td>\n",
       "      <td>0.213106</td>\n",
       "      <td>0.173627</td>\n",
       "      <td>2.134014</td>\n",
       "      <td>0.192158</td>\n",
       "      <td>1.504230</td>\n",
       "      <td>...</td>\n",
       "      <td>0.205604</td>\n",
       "      <td>0.129954</td>\n",
       "      <td>NaN</td>\n",
       "      <td>0.104784</td>\n",
       "      <td>0.110694</td>\n",
       "      <td>0.434154</td>\n",
       "      <td>0.118481</td>\n",
       "      <td>0.140314</td>\n",
       "      <td>0.148380</td>\n",
       "      <td>1.839730</td>\n",
       "    </tr>\n",
       "  </tbody>\n",
       "</table>\n",
       "<p>5 rows × 77 columns</p>\n",
       "</div>"
      ],
      "text/plain": [
       "         DYRK1A_N   ITSN1_N    BDNF_N     NR1_N    NR2A_N    pAKT_N   pBRAF_N  \\\n",
       "MouseID                                                                         \n",
       "309_1    0.503644  0.747193  0.430175  2.816329  5.990152  0.218830  0.177565   \n",
       "309_2    0.514617  0.689064  0.411770  2.789514  5.685038  0.211636  0.172817   \n",
       "309_3    0.509183  0.730247  0.418309  2.687201  5.622059  0.209011  0.175722   \n",
       "309_4    0.442107  0.617076  0.358626  2.466947  4.979503  0.222886  0.176463   \n",
       "309_5    0.434940  0.617430  0.358802  2.365785  4.718679  0.213106  0.173627   \n",
       "\n",
       "         pCAMKII_N   pCREB_N    pELK_N    ...        SHH_N     BAD_N  BCL2_N  \\\n",
       "MouseID                                   ...                                  \n",
       "309_1     2.373744  0.232224  1.750936    ...     0.188852  0.122652     NaN   \n",
       "309_2     2.292150  0.226972  1.596377    ...     0.200404  0.116682     NaN   \n",
       "309_3     2.283337  0.230247  1.561316    ...     0.193685  0.118508     NaN   \n",
       "309_4     2.152301  0.207004  1.595086    ...     0.192112  0.132781     NaN   \n",
       "309_5     2.134014  0.192158  1.504230    ...     0.205604  0.129954     NaN   \n",
       "\n",
       "            pS6_N   pCFOS_N     SYP_N  H3AcK18_N    EGR1_N  H3MeK4_N    CaNA_N  \n",
       "MouseID                                                                         \n",
       "309_1    0.106305  0.108336  0.427099   0.114783  0.131790  0.128186  1.675652  \n",
       "309_2    0.106592  0.104315  0.441581   0.111974  0.135103  0.131119  1.743610  \n",
       "309_3    0.108303  0.106219  0.435777   0.111883  0.133362  0.127431  1.926427  \n",
       "309_4    0.103184  0.111262  0.391691   0.130405  0.147444  0.146901  1.700563  \n",
       "309_5    0.104784  0.110694  0.434154   0.118481  0.140314  0.148380  1.839730  \n",
       "\n",
       "[5 rows x 77 columns]"
      ]
     },
     "execution_count": 24,
     "metadata": {},
     "output_type": "execute_result"
    }
   ],
   "source": [
    "X.head()"
   ]
  },
  {
   "cell_type": "code",
   "execution_count": 25,
   "metadata": {},
   "outputs": [
    {
     "data": {
      "text/html": [
       "<div>\n",
       "<style scoped>\n",
       "    .dataframe tbody tr th:only-of-type {\n",
       "        vertical-align: middle;\n",
       "    }\n",
       "\n",
       "    .dataframe tbody tr th {\n",
       "        vertical-align: top;\n",
       "    }\n",
       "\n",
       "    .dataframe thead th {\n",
       "        text-align: right;\n",
       "    }\n",
       "</style>\n",
       "<table border=\"1\" class=\"dataframe\">\n",
       "  <thead>\n",
       "    <tr style=\"text-align: right;\">\n",
       "      <th></th>\n",
       "      <th>DYRK1A_N</th>\n",
       "      <th>ITSN1_N</th>\n",
       "      <th>BDNF_N</th>\n",
       "      <th>NR1_N</th>\n",
       "      <th>NR2A_N</th>\n",
       "      <th>pAKT_N</th>\n",
       "      <th>pBRAF_N</th>\n",
       "      <th>pCAMKII_N</th>\n",
       "      <th>pCREB_N</th>\n",
       "      <th>pELK_N</th>\n",
       "      <th>...</th>\n",
       "      <th>P3525_N</th>\n",
       "      <th>pCASP9_N</th>\n",
       "      <th>PSD95_N</th>\n",
       "      <th>SNCA_N</th>\n",
       "      <th>Ubiquitin_N</th>\n",
       "      <th>pGSK3B_Tyr216_N</th>\n",
       "      <th>SHH_N</th>\n",
       "      <th>pS6_N</th>\n",
       "      <th>SYP_N</th>\n",
       "      <th>CaNA_N</th>\n",
       "    </tr>\n",
       "    <tr>\n",
       "      <th>MouseID</th>\n",
       "      <th></th>\n",
       "      <th></th>\n",
       "      <th></th>\n",
       "      <th></th>\n",
       "      <th></th>\n",
       "      <th></th>\n",
       "      <th></th>\n",
       "      <th></th>\n",
       "      <th></th>\n",
       "      <th></th>\n",
       "      <th></th>\n",
       "      <th></th>\n",
       "      <th></th>\n",
       "      <th></th>\n",
       "      <th></th>\n",
       "      <th></th>\n",
       "      <th></th>\n",
       "      <th></th>\n",
       "      <th></th>\n",
       "      <th></th>\n",
       "      <th></th>\n",
       "    </tr>\n",
       "  </thead>\n",
       "  <tbody>\n",
       "    <tr>\n",
       "      <th>309_1</th>\n",
       "      <td>0.503644</td>\n",
       "      <td>0.747193</td>\n",
       "      <td>0.430175</td>\n",
       "      <td>2.816329</td>\n",
       "      <td>5.990152</td>\n",
       "      <td>0.218830</td>\n",
       "      <td>0.177565</td>\n",
       "      <td>2.373744</td>\n",
       "      <td>0.232224</td>\n",
       "      <td>1.750936</td>\n",
       "      <td>...</td>\n",
       "      <td>0.247538</td>\n",
       "      <td>1.603310</td>\n",
       "      <td>2.014875</td>\n",
       "      <td>0.108234</td>\n",
       "      <td>1.044979</td>\n",
       "      <td>0.831557</td>\n",
       "      <td>0.188852</td>\n",
       "      <td>0.106305</td>\n",
       "      <td>0.427099</td>\n",
       "      <td>1.675652</td>\n",
       "    </tr>\n",
       "    <tr>\n",
       "      <th>309_2</th>\n",
       "      <td>0.514617</td>\n",
       "      <td>0.689064</td>\n",
       "      <td>0.411770</td>\n",
       "      <td>2.789514</td>\n",
       "      <td>5.685038</td>\n",
       "      <td>0.211636</td>\n",
       "      <td>0.172817</td>\n",
       "      <td>2.292150</td>\n",
       "      <td>0.226972</td>\n",
       "      <td>1.596377</td>\n",
       "      <td>...</td>\n",
       "      <td>0.257632</td>\n",
       "      <td>1.671738</td>\n",
       "      <td>2.004605</td>\n",
       "      <td>0.109749</td>\n",
       "      <td>1.009883</td>\n",
       "      <td>0.849270</td>\n",
       "      <td>0.200404</td>\n",
       "      <td>0.106592</td>\n",
       "      <td>0.441581</td>\n",
       "      <td>1.743610</td>\n",
       "    </tr>\n",
       "    <tr>\n",
       "      <th>309_3</th>\n",
       "      <td>0.509183</td>\n",
       "      <td>0.730247</td>\n",
       "      <td>0.418309</td>\n",
       "      <td>2.687201</td>\n",
       "      <td>5.622059</td>\n",
       "      <td>0.209011</td>\n",
       "      <td>0.175722</td>\n",
       "      <td>2.283337</td>\n",
       "      <td>0.230247</td>\n",
       "      <td>1.561316</td>\n",
       "      <td>...</td>\n",
       "      <td>0.255343</td>\n",
       "      <td>1.663550</td>\n",
       "      <td>2.016831</td>\n",
       "      <td>0.108196</td>\n",
       "      <td>0.996848</td>\n",
       "      <td>0.846709</td>\n",
       "      <td>0.193685</td>\n",
       "      <td>0.108303</td>\n",
       "      <td>0.435777</td>\n",
       "      <td>1.926427</td>\n",
       "    </tr>\n",
       "    <tr>\n",
       "      <th>309_4</th>\n",
       "      <td>0.442107</td>\n",
       "      <td>0.617076</td>\n",
       "      <td>0.358626</td>\n",
       "      <td>2.466947</td>\n",
       "      <td>4.979503</td>\n",
       "      <td>0.222886</td>\n",
       "      <td>0.176463</td>\n",
       "      <td>2.152301</td>\n",
       "      <td>0.207004</td>\n",
       "      <td>1.595086</td>\n",
       "      <td>...</td>\n",
       "      <td>0.251103</td>\n",
       "      <td>1.484624</td>\n",
       "      <td>1.957233</td>\n",
       "      <td>0.119883</td>\n",
       "      <td>0.990225</td>\n",
       "      <td>0.833277</td>\n",
       "      <td>0.192112</td>\n",
       "      <td>0.103184</td>\n",
       "      <td>0.391691</td>\n",
       "      <td>1.700563</td>\n",
       "    </tr>\n",
       "    <tr>\n",
       "      <th>309_5</th>\n",
       "      <td>0.434940</td>\n",
       "      <td>0.617430</td>\n",
       "      <td>0.358802</td>\n",
       "      <td>2.365785</td>\n",
       "      <td>4.718679</td>\n",
       "      <td>0.213106</td>\n",
       "      <td>0.173627</td>\n",
       "      <td>2.134014</td>\n",
       "      <td>0.192158</td>\n",
       "      <td>1.504230</td>\n",
       "      <td>...</td>\n",
       "      <td>0.251773</td>\n",
       "      <td>1.534835</td>\n",
       "      <td>2.009109</td>\n",
       "      <td>0.119524</td>\n",
       "      <td>0.997775</td>\n",
       "      <td>0.878668</td>\n",
       "      <td>0.205604</td>\n",
       "      <td>0.104784</td>\n",
       "      <td>0.434154</td>\n",
       "      <td>1.839730</td>\n",
       "    </tr>\n",
       "  </tbody>\n",
       "</table>\n",
       "<p>5 rows × 68 columns</p>\n",
       "</div>"
      ],
      "text/plain": [
       "         DYRK1A_N   ITSN1_N    BDNF_N     NR1_N    NR2A_N    pAKT_N   pBRAF_N  \\\n",
       "MouseID                                                                         \n",
       "309_1    0.503644  0.747193  0.430175  2.816329  5.990152  0.218830  0.177565   \n",
       "309_2    0.514617  0.689064  0.411770  2.789514  5.685038  0.211636  0.172817   \n",
       "309_3    0.509183  0.730247  0.418309  2.687201  5.622059  0.209011  0.175722   \n",
       "309_4    0.442107  0.617076  0.358626  2.466947  4.979503  0.222886  0.176463   \n",
       "309_5    0.434940  0.617430  0.358802  2.365785  4.718679  0.213106  0.173627   \n",
       "\n",
       "         pCAMKII_N   pCREB_N    pELK_N    ...      P3525_N  pCASP9_N  \\\n",
       "MouseID                                   ...                          \n",
       "309_1     2.373744  0.232224  1.750936    ...     0.247538  1.603310   \n",
       "309_2     2.292150  0.226972  1.596377    ...     0.257632  1.671738   \n",
       "309_3     2.283337  0.230247  1.561316    ...     0.255343  1.663550   \n",
       "309_4     2.152301  0.207004  1.595086    ...     0.251103  1.484624   \n",
       "309_5     2.134014  0.192158  1.504230    ...     0.251773  1.534835   \n",
       "\n",
       "          PSD95_N    SNCA_N  Ubiquitin_N  pGSK3B_Tyr216_N     SHH_N     pS6_N  \\\n",
       "MouseID                                                                         \n",
       "309_1    2.014875  0.108234     1.044979         0.831557  0.188852  0.106305   \n",
       "309_2    2.004605  0.109749     1.009883         0.849270  0.200404  0.106592   \n",
       "309_3    2.016831  0.108196     0.996848         0.846709  0.193685  0.108303   \n",
       "309_4    1.957233  0.119883     0.990225         0.833277  0.192112  0.103184   \n",
       "309_5    2.009109  0.119524     0.997775         0.878668  0.205604  0.104784   \n",
       "\n",
       "            SYP_N    CaNA_N  \n",
       "MouseID                      \n",
       "309_1    0.427099  1.675652  \n",
       "309_2    0.441581  1.743610  \n",
       "309_3    0.435777  1.926427  \n",
       "309_4    0.391691  1.700563  \n",
       "309_5    0.434154  1.839730  \n",
       "\n",
       "[5 rows x 68 columns]"
      ]
     },
     "execution_count": 25,
     "metadata": {},
     "output_type": "execute_result"
    }
   ],
   "source": [
    "X.dropna(axis=1, inplace=True)\n",
    "X.head()"
   ]
  },
  {
   "cell_type": "markdown",
   "metadata": {
    "slideshow": {
     "slide_type": "slide"
    }
   },
   "source": [
    "# Cross-validation"
   ]
  },
  {
   "cell_type": "code",
   "execution_count": 19,
   "metadata": {},
   "outputs": [],
   "source": [
    "import sklearn"
   ]
  },
  {
   "cell_type": "code",
   "execution_count": 20,
   "metadata": {
    "collapsed": true,
    "slideshow": {
     "slide_type": "fragment"
    }
   },
   "outputs": [],
   "source": [
    "import numpy as np\n",
    "from sklearn.linear_model import LogisticRegression, LogisticRegressionCV\n",
    "# LogisticRegressionCV automatically select regularization parameter C"
   ]
  },
  {
   "cell_type": "code",
   "execution_count": 24,
   "metadata": {
    "slideshow": {
     "slide_type": "subslide"
    }
   },
   "outputs": [
    {
     "name": "stdout",
     "output_type": "stream",
     "text": [
      "('Accuracy when trained on all dataset', 0.98328690807799446)\n"
     ]
    }
   ],
   "source": [
    "clf = LogisticRegressionCV()\n",
    "clf.fit(X, y)\n",
    "print('Accuracy when trained on all dataset', np.mean(clf.predict(X) == y))"
   ]
  },
  {
   "cell_type": "code",
   "execution_count": 22,
   "metadata": {
    "slideshow": {
     "slide_type": "subslide"
    }
   },
   "outputs": [],
   "source": [
    "from sklearn.model_selection import train_test_split"
   ]
  },
  {
   "cell_type": "code",
   "execution_count": 25,
   "metadata": {
    "slideshow": {
     "slide_type": "fragment"
    }
   },
   "outputs": [
    {
     "name": "stdout",
     "output_type": "stream",
     "text": [
      "('Accuracy when trained on a training subset', 0.97222222222222221)\n"
     ]
    }
   ],
   "source": [
    "X_train, X_test, y_train, y_test = train_test_split(X, y, test_size = 0.1, stratify = None, random_state = 0)\n",
    "\n",
    "# TODO: 7. Fit on train set & estimate accuracy on the test set\n",
    "clf = LogisticRegressionCV()\n",
    "clf.fit(X_train, y_train)\n",
    "y_pred = clf.predict(X_test)\n",
    "print('Accuracy when trained on a training subset', np.mean(y_pred == y_test))\n",
    "# error is a little bit higher"
   ]
  },
  {
   "cell_type": "markdown",
   "metadata": {
    "slideshow": {
     "slide_type": "slide"
    }
   },
   "source": [
    "## Kfolds CV\n",
    "\n",
    "Example of 5-fold\n",
    "\n",
    "<div style=\"width:60%; text-align:center\">\n",
    "<img src=http://vinhkhuc.github.io/assets/2015-03-01-cross-validation/5-fold-cv.png>\n",
    "</div>"
   ]
  },
  {
   "cell_type": "code",
   "execution_count": 26,
   "metadata": {
    "collapsed": true,
    "slideshow": {
     "slide_type": "subslide"
    }
   },
   "outputs": [],
   "source": [
    "from sklearn.model_selection import cross_val_score, KFold\n",
    "# KFold split your data\n",
    "# cross_val_score automatically builds K models and then estimates errors on the corresponding test sets"
   ]
  },
  {
   "cell_type": "code",
   "execution_count": 27,
   "metadata": {
    "slideshow": {
     "slide_type": "fragment"
    }
   },
   "outputs": [
    {
     "name": "stdout",
     "output_type": "stream",
     "text": [
      "KFold score: 0.298 ± 0.252\n"
     ]
    }
   ],
   "source": [
    "kfold = KFold(n_splits=5) # 5-fold CV\n",
    "cv = kfold.split(X, y) # show data & make the split\n",
    "\n",
    "clf = LogisticRegressionCV()\n",
    "scores = cross_val_score(clf, X, y, scoring='accuracy', cv=cv)\n",
    "print('KFold score: {0:.3f} ± {1:.3f}'.format(scores.mean(), scores.std()) )"
   ]
  },
  {
   "cell_type": "markdown",
   "metadata": {
    "slideshow": {
     "slide_type": "subslide"
    }
   },
   "source": [
    "#### Wow! Significant drop in accuracy and rise in std across folds.  The reason is that the labels are ordered"
   ]
  },
  {
   "cell_type": "code",
   "execution_count": 36,
   "metadata": {},
   "outputs": [
    {
     "data": {
      "text/plain": [
       "MouseID\n",
       "309_1       0\n",
       "309_2       0\n",
       "309_3       0\n",
       "309_4       0\n",
       "309_5       0\n",
       "309_6       0\n",
       "309_7       0\n",
       "309_8       0\n",
       "309_9       0\n",
       "309_10      0\n",
       "309_11      0\n",
       "309_12      0\n",
       "309_13      0\n",
       "309_14      0\n",
       "309_15      0\n",
       "311_1       0\n",
       "311_2       0\n",
       "311_3       0\n",
       "311_4       0\n",
       "311_5       0\n",
       "311_6       0\n",
       "311_7       0\n",
       "311_8       0\n",
       "311_9       0\n",
       "311_10      0\n",
       "311_11      0\n",
       "311_12      0\n",
       "311_13      0\n",
       "311_14      0\n",
       "311_15      0\n",
       "           ..\n",
       "J1291_1     1\n",
       "J1291_2     1\n",
       "J1291_3     1\n",
       "J1291_4     1\n",
       "J1291_5     1\n",
       "J1291_6     1\n",
       "J1291_7     1\n",
       "J1291_8     1\n",
       "J1291_9     1\n",
       "J1291_10    1\n",
       "J1291_11    1\n",
       "J1291_12    1\n",
       "J1291_13    1\n",
       "J1291_14    1\n",
       "J1291_15    1\n",
       "J3295_1     1\n",
       "J3295_2     1\n",
       "J3295_3     1\n",
       "J3295_4     1\n",
       "J3295_5     1\n",
       "J3295_6     1\n",
       "J3295_7     1\n",
       "J3295_8     1\n",
       "J3295_9     1\n",
       "J3295_10    1\n",
       "J3295_11    1\n",
       "J3295_12    1\n",
       "J3295_13    1\n",
       "J3295_14    1\n",
       "J3295_15    1\n",
       "Name: Genotype, dtype: int64"
      ]
     },
     "execution_count": 36,
     "metadata": {},
     "output_type": "execute_result"
    }
   ],
   "source": [
    "# check the order\n",
    "y"
   ]
  },
  {
   "cell_type": "code",
   "execution_count": 28,
   "metadata": {
    "slideshow": {
     "slide_type": "fragment"
    }
   },
   "outputs": [
    {
     "name": "stdout",
     "output_type": "stream",
     "text": [
      "Shuffled KFold score: 0.964 ± 0.012\n"
     ]
    }
   ],
   "source": [
    "# TODO: 8. Try KFold with shuffle=True \n",
    "kfold = KFold(n_splits=5, shuffle=True)\n",
    "cv = kfold.split(X, y)\n",
    "\n",
    "clf = LogisticRegressionCV()\n",
    "scores = cross_val_score(clf, X, y, scoring='accuracy', cv=cv)\n",
    "print('Shuffled KFold score: {0:.3f} ± {1:.3f}'.format(scores.mean(), scores.std()) )"
   ]
  },
  {
   "cell_type": "markdown",
   "metadata": {},
   "source": [
    "#### So, we restore our good accuracy "
   ]
  },
  {
   "cell_type": "markdown",
   "metadata": {
    "slideshow": {
     "slide_type": "slide"
    }
   },
   "source": [
    "## Label(Group) split"
   ]
  },
  {
   "cell_type": "markdown",
   "metadata": {
    "slideshow": {
     "slide_type": "subslide"
    }
   },
   "source": [
    "#### We have 15 measurments per mouse in the dataset, and our validation scheme doesn't take this fact into account. Let's fix that using group split"
   ]
  },
  {
   "cell_type": "code",
   "execution_count": 29,
   "metadata": {},
   "outputs": [
    {
     "data": {
      "text/html": [
       "<div>\n",
       "<table border=\"1\" class=\"dataframe\">\n",
       "  <thead>\n",
       "    <tr style=\"text-align: right;\">\n",
       "      <th></th>\n",
       "      <th>DYRK1A_N</th>\n",
       "      <th>ITSN1_N</th>\n",
       "      <th>BDNF_N</th>\n",
       "      <th>NR1_N</th>\n",
       "      <th>NR2A_N</th>\n",
       "      <th>pAKT_N</th>\n",
       "      <th>pBRAF_N</th>\n",
       "      <th>pCAMKII_N</th>\n",
       "      <th>pCREB_N</th>\n",
       "      <th>pELK_N</th>\n",
       "      <th>...</th>\n",
       "      <th>P3525_N</th>\n",
       "      <th>pCASP9_N</th>\n",
       "      <th>PSD95_N</th>\n",
       "      <th>SNCA_N</th>\n",
       "      <th>Ubiquitin_N</th>\n",
       "      <th>pGSK3B_Tyr216_N</th>\n",
       "      <th>SHH_N</th>\n",
       "      <th>pS6_N</th>\n",
       "      <th>SYP_N</th>\n",
       "      <th>CaNA_N</th>\n",
       "    </tr>\n",
       "    <tr>\n",
       "      <th>MouseID</th>\n",
       "      <th></th>\n",
       "      <th></th>\n",
       "      <th></th>\n",
       "      <th></th>\n",
       "      <th></th>\n",
       "      <th></th>\n",
       "      <th></th>\n",
       "      <th></th>\n",
       "      <th></th>\n",
       "      <th></th>\n",
       "      <th></th>\n",
       "      <th></th>\n",
       "      <th></th>\n",
       "      <th></th>\n",
       "      <th></th>\n",
       "      <th></th>\n",
       "      <th></th>\n",
       "      <th></th>\n",
       "      <th></th>\n",
       "      <th></th>\n",
       "      <th></th>\n",
       "    </tr>\n",
       "  </thead>\n",
       "  <tbody>\n",
       "    <tr>\n",
       "      <th>309_1</th>\n",
       "      <td>0.503644</td>\n",
       "      <td>0.747193</td>\n",
       "      <td>0.430175</td>\n",
       "      <td>2.816329</td>\n",
       "      <td>5.990152</td>\n",
       "      <td>0.218830</td>\n",
       "      <td>0.177565</td>\n",
       "      <td>2.373744</td>\n",
       "      <td>0.232224</td>\n",
       "      <td>1.750936</td>\n",
       "      <td>...</td>\n",
       "      <td>0.247538</td>\n",
       "      <td>1.603310</td>\n",
       "      <td>2.014875</td>\n",
       "      <td>0.108234</td>\n",
       "      <td>1.044979</td>\n",
       "      <td>0.831557</td>\n",
       "      <td>0.188852</td>\n",
       "      <td>0.106305</td>\n",
       "      <td>0.427099</td>\n",
       "      <td>1.675652</td>\n",
       "    </tr>\n",
       "    <tr>\n",
       "      <th>309_2</th>\n",
       "      <td>0.514617</td>\n",
       "      <td>0.689064</td>\n",
       "      <td>0.411770</td>\n",
       "      <td>2.789514</td>\n",
       "      <td>5.685038</td>\n",
       "      <td>0.211636</td>\n",
       "      <td>0.172817</td>\n",
       "      <td>2.292150</td>\n",
       "      <td>0.226972</td>\n",
       "      <td>1.596377</td>\n",
       "      <td>...</td>\n",
       "      <td>0.257632</td>\n",
       "      <td>1.671738</td>\n",
       "      <td>2.004605</td>\n",
       "      <td>0.109749</td>\n",
       "      <td>1.009883</td>\n",
       "      <td>0.849270</td>\n",
       "      <td>0.200404</td>\n",
       "      <td>0.106592</td>\n",
       "      <td>0.441581</td>\n",
       "      <td>1.743610</td>\n",
       "    </tr>\n",
       "    <tr>\n",
       "      <th>309_3</th>\n",
       "      <td>0.509183</td>\n",
       "      <td>0.730247</td>\n",
       "      <td>0.418309</td>\n",
       "      <td>2.687201</td>\n",
       "      <td>5.622059</td>\n",
       "      <td>0.209011</td>\n",
       "      <td>0.175722</td>\n",
       "      <td>2.283337</td>\n",
       "      <td>0.230247</td>\n",
       "      <td>1.561316</td>\n",
       "      <td>...</td>\n",
       "      <td>0.255343</td>\n",
       "      <td>1.663550</td>\n",
       "      <td>2.016831</td>\n",
       "      <td>0.108196</td>\n",
       "      <td>0.996848</td>\n",
       "      <td>0.846709</td>\n",
       "      <td>0.193685</td>\n",
       "      <td>0.108303</td>\n",
       "      <td>0.435777</td>\n",
       "      <td>1.926427</td>\n",
       "    </tr>\n",
       "    <tr>\n",
       "      <th>309_4</th>\n",
       "      <td>0.442107</td>\n",
       "      <td>0.617076</td>\n",
       "      <td>0.358626</td>\n",
       "      <td>2.466947</td>\n",
       "      <td>4.979503</td>\n",
       "      <td>0.222886</td>\n",
       "      <td>0.176463</td>\n",
       "      <td>2.152301</td>\n",
       "      <td>0.207004</td>\n",
       "      <td>1.595086</td>\n",
       "      <td>...</td>\n",
       "      <td>0.251103</td>\n",
       "      <td>1.484624</td>\n",
       "      <td>1.957233</td>\n",
       "      <td>0.119883</td>\n",
       "      <td>0.990225</td>\n",
       "      <td>0.833277</td>\n",
       "      <td>0.192112</td>\n",
       "      <td>0.103184</td>\n",
       "      <td>0.391691</td>\n",
       "      <td>1.700563</td>\n",
       "    </tr>\n",
       "    <tr>\n",
       "      <th>309_5</th>\n",
       "      <td>0.434940</td>\n",
       "      <td>0.617430</td>\n",
       "      <td>0.358802</td>\n",
       "      <td>2.365785</td>\n",
       "      <td>4.718679</td>\n",
       "      <td>0.213106</td>\n",
       "      <td>0.173627</td>\n",
       "      <td>2.134014</td>\n",
       "      <td>0.192158</td>\n",
       "      <td>1.504230</td>\n",
       "      <td>...</td>\n",
       "      <td>0.251773</td>\n",
       "      <td>1.534835</td>\n",
       "      <td>2.009109</td>\n",
       "      <td>0.119524</td>\n",
       "      <td>0.997775</td>\n",
       "      <td>0.878668</td>\n",
       "      <td>0.205604</td>\n",
       "      <td>0.104784</td>\n",
       "      <td>0.434154</td>\n",
       "      <td>1.839730</td>\n",
       "    </tr>\n",
       "    <tr>\n",
       "      <th>309_6</th>\n",
       "      <td>0.447506</td>\n",
       "      <td>0.628176</td>\n",
       "      <td>0.367388</td>\n",
       "      <td>2.385939</td>\n",
       "      <td>4.807635</td>\n",
       "      <td>0.218578</td>\n",
       "      <td>0.176233</td>\n",
       "      <td>2.141282</td>\n",
       "      <td>0.195188</td>\n",
       "      <td>1.442398</td>\n",
       "      <td>...</td>\n",
       "      <td>0.244485</td>\n",
       "      <td>1.507777</td>\n",
       "      <td>2.003535</td>\n",
       "      <td>0.120687</td>\n",
       "      <td>0.920178</td>\n",
       "      <td>0.843679</td>\n",
       "      <td>0.190469</td>\n",
       "      <td>0.106476</td>\n",
       "      <td>0.439833</td>\n",
       "      <td>1.816389</td>\n",
       "    </tr>\n",
       "    <tr>\n",
       "      <th>309_7</th>\n",
       "      <td>0.428033</td>\n",
       "      <td>0.573696</td>\n",
       "      <td>0.342709</td>\n",
       "      <td>2.334224</td>\n",
       "      <td>4.473130</td>\n",
       "      <td>0.225173</td>\n",
       "      <td>0.184004</td>\n",
       "      <td>2.012414</td>\n",
       "      <td>0.195789</td>\n",
       "      <td>1.612036</td>\n",
       "      <td>...</td>\n",
       "      <td>0.238006</td>\n",
       "      <td>1.338782</td>\n",
       "      <td>1.861708</td>\n",
       "      <td>0.117041</td>\n",
       "      <td>1.028770</td>\n",
       "      <td>0.798284</td>\n",
       "      <td>0.181610</td>\n",
       "      <td>0.097834</td>\n",
       "      <td>0.406293</td>\n",
       "      <td>1.528484</td>\n",
       "    </tr>\n",
       "    <tr>\n",
       "      <th>309_8</th>\n",
       "      <td>0.416923</td>\n",
       "      <td>0.564036</td>\n",
       "      <td>0.327703</td>\n",
       "      <td>2.260135</td>\n",
       "      <td>4.268735</td>\n",
       "      <td>0.214834</td>\n",
       "      <td>0.179668</td>\n",
       "      <td>2.007985</td>\n",
       "      <td>0.189803</td>\n",
       "      <td>1.424601</td>\n",
       "      <td>...</td>\n",
       "      <td>0.241435</td>\n",
       "      <td>1.386076</td>\n",
       "      <td>1.969451</td>\n",
       "      <td>0.116878</td>\n",
       "      <td>0.943544</td>\n",
       "      <td>0.843966</td>\n",
       "      <td>0.191561</td>\n",
       "      <td>0.099494</td>\n",
       "      <td>0.382532</td>\n",
       "      <td>1.652658</td>\n",
       "    </tr>\n",
       "    <tr>\n",
       "      <th>309_9</th>\n",
       "      <td>0.386311</td>\n",
       "      <td>0.538428</td>\n",
       "      <td>0.317720</td>\n",
       "      <td>2.125725</td>\n",
       "      <td>4.063950</td>\n",
       "      <td>0.207222</td>\n",
       "      <td>0.167778</td>\n",
       "      <td>1.861514</td>\n",
       "      <td>0.180684</td>\n",
       "      <td>1.261891</td>\n",
       "      <td>...</td>\n",
       "      <td>0.236015</td>\n",
       "      <td>1.404178</td>\n",
       "      <td>1.958736</td>\n",
       "      <td>0.113864</td>\n",
       "      <td>0.946910</td>\n",
       "      <td>0.832182</td>\n",
       "      <td>0.186378</td>\n",
       "      <td>0.105145</td>\n",
       "      <td>0.435687</td>\n",
       "      <td>1.834599</td>\n",
       "    </tr>\n",
       "    <tr>\n",
       "      <th>309_10</th>\n",
       "      <td>0.380827</td>\n",
       "      <td>0.499294</td>\n",
       "      <td>0.362462</td>\n",
       "      <td>2.096266</td>\n",
       "      <td>3.598587</td>\n",
       "      <td>0.227649</td>\n",
       "      <td>0.188093</td>\n",
       "      <td>1.717861</td>\n",
       "      <td>0.188093</td>\n",
       "      <td>1.414329</td>\n",
       "      <td>...</td>\n",
       "      <td>0.244829</td>\n",
       "      <td>1.288669</td>\n",
       "      <td>1.818907</td>\n",
       "      <td>0.139951</td>\n",
       "      <td>0.970324</td>\n",
       "      <td>0.803395</td>\n",
       "      <td>0.189523</td>\n",
       "      <td>0.093300</td>\n",
       "      <td>0.414793</td>\n",
       "      <td>1.516862</td>\n",
       "    </tr>\n",
       "    <tr>\n",
       "      <th>309_11</th>\n",
       "      <td>0.366511</td>\n",
       "      <td>0.513278</td>\n",
       "      <td>0.327792</td>\n",
       "      <td>2.072572</td>\n",
       "      <td>3.661058</td>\n",
       "      <td>0.229475</td>\n",
       "      <td>0.193797</td>\n",
       "      <td>1.724508</td>\n",
       "      <td>0.185283</td>\n",
       "      <td>1.318670</td>\n",
       "      <td>...</td>\n",
       "      <td>0.250628</td>\n",
       "      <td>1.326708</td>\n",
       "      <td>1.861549</td>\n",
       "      <td>0.126799</td>\n",
       "      <td>0.940370</td>\n",
       "      <td>0.842472</td>\n",
       "      <td>0.190770</td>\n",
       "      <td>0.094357</td>\n",
       "      <td>0.385424</td>\n",
       "      <td>1.613548</td>\n",
       "    </tr>\n",
       "    <tr>\n",
       "      <th>309_12</th>\n",
       "      <td>0.364154</td>\n",
       "      <td>0.499411</td>\n",
       "      <td>0.355124</td>\n",
       "      <td>2.006871</td>\n",
       "      <td>3.466627</td>\n",
       "      <td>0.216333</td>\n",
       "      <td>0.204358</td>\n",
       "      <td>1.672556</td>\n",
       "      <td>0.190224</td>\n",
       "      <td>1.166078</td>\n",
       "      <td>...</td>\n",
       "      <td>0.249704</td>\n",
       "      <td>1.303052</td>\n",
       "      <td>1.913532</td>\n",
       "      <td>0.124202</td>\n",
       "      <td>0.911521</td>\n",
       "      <td>0.836172</td>\n",
       "      <td>0.194819</td>\n",
       "      <td>0.098415</td>\n",
       "      <td>0.442394</td>\n",
       "      <td>1.722971</td>\n",
       "    </tr>\n",
       "    <tr>\n",
       "      <th>309_13</th>\n",
       "      <td>0.364873</td>\n",
       "      <td>0.482102</td>\n",
       "      <td>0.312539</td>\n",
       "      <td>1.946201</td>\n",
       "      <td>3.349592</td>\n",
       "      <td>0.230898</td>\n",
       "      <td>0.188821</td>\n",
       "      <td>1.508687</td>\n",
       "      <td>0.171028</td>\n",
       "      <td>1.353360</td>\n",
       "      <td>...</td>\n",
       "      <td>0.277624</td>\n",
       "      <td>1.251934</td>\n",
       "      <td>1.760635</td>\n",
       "      <td>0.160773</td>\n",
       "      <td>0.997238</td>\n",
       "      <td>0.809807</td>\n",
       "      <td>0.203315</td>\n",
       "      <td>0.097652</td>\n",
       "      <td>0.440331</td>\n",
       "      <td>1.426934</td>\n",
       "    </tr>\n",
       "    <tr>\n",
       "      <th>309_14</th>\n",
       "      <td>0.381911</td>\n",
       "      <td>0.485914</td>\n",
       "      <td>0.310951</td>\n",
       "      <td>1.958907</td>\n",
       "      <td>3.349290</td>\n",
       "      <td>0.225800</td>\n",
       "      <td>0.188519</td>\n",
       "      <td>1.509002</td>\n",
       "      <td>0.179835</td>\n",
       "      <td>1.219657</td>\n",
       "      <td>...</td>\n",
       "      <td>0.252004</td>\n",
       "      <td>1.288708</td>\n",
       "      <td>1.792434</td>\n",
       "      <td>0.131346</td>\n",
       "      <td>0.980875</td>\n",
       "      <td>0.832794</td>\n",
       "      <td>0.190128</td>\n",
       "      <td>0.094642</td>\n",
       "      <td>0.422163</td>\n",
       "      <td>1.500070</td>\n",
       "    </tr>\n",
       "    <tr>\n",
       "      <th>309_15</th>\n",
       "      <td>0.374410</td>\n",
       "      <td>0.462313</td>\n",
       "      <td>0.344629</td>\n",
       "      <td>1.861162</td>\n",
       "      <td>3.287123</td>\n",
       "      <td>0.221811</td>\n",
       "      <td>0.185459</td>\n",
       "      <td>1.444239</td>\n",
       "      <td>0.176422</td>\n",
       "      <td>1.123023</td>\n",
       "      <td>...</td>\n",
       "      <td>0.249284</td>\n",
       "      <td>1.251289</td>\n",
       "      <td>1.764756</td>\n",
       "      <td>0.125501</td>\n",
       "      <td>0.942407</td>\n",
       "      <td>0.806160</td>\n",
       "      <td>0.193840</td>\n",
       "      <td>0.099140</td>\n",
       "      <td>0.446562</td>\n",
       "      <td>1.613897</td>\n",
       "    </tr>\n",
       "    <tr>\n",
       "      <th>311_1</th>\n",
       "      <td>0.743118</td>\n",
       "      <td>0.862653</td>\n",
       "      <td>0.377742</td>\n",
       "      <td>2.735757</td>\n",
       "      <td>6.067570</td>\n",
       "      <td>0.219049</td>\n",
       "      <td>0.185338</td>\n",
       "      <td>2.277492</td>\n",
       "      <td>0.194465</td>\n",
       "      <td>2.379508</td>\n",
       "      <td>...</td>\n",
       "      <td>0.233484</td>\n",
       "      <td>1.127408</td>\n",
       "      <td>1.683323</td>\n",
       "      <td>0.137880</td>\n",
       "      <td>1.177893</td>\n",
       "      <td>0.674984</td>\n",
       "      <td>0.178474</td>\n",
       "      <td>0.138655</td>\n",
       "      <td>0.440142</td>\n",
       "      <td>1.297220</td>\n",
       "    </tr>\n",
       "    <tr>\n",
       "      <th>311_2</th>\n",
       "      <td>0.711480</td>\n",
       "      <td>0.807054</td>\n",
       "      <td>0.351591</td>\n",
       "      <td>2.546888</td>\n",
       "      <td>5.595574</td>\n",
       "      <td>0.199170</td>\n",
       "      <td>0.165975</td>\n",
       "      <td>2.118811</td>\n",
       "      <td>0.174689</td>\n",
       "      <td>2.050484</td>\n",
       "      <td>...</td>\n",
       "      <td>0.235150</td>\n",
       "      <td>1.137010</td>\n",
       "      <td>1.693821</td>\n",
       "      <td>0.128837</td>\n",
       "      <td>1.115681</td>\n",
       "      <td>0.684252</td>\n",
       "      <td>0.176080</td>\n",
       "      <td>0.111362</td>\n",
       "      <td>0.454352</td>\n",
       "      <td>1.363189</td>\n",
       "    </tr>\n",
       "    <tr>\n",
       "      <th>311_3</th>\n",
       "      <td>0.704633</td>\n",
       "      <td>0.802537</td>\n",
       "      <td>0.350110</td>\n",
       "      <td>2.467733</td>\n",
       "      <td>5.548400</td>\n",
       "      <td>0.205323</td>\n",
       "      <td>0.165058</td>\n",
       "      <td>2.107281</td>\n",
       "      <td>0.171401</td>\n",
       "      <td>1.938913</td>\n",
       "      <td>...</td>\n",
       "      <td>0.237544</td>\n",
       "      <td>1.147983</td>\n",
       "      <td>1.791836</td>\n",
       "      <td>0.136339</td>\n",
       "      <td>1.044476</td>\n",
       "      <td>0.713851</td>\n",
       "      <td>0.174249</td>\n",
       "      <td>0.112036</td>\n",
       "      <td>0.454509</td>\n",
       "      <td>1.404481</td>\n",
       "    </tr>\n",
       "    <tr>\n",
       "      <th>311_4</th>\n",
       "      <td>0.677359</td>\n",
       "      <td>0.770235</td>\n",
       "      <td>0.356397</td>\n",
       "      <td>2.563223</td>\n",
       "      <td>4.975196</td>\n",
       "      <td>0.228087</td>\n",
       "      <td>0.186498</td>\n",
       "      <td>2.259045</td>\n",
       "      <td>0.190974</td>\n",
       "      <td>2.167848</td>\n",
       "      <td>...</td>\n",
       "      <td>0.229647</td>\n",
       "      <td>1.148732</td>\n",
       "      <td>1.636213</td>\n",
       "      <td>0.149975</td>\n",
       "      <td>1.090532</td>\n",
       "      <td>0.679241</td>\n",
       "      <td>0.195656</td>\n",
       "      <td>0.111507</td>\n",
       "      <td>0.458548</td>\n",
       "      <td>1.170038</td>\n",
       "    </tr>\n",
       "    <tr>\n",
       "      <th>311_5</th>\n",
       "      <td>0.591572</td>\n",
       "      <td>0.678768</td>\n",
       "      <td>0.312480</td>\n",
       "      <td>2.164182</td>\n",
       "      <td>4.313938</td>\n",
       "      <td>0.195786</td>\n",
       "      <td>0.161102</td>\n",
       "      <td>1.975689</td>\n",
       "      <td>0.161912</td>\n",
       "      <td>1.768720</td>\n",
       "      <td>...</td>\n",
       "      <td>0.228648</td>\n",
       "      <td>1.102087</td>\n",
       "      <td>1.657028</td>\n",
       "      <td>0.144162</td>\n",
       "      <td>1.020870</td>\n",
       "      <td>0.685693</td>\n",
       "      <td>0.188165</td>\n",
       "      <td>0.100578</td>\n",
       "      <td>0.425027</td>\n",
       "      <td>1.272986</td>\n",
       "    </tr>\n",
       "  </tbody>\n",
       "</table>\n",
       "<p>20 rows × 68 columns</p>\n",
       "</div>"
      ],
      "text/plain": [
       "         DYRK1A_N   ITSN1_N    BDNF_N     NR1_N    NR2A_N    pAKT_N   pBRAF_N  \\\n",
       "MouseID                                                                         \n",
       "309_1    0.503644  0.747193  0.430175  2.816329  5.990152  0.218830  0.177565   \n",
       "309_2    0.514617  0.689064  0.411770  2.789514  5.685038  0.211636  0.172817   \n",
       "309_3    0.509183  0.730247  0.418309  2.687201  5.622059  0.209011  0.175722   \n",
       "309_4    0.442107  0.617076  0.358626  2.466947  4.979503  0.222886  0.176463   \n",
       "309_5    0.434940  0.617430  0.358802  2.365785  4.718679  0.213106  0.173627   \n",
       "309_6    0.447506  0.628176  0.367388  2.385939  4.807635  0.218578  0.176233   \n",
       "309_7    0.428033  0.573696  0.342709  2.334224  4.473130  0.225173  0.184004   \n",
       "309_8    0.416923  0.564036  0.327703  2.260135  4.268735  0.214834  0.179668   \n",
       "309_9    0.386311  0.538428  0.317720  2.125725  4.063950  0.207222  0.167778   \n",
       "309_10   0.380827  0.499294  0.362462  2.096266  3.598587  0.227649  0.188093   \n",
       "309_11   0.366511  0.513278  0.327792  2.072572  3.661058  0.229475  0.193797   \n",
       "309_12   0.364154  0.499411  0.355124  2.006871  3.466627  0.216333  0.204358   \n",
       "309_13   0.364873  0.482102  0.312539  1.946201  3.349592  0.230898  0.188821   \n",
       "309_14   0.381911  0.485914  0.310951  1.958907  3.349290  0.225800  0.188519   \n",
       "309_15   0.374410  0.462313  0.344629  1.861162  3.287123  0.221811  0.185459   \n",
       "311_1    0.743118  0.862653  0.377742  2.735757  6.067570  0.219049  0.185338   \n",
       "311_2    0.711480  0.807054  0.351591  2.546888  5.595574  0.199170  0.165975   \n",
       "311_3    0.704633  0.802537  0.350110  2.467733  5.548400  0.205323  0.165058   \n",
       "311_4    0.677359  0.770235  0.356397  2.563223  4.975196  0.228087  0.186498   \n",
       "311_5    0.591572  0.678768  0.312480  2.164182  4.313938  0.195786  0.161102   \n",
       "\n",
       "         pCAMKII_N   pCREB_N    pELK_N    ...      P3525_N  pCASP9_N  \\\n",
       "MouseID                                   ...                          \n",
       "309_1     2.373744  0.232224  1.750936    ...     0.247538  1.603310   \n",
       "309_2     2.292150  0.226972  1.596377    ...     0.257632  1.671738   \n",
       "309_3     2.283337  0.230247  1.561316    ...     0.255343  1.663550   \n",
       "309_4     2.152301  0.207004  1.595086    ...     0.251103  1.484624   \n",
       "309_5     2.134014  0.192158  1.504230    ...     0.251773  1.534835   \n",
       "309_6     2.141282  0.195188  1.442398    ...     0.244485  1.507777   \n",
       "309_7     2.012414  0.195789  1.612036    ...     0.238006  1.338782   \n",
       "309_8     2.007985  0.189803  1.424601    ...     0.241435  1.386076   \n",
       "309_9     1.861514  0.180684  1.261891    ...     0.236015  1.404178   \n",
       "309_10    1.717861  0.188093  1.414329    ...     0.244829  1.288669   \n",
       "309_11    1.724508  0.185283  1.318670    ...     0.250628  1.326708   \n",
       "309_12    1.672556  0.190224  1.166078    ...     0.249704  1.303052   \n",
       "309_13    1.508687  0.171028  1.353360    ...     0.277624  1.251934   \n",
       "309_14    1.509002  0.179835  1.219657    ...     0.252004  1.288708   \n",
       "309_15    1.444239  0.176422  1.123023    ...     0.249284  1.251289   \n",
       "311_1     2.277492  0.194465  2.379508    ...     0.233484  1.127408   \n",
       "311_2     2.118811  0.174689  2.050484    ...     0.235150  1.137010   \n",
       "311_3     2.107281  0.171401  1.938913    ...     0.237544  1.147983   \n",
       "311_4     2.259045  0.190974  2.167848    ...     0.229647  1.148732   \n",
       "311_5     1.975689  0.161912  1.768720    ...     0.228648  1.102087   \n",
       "\n",
       "          PSD95_N    SNCA_N  Ubiquitin_N  pGSK3B_Tyr216_N     SHH_N     pS6_N  \\\n",
       "MouseID                                                                         \n",
       "309_1    2.014875  0.108234     1.044979         0.831557  0.188852  0.106305   \n",
       "309_2    2.004605  0.109749     1.009883         0.849270  0.200404  0.106592   \n",
       "309_3    2.016831  0.108196     0.996848         0.846709  0.193685  0.108303   \n",
       "309_4    1.957233  0.119883     0.990225         0.833277  0.192112  0.103184   \n",
       "309_5    2.009109  0.119524     0.997775         0.878668  0.205604  0.104784   \n",
       "309_6    2.003535  0.120687     0.920178         0.843679  0.190469  0.106476   \n",
       "309_7    1.861708  0.117041     1.028770         0.798284  0.181610  0.097834   \n",
       "309_8    1.969451  0.116878     0.943544         0.843966  0.191561  0.099494   \n",
       "309_9    1.958736  0.113864     0.946910         0.832182  0.186378  0.105145   \n",
       "309_10   1.818907  0.139951     0.970324         0.803395  0.189523  0.093300   \n",
       "309_11   1.861549  0.126799     0.940370         0.842472  0.190770  0.094357   \n",
       "309_12   1.913532  0.124202     0.911521         0.836172  0.194819  0.098415   \n",
       "309_13   1.760635  0.160773     0.997238         0.809807  0.203315  0.097652   \n",
       "309_14   1.792434  0.131346     0.980875         0.832794  0.190128  0.094642   \n",
       "309_15   1.764756  0.125501     0.942407         0.806160  0.193840  0.099140   \n",
       "311_1    1.683323  0.137880     1.177893         0.674984  0.178474  0.138655   \n",
       "311_2    1.693821  0.128837     1.115681         0.684252  0.176080  0.111362   \n",
       "311_3    1.791836  0.136339     1.044476         0.713851  0.174249  0.112036   \n",
       "311_4    1.636213  0.149975     1.090532         0.679241  0.195656  0.111507   \n",
       "311_5    1.657028  0.144162     1.020870         0.685693  0.188165  0.100578   \n",
       "\n",
       "            SYP_N    CaNA_N  \n",
       "MouseID                      \n",
       "309_1    0.427099  1.675652  \n",
       "309_2    0.441581  1.743610  \n",
       "309_3    0.435777  1.926427  \n",
       "309_4    0.391691  1.700563  \n",
       "309_5    0.434154  1.839730  \n",
       "309_6    0.439833  1.816389  \n",
       "309_7    0.406293  1.528484  \n",
       "309_8    0.382532  1.652658  \n",
       "309_9    0.435687  1.834599  \n",
       "309_10   0.414793  1.516862  \n",
       "309_11   0.385424  1.613548  \n",
       "309_12   0.442394  1.722971  \n",
       "309_13   0.440331  1.426934  \n",
       "309_14   0.422163  1.500070  \n",
       "309_15   0.446562  1.613897  \n",
       "311_1    0.440142  1.297220  \n",
       "311_2    0.454352  1.363189  \n",
       "311_3    0.454509  1.404481  \n",
       "311_4    0.458548  1.170038  \n",
       "311_5    0.425027  1.272986  \n",
       "\n",
       "[20 rows x 68 columns]"
      ]
     },
     "execution_count": 29,
     "metadata": {},
     "output_type": "execute_result"
    }
   ],
   "source": [
    "# 15 measurments for the same mouse seem to be correlated\n",
    "X.head(20)"
   ]
  },
  {
   "cell_type": "code",
   "execution_count": 30,
   "metadata": {
    "slideshow": {
     "slide_type": "fragment"
    }
   },
   "outputs": [
    {
     "data": {
      "text/plain": [
       "array([u'309', u'309', u'309', ..., u'J3295', u'J3295', u'J3295'], dtype=object)"
      ]
     },
     "execution_count": 30,
     "metadata": {},
     "output_type": "execute_result"
    }
   ],
   "source": [
    "# generat list of mice_ids\n",
    "mice_id = X.index.map(lambda x: x.split('_')[0])\n",
    "mice_id"
   ]
  },
  {
   "cell_type": "code",
   "execution_count": 31,
   "metadata": {
    "collapsed": true,
    "slideshow": {
     "slide_type": "subslide"
    }
   },
   "outputs": [],
   "source": [
    "from sklearn.model_selection import GroupKFold\n",
    "# GroupKFold allows to put all points with coincident labels into the single set (training one or validation one) "
   ]
  },
  {
   "cell_type": "code",
   "execution_count": 32,
   "metadata": {
    "slideshow": {
     "slide_type": "fragment"
    }
   },
   "outputs": [
    {
     "name": "stdout",
     "output_type": "stream",
     "text": [
      "LabelKFold score: 0.853 ± 0.098\n"
     ]
    }
   ],
   "source": [
    "group_kfold = GroupKFold(n_splits=5)\n",
    "cv = group_kfold.split(X, y, groups=mice_id) #we explicitly define our groups using mice_id\n",
    "\n",
    "scores = cross_val_score(clf, X, y, scoring='accuracy', cv=cv)\n",
    "print('LabelKFold score: {0:.3f} ± {1:.3f}'.format(scores.mean(), scores.std()) )"
   ]
  },
  {
   "cell_type": "markdown",
   "metadata": {
    "slideshow": {
     "slide_type": "fragment"
    }
   },
   "source": [
    "#### Classification accuracy is dropped. The reason is that there is no leak in our data anymore - we can't use data from \"validation\" mice during training"
   ]
  },
  {
   "cell_type": "markdown",
   "metadata": {
    "slideshow": {
     "slide_type": "subslide"
    }
   },
   "source": [
    "## Cross-validation: summary\n",
    "- Do not estimate accuracy on the train set, use a separate validation set\n",
    "- If your labels are ordered, don't forget to shuffle your data\n",
    "- If you have any groups in your dataset, you have to use GroupKFold to estimate quality of your model"
   ]
  },
  {
   "cell_type": "markdown",
   "metadata": {
    "slideshow": {
     "slide_type": "slide"
    }
   },
   "source": [
    "# Metrics for classification accuracy"
   ]
  },
  {
   "cell_type": "markdown",
   "metadata": {
    "slideshow": {
     "slide_type": "subslide"
    }
   },
   "source": [
    "## Precision & Recall\n",
    "A wonderfull picture from Wikipedia\n",
    "<div style=\"width:75%; text-align:center\">\n",
    "<img src=https://upload.wikimedia.org/wikipedia/commons/thumb/2/26/Precisionrecall.svg/525px-Precisionrecall.svg.png width=500px>\n",
    "</div>\n",
    "\n",
    "\n",
    "F1 = 2 \\* (precision \\* recall) / (precision + recall)"
   ]
  },
  {
   "cell_type": "code",
   "execution_count": 33,
   "metadata": {
    "slideshow": {
     "slide_type": "subslide"
    }
   },
   "outputs": [
    {
     "name": "stdout",
     "output_type": "stream",
     "text": [
      "             precision    recall  f1-score   support\n",
      "\n",
      "          0       0.73      0.56      0.63       570\n",
      "          1       0.61      0.77      0.68       507\n",
      "\n",
      "avg / total       0.67      0.66      0.65      1077\n",
      "\n"
     ]
    }
   ],
   "source": [
    "from sklearn.cross_validation import cross_val_predict\n",
    "# cross_val_predict internally do KFold cross-validation, calculate predictions on validation sets\n",
    "# and then merge predictions into a single vector of predictions\n",
    "from sklearn.metrics import classification_report\n",
    "#classification_report gives several quality metrics. It can be used for multiclass problems\n",
    "\n",
    "y_pred = cross_val_predict(LogisticRegressionCV(), X, y)\n",
    "print(classification_report(y, y_pred))"
   ]
  },
  {
   "cell_type": "markdown",
   "metadata": {
    "slideshow": {
     "slide_type": "fragment"
    }
   },
   "source": [
    "####  By default cross_val_predict use KFold without suffle, so the quality is dropped again. We can explicitly specify the correct CV scheme"
   ]
  },
  {
   "cell_type": "code",
   "execution_count": 34,
   "metadata": {
    "slideshow": {
     "slide_type": "fragment"
    }
   },
   "outputs": [
    {
     "name": "stdout",
     "output_type": "stream",
     "text": [
      "             precision    recall  f1-score   support\n",
      "\n",
      "          0       0.90      0.82      0.85       570\n",
      "          1       0.81      0.90      0.85       507\n",
      "\n",
      "avg / total       0.86      0.85      0.85      1077\n",
      "\n"
     ]
    }
   ],
   "source": [
    "# new-style sklearn interface:\n",
    "kfold = GroupKFold(n_splits=5)\n",
    "y_pred = cross_val_predict(LogisticRegressionCV(), X, y, cv=kfold.split(X, y, mice_id))\n",
    "print(classification_report(y, y_pred))"
   ]
  },
  {
   "cell_type": "markdown",
   "metadata": {},
   "source": [
    "# Links\n",
    " - [A blog post on cross validation](http://sebastianraschka.com/blog/2016/model-evaluation-selection-part3.html)\n",
    " - Also, check out two other posts from the same series \"Model evaluation, model selection, and algorithm selection in machine learning\": [The basics](http://sebastianraschka.com/blog/2016/model-evaluation-selection-part1.html) and [Bootstrapping and uncertainties](http://sebastianraschka.com/blog/2016/model-evaluation-selection-part2.html)"
   ]
  }
 ],
 "metadata": {
  "anaconda-cloud": {},
  "celltoolbar": "Slideshow",
  "kernelspec": {
   "display_name": "Python 3",
   "language": "python",
   "name": "python3"
  },
  "language_info": {
   "codemirror_mode": {
    "name": "ipython",
    "version": 3
   },
   "file_extension": ".py",
   "mimetype": "text/x-python",
   "name": "python",
   "nbconvert_exporter": "python",
   "pygments_lexer": "ipython3",
   "version": "3.6.8"
  }
 },
 "nbformat": 4,
 "nbformat_minor": 1
}
