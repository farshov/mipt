{
 "cells": [
  {
   "cell_type": "markdown",
   "metadata": {},
   "source": [
    "# Персептрон и алгоритм обратного распространения ошибки.  "
   ]
  },
  {
   "cell_type": "markdown",
   "metadata": {},
   "source": [
    "Illustration of the Mark 1 perceptron hardware (1960).\n",
    "\n",
    "<img src=\"./imgs/0.png\">\n",
    "The photograph on the left shows how the inputs were obtained using a simple camera system in which an input scene, in this case a printed character, was illuminated by powerful lights, and an image focussed onto a 20 × 20 array of cadmium sulphide photocells, giving a primitive 400 pixel image. \n",
    "<img src=\"./imgs/1.png\">\n",
    "The perceptron also had a patch board, shown in the middle photograph,\n",
    "which allowed different configurations of input features to be tried. Often these were wired up at random to demonstrate the ability of the perceptron to learn without the need for precise wiring, in contrast to a modern digital computer. \n",
    "\n",
    "<img src=\"./imgs/2.png\">\n",
    "The photograph on the right shows one of the racks of adaptive weights. Each weight was\n",
    "implemented using a rotary variable resistor, also called a potentiometer, driven by an electric motor thereby\n",
    "allowing the value of the weight to be adjusted automatically by the learning algorithm.\n",
    "\n",
    "<img src=\"./imgs/2.jpg\">\n",
    "The Mark 1 Perceptron (Source: Arvin Calspan Advanced Technology Center; Hecht-Nielsen, R. Neurocomputing (Reading, Mass.: Addison-Wesley, 1990).)\n",
    "\n"
   ]
  },
  {
   "cell_type": "markdown",
   "metadata": {
    "collapsed": true
   },
   "source": [
    "# Многослойный перцептрон"
   ]
  },
  {
   "cell_type": "markdown",
   "metadata": {
    "collapsed": true
   },
   "source": [
    "<img src=\"./imgs/3.png\" width=400>"
   ]
  },
  {
   "cell_type": "markdown",
   "metadata": {},
   "source": [
    "$$\n",
    "\\large\n",
    "\\large OUT(x) = softmax(D_2(\\vec{x})) \\\\\n",
    "\\large D_2(\\vec{x}) = \\theta_2 + W_2 A_1(\\vec{x}) \\\\\n",
    "\\large A_1(x) = ReLU(0, D_1(\\vec{x})) \\\\\n",
    "\\large D_1(\\vec{x}) = \\theta_1 + W_1 \\vec{x}\n",
    "$$\n",
    "\n",
    "Каждая сеть представима в виде акцикличного графа вычислений над тензорами. **Тензор** - в случае нейронных сетей это просто многомерный массив. В узлах графа находятся функции, осуществляющие операции. В техминах нейронных сетей вычислительные узлы называют **слоями**. В данной сети есть слои следующих видов:\n",
    "- dense (D) - полносвязный слой\n",
    "- ReLU(0,x) - слой нелинейной активации\n",
    "- softmax - softmax \n",
    "- loss - функционал потерь, котороый тоже стоит рассматривать как слой.\n",
    "\n",
    "Обычно граф вычислений рисуется следующим образом"
   ]
  },
  {
   "cell_type": "markdown",
   "metadata": {},
   "source": [
    "<img src=\"./imgs/4.png\" width=700>"
   ]
  },
  {
   "cell_type": "markdown",
   "metadata": {},
   "source": [
    "Так как мы говорим про задачу многоклассовой классификации, то на выходе сети мы ожидаем набор вероятностей $p_i$, такие что $\\sum p_j = 1$. Для реализации этого используется softmax слой, физический смысл которого эквивалентен сигмойду в задаче бинарной классификации\n",
    "$$\n",
    "\\large softmax_i = p_i = \\frac{e^{a_i}}{\\sum_j e^{a_j}} \\\\\n",
    "$$"
   ]
  },
  {
   "cell_type": "markdown",
   "metadata": {},
   "source": [
    "# Loss функция"
   ]
  },
  {
   "cell_type": "markdown",
   "metadata": {},
   "source": [
    "Для того, чтобы получить loss функцию для нейронной сети, рассмотрим понятие перекрестной энтропии:\n",
    "$$\n",
    "\\large H(p, q) = \\operatorname{E}_p[-\\log q] = H(p) + D_{\\mathrm{KL}}(p \\| q)=-\\sum_x p(x)\\log q(x)\n",
    "$$\n",
    "где $D_{\\mathrm{KL}}(p||q)$ - расстояние Ку́льбака—Ле́йблера\n",
    "$$\n",
    "\\large D_{\\mathrm{KL}}(p||q)=\\sum \\limits _{i=1}^{n}p_{i}\\log {\\frac {p_{i}}{q_{i}}}\n",
    "$$\n",
    "Значение этого функционала можно понимать как количество неучтённой информации распределения $P$, если $Q$ было использовано для приближения $P$.\n",
    "\n",
    "Можно показать, что оптимизация кросс-энтропии в задаче многоклассовой оптимизации эквивалентно оптимизации правдоподобия.  Таким образом, loss для нашей сети будет:\n",
    "$$\n",
    "\\large L = -\\sum_i y_i \\log \\hat{y}_i\n",
    "$$"
   ]
  },
  {
   "cell_type": "markdown",
   "metadata": {},
   "source": [
    "# Концепция автоматического дифференцирования"
   ]
  },
  {
   "cell_type": "markdown",
   "metadata": {},
   "source": [
    "Давайте переместимся в слайды )\n",
    "<img src=\"./imgs/5.png\" width=700>"
   ]
  },
  {
   "cell_type": "markdown",
   "metadata": {},
   "source": [
    "# Обучаем персептрон"
   ]
  },
  {
   "cell_type": "markdown",
   "metadata": {},
   "source": [
    "Задача: нужно реализовать двухслойный персептрон и обучить его на наборе MNIST"
   ]
  },
  {
   "cell_type": "code",
   "execution_count": 2,
   "metadata": {},
   "outputs": [],
   "source": [
    "import numpy as np\n",
    "import matplotlib.pyplot as plt\n",
    "%matplotlib inline"
   ]
  },
  {
   "cell_type": "markdown",
   "metadata": {},
   "source": [
    "### Полносвязный слой (Dense)"
   ]
  },
  {
   "cell_type": "code",
   "execution_count": 10,
   "metadata": {},
   "outputs": [],
   "source": [
    "class Dense:\n",
    "    def __init__(self, in_size, out_size, rlambda = 0.0):\n",
    "        self.W = np.random.normal(scale=1, size=(out_size, in_size))* np.sqrt(2 / in_size)\n",
    "        self.b = np.zeros(out_size)\n",
    "        self.rlambda = rlambda\n",
    "        \n",
    "    def forward(self, x):\n",
    "        self.x = x # запоминаем для обратного прохода\n",
    "        return np.dot(self.W, x) + self.b\n",
    "    \n",
    "    def get_reg_loss(self):\n",
    "        return 0.5 * self.rlambda * (np.linalg.norm(self.W, ord='fro') ** 2)\n",
    "    \n",
    "    def backward(self, dz, lr=0.001):\n",
    "        # вычисляем градиенты по параметрам (запоминаем их для отладки)\n",
    "        self.dW = np.outer(dz, self.x)\n",
    "        self.db = dz\n",
    "        # вычисляем производную по входу\n",
    "        self.dx = np.matmul(dz, self.W) \n",
    "        # рассчитываем градиенты от регуляризатора\n",
    "        if(self.rlambda != 0):\n",
    "            self.dW += self.rlambda * self.W\n",
    "        # обновляем веса\n",
    "        self.W = self.W - lr * self.dW\n",
    "        self.b = self.b - lr * self.db\n",
    "        # возвращаем dx для продолжения алгоритма\n",
    "        return self.dx"
   ]
  },
  {
   "cell_type": "markdown",
   "metadata": {},
   "source": [
    "Проверяем используя пример из слайдов"
   ]
  },
  {
   "cell_type": "code",
   "execution_count": 11,
   "metadata": {},
   "outputs": [
    {
     "name": "stdout",
     "output_type": "stream",
     "text": [
      "z =  [1.22 0.76] must be [1.22 0.76] diff =  [0. 0.]\n",
      "dx =  [-0.112  0.636] must be [-0.112  0.636] diff =  [1.38777878e-17 0.00000000e+00]\n",
      "W\n",
      " [[ 0.099912  0.499824]\n",
      " [-0.300104  0.799792]]\n",
      "dW:\n",
      " [[0.088 0.176]\n",
      " [0.104 0.208]]\n",
      "db:\n",
      " [0.44 0.52]\n",
      "dx:\n",
      " [-0.112  0.636]\n"
     ]
    }
   ],
   "source": [
    "d = Dense(2, 2)\n",
    "x = np.array([0.2, 0.4])\n",
    "d.W = np.array([[0.1, 0.5], [-0.3, 0.8]])\n",
    "d.b = np.array([1, 0.5])\n",
    "dz = np.array([0.44, 0.52])\n",
    "\n",
    "z = d.forward(x)\n",
    "z_orig = np.array([1.22, 0.76])\n",
    "print('z = ',z, 'must be', z_orig, 'diff = ', z-z_orig)\n",
    "\n",
    "dx = d.backward(dz)\n",
    "dx_orig = np.array([-0.112, 0.636])\n",
    "print('dx = ', dx, 'must be', dx_orig, 'diff = ', dx-dx_orig)\n",
    "\n",
    "print('W\\n', d.W)\n",
    "print('dW:\\n', d.dW)\n",
    "print('db:\\n', d.db)\n",
    "print('dx:\\n', d.dx)"
   ]
  },
  {
   "cell_type": "markdown",
   "metadata": {},
   "source": [
    "В слайдах у нас вход и выход слоя имеют одинаковую размерность. Давайте проверим, что для разных размеров все считается правильно."
   ]
  },
  {
   "cell_type": "code",
   "execution_count": 12,
   "metadata": {},
   "outputs": [
    {
     "name": "stdout",
     "output_type": "stream",
     "text": [
      "(2,) must be (2,)\n",
      "(3,) must be (3,)\n"
     ]
    }
   ],
   "source": [
    "# Проверяем, что размерности соблюдаются правильно\n",
    "d = Dense(3, 2)\n",
    "x = np.array([0.1, 0.2, 0.3])\n",
    "r = d.forward(x)\n",
    "print(r.shape, 'must be', (2,))\n",
    "dz = np.array([0.4, 0.5])\n",
    "dz = d.backward(dz)\n",
    "print(dz.shape, 'must be', (3,))"
   ]
  },
  {
   "cell_type": "markdown",
   "metadata": {},
   "source": [
    "### Нелинейная функция активации: ReLu"
   ]
  },
  {
   "cell_type": "markdown",
   "metadata": {},
   "source": [
    "$$\n",
    "ReLu = max(0, x)\n",
    "$$"
   ]
  },
  {
   "cell_type": "code",
   "execution_count": 13,
   "metadata": {},
   "outputs": [],
   "source": [
    "class ReLU:\n",
    "    \n",
    "    def forward(self, x):\n",
    "        self.x = x\n",
    "        return np.maximum(0, x)\n",
    "    \n",
    "    def backward(self, dz, lr=0.1):\n",
    "        dz[self.x < 0] = 0\n",
    "        return dz"
   ]
  },
  {
   "cell_type": "markdown",
   "metadata": {},
   "source": [
    "### Softmax"
   ]
  },
  {
   "cell_type": "markdown",
   "metadata": {},
   "source": [
    "$$\n",
    "\\frac {\\partial }{\\partial x_{k}}\\sigma_i (x) =\\sigma_i (x)(\\delta _{ik}-\\sigma_k (x))\n",
    "$$\n",
    "где $\\delta _{ik}$ это дельта Кронекера\n",
    "$$\n",
    "\\delta _{{ij}}={\\begin{cases}0&{\\text{if }}i\\neq j,\\\\1&{\\text{if }}i=j.\\end{cases}}\n",
    "$$"
   ]
  },
  {
   "cell_type": "code",
   "execution_count": 17,
   "metadata": {},
   "outputs": [],
   "source": [
    "# TODO\n",
    "class Softmax:\n",
    "    \n",
    "    def forward(self, x):\n",
    "       self.x = x\n",
    "       exps = np.exp(x)\n",
    "       return exps / np.sum(exps)\n",
    "    \n",
    "    def backward(self, dz, lr=0.001):\n",
    "       pass"
   ]
  },
  {
   "cell_type": "code",
   "execution_count": 15,
   "metadata": {},
   "outputs": [
    {
     "name": "stdout",
     "output_type": "stream",
     "text": [
      "None\n",
      "dz None\n"
     ]
    },
    {
     "ename": "AttributeError",
     "evalue": "'Softmax' object has no attribute 'lp'",
     "output_type": "error",
     "traceback": [
      "\u001b[0;31m---------------------------------------------------------------------------\u001b[0m",
      "\u001b[0;31mAttributeError\u001b[0m                            Traceback (most recent call last)",
      "\u001b[0;32m<ipython-input-15-02cbeef010ca>\u001b[0m in \u001b[0;36m<module>\u001b[0;34m\u001b[0m\n\u001b[1;32m      6\u001b[0m \u001b[0mdz\u001b[0m \u001b[0;34m=\u001b[0m \u001b[0mnp\u001b[0m\u001b[0;34m.\u001b[0m\u001b[0marray\u001b[0m\u001b[0;34m(\u001b[0m\u001b[0;34m[\u001b[0m\u001b[0;36m0\u001b[0m\u001b[0;34m,\u001b[0m \u001b[0;34m-\u001b[0m\u001b[0;36m2.\u001b[0m\u001b[0;34m]\u001b[0m\u001b[0;34m)\u001b[0m\u001b[0;34m\u001b[0m\u001b[0;34m\u001b[0m\u001b[0m\n\u001b[1;32m      7\u001b[0m \u001b[0mprint\u001b[0m\u001b[0;34m(\u001b[0m\u001b[0;34m'dz'\u001b[0m\u001b[0;34m,\u001b[0m \u001b[0ms\u001b[0m\u001b[0;34m.\u001b[0m\u001b[0mbackward\u001b[0m\u001b[0;34m(\u001b[0m\u001b[0mdz\u001b[0m\u001b[0;34m)\u001b[0m\u001b[0;34m)\u001b[0m\u001b[0;34m\u001b[0m\u001b[0;34m\u001b[0m\u001b[0m\n\u001b[0;32m----> 8\u001b[0;31m \u001b[0mprint\u001b[0m\u001b[0;34m(\u001b[0m\u001b[0ms\u001b[0m\u001b[0;34m.\u001b[0m\u001b[0mlp\u001b[0m\u001b[0;34m)\u001b[0m\u001b[0;34m\u001b[0m\u001b[0;34m\u001b[0m\u001b[0m\n\u001b[0m\u001b[1;32m      9\u001b[0m \u001b[0mprint\u001b[0m\u001b[0;34m(\u001b[0m\u001b[0ms\u001b[0m\u001b[0;34m.\u001b[0m\u001b[0mlp2\u001b[0m\u001b[0;34m)\u001b[0m\u001b[0;34m\u001b[0m\u001b[0;34m\u001b[0m\u001b[0m\n",
      "\u001b[0;31mAttributeError\u001b[0m: 'Softmax' object has no attribute 'lp'"
     ]
    }
   ],
   "source": [
    "# Код для проверки\n",
    "x = np.array([0.001, -0.001])\n",
    "s = Softmax()\n",
    "sm = s.forward(x)\n",
    "print(sm)\n",
    "dz = np.array([0, -2.])\n",
    "print('dz', s.backward(dz))\n",
    "print(s.lp)\n",
    "print(s.lp2)"
   ]
  },
  {
   "cell_type": "markdown",
   "metadata": {},
   "source": [
    "### Loss: кросс-энтропия"
   ]
  },
  {
   "cell_type": "markdown",
   "metadata": {},
   "source": [
    "Напомню, кросс-энтропия выражается как\n",
    "$$\n",
    "L = -\\sum_i y_i \\log \\hat{y}_i\n",
    "$$\n",
    "\n",
    "Градиент вычисляется следующим образом:\n",
    "$$\n",
    "\\frac {\\partial }{\\partial \\hat{y}_{i}} L = -\\frac{y_i}{\\hat{y}_i}\n",
    "$$"
   ]
  },
  {
   "cell_type": "code",
   "execution_count": 1,
   "metadata": {},
   "outputs": [],
   "source": [
    "# TODO\n",
    "class CrossEntropy:\n",
    "    \n",
    "    def forward(self, y_true, y_hat):\n",
    "        pass\n",
    "    \n",
    "    def backward(self, dz, lr=0.001):\n",
    "        pass"
   ]
  },
  {
   "cell_type": "markdown",
   "metadata": {},
   "source": [
    "### Инициализация параметров сети"
   ]
  },
  {
   "cell_type": "markdown",
   "metadata": {},
   "source": [
    "На практике часто используют, так называемое, правило Kaiming He:\n",
    "$$\n",
    "W \\sim N(0,\\sqrt{\\frac{2}{n_{in}}})\n",
    "$$\n",
    "\n",
    "Почему так:\n",
    "$$\n",
    "Y = W_1X_1 + W_2X_2 + ... + W_nX_n\n",
    "$$\n",
    "\n",
    "$$\n",
    "\\text{Var}(W_iX_i) = E[X_i]^2 \\text{Var}(W_i) + E[W_i]^2 \\text{Var}(X_i) + \\text{Var}(W_i)\\text{Var}(X_i)\n",
    "$$\n",
    "\n",
    "$$\n",
    "\\text{Var}(W_iX_i) = E[X_i^2] \\text{Var}(W_i)\n",
    "$$\n",
    "\n",
    "$$\n",
    "\\text{Var}(Y) = \\text{Var}(W_1X_1 + W_2X_2 + \\dotsb + W_n X_n) = n\\text{Var}(W)E[X^2]\n",
    "$$\n",
    "\n",
    "На *l-ом* слое:\n",
    "$$\n",
    "X^{l} = ReLU(0,Y^{l-1}) \\text{, а } Y^{l-1} \\text{распределен симметрично относительно нуля}\n",
    "$$\n",
    "\n",
    "$$\n",
    "E[(X^{l})^2] = \\frac{1}{2} \\text{Var}(Y^{l-1})\n",
    "$$\n",
    "\n",
    "$$\n",
    "\\text{Var}(Y^l) = \\frac{n}{2}\\text{Var}(W_i)\\text{Var}(Y^{l-1})\n",
    "$$\n",
    "\n",
    "$$\n",
    "\\text{Var}(W_i) = \\frac{2}{n} = \\frac{2}{n_\\text{in}} \n",
    "$$\n",
    "\n",
    "Для симметричных функций активации(сигмоид,тангенс) используем правило Xavier'а:\n",
    "\n",
    "$$\n",
    "W \\sim U(-\\frac{\\sqrt{6}}{\\sqrt{n_{in} + n_{out}}},+\\frac{\\sqrt{6}}{\\sqrt{n_{in} + n_{out}}})\n",
    "$$"
   ]
  },
  {
   "cell_type": "markdown",
   "metadata": {},
   "source": [
    "###  Dropout (в дополнение к L1 и L2). \"Учиться меньше, чтобы учиться лучше\"(с)"
   ]
  },
  {
   "cell_type": "markdown",
   "metadata": {},
   "source": [
    "<img src=\"./imgs/18.png\" width=700>"
   ]
  },
  {
   "cell_type": "markdown",
   "metadata": {},
   "source": [
    "Суть: каждый из нейронов участвует в обучении с некоторой вероятностью __p__. Во время инференса все нейроны включены в работу сети."
   ]
  },
  {
   "cell_type": "code",
   "execution_count": 18,
   "metadata": {},
   "outputs": [],
   "source": [
    "class Dropout:\n",
    "    def __init__(self, p = 0.5):\n",
    "        self.p = p\n",
    "        self.train = True\n",
    "    \n",
    "    def set_train(self, train = True):\n",
    "        self.train = train\n",
    "    \n",
    "    def forward(self, x):\n",
    "        if not self.train:\n",
    "            self.mask = np.ones(*x.shape)\n",
    "            return x\n",
    "        self.mask = (np.random.rand(*x.shape) > self.p) / (1.0 - self.p)\n",
    "        return x * self.mask\n",
    "        \n",
    "    def backward(self, dz, lr=0.001):\n",
    "        return dz * self.mask"
   ]
  },
  {
   "cell_type": "code",
   "execution_count": 19,
   "metadata": {},
   "outputs": [
    {
     "name": "stdout",
     "output_type": "stream",
     "text": [
      "[ 0.  0.  6.  8. 10.  0. 14.  0.]\n",
      "[ 0.  0. 12. 16. 20.  0. 28.  0.]\n"
     ]
    }
   ],
   "source": [
    "#np.random.seed()\n",
    "x = np.array([1,2,3,4,5,6,7,8])\n",
    "d = Dropout(0.5)\n",
    "z = d.forward(x)\n",
    "print(z)\n",
    "z = d.backward(z)\n",
    "print(z)"
   ]
  },
  {
   "cell_type": "markdown",
   "metadata": {},
   "source": [
    "# Тест 0 - самая тупая сеть\n",
    "\n",
    "Строим функцию $f(x)=x$"
   ]
  },
  {
   "cell_type": "code",
   "execution_count": 20,
   "metadata": {},
   "outputs": [],
   "source": [
    "X = np.array([[1., 0],\n",
    "              [0,  1.]])\n",
    "Y = np.array([[1., 0],\n",
    "              [0,  1.]])"
   ]
  },
  {
   "cell_type": "code",
   "execution_count": 21,
   "metadata": {},
   "outputs": [],
   "source": [
    "class IdentityNet:\n",
    "    \n",
    "    def __init__(self):\n",
    "        self.d = Dense(2, 2)\n",
    "        self.s = Softmax()\n",
    "        \n",
    "    def forward(self, x):\n",
    "        self.x = x\n",
    "        net = self.d.forward(x)\n",
    "        net = self.s.forward(net)\n",
    "        return net\n",
    "    \n",
    "    def backward(self, dz, lr=0.001):\n",
    "        dz = self.s.backward(dz, lr)\n",
    "        dz = self.d.backward(dz, lr)\n",
    "        return dz"
   ]
  },
  {
   "cell_type": "code",
   "execution_count": 22,
   "metadata": {},
   "outputs": [],
   "source": [
    "net = IdentityNet()\n",
    "L_iter = []"
   ]
  },
  {
   "cell_type": "code",
   "execution_count": 23,
   "metadata": {},
   "outputs": [
    {
     "ename": "NameError",
     "evalue": "name 'CrossEntropy' is not defined",
     "output_type": "error",
     "traceback": [
      "\u001b[0;31m---------------------------------------------------------------------------\u001b[0m",
      "\u001b[0;31mNameError\u001b[0m                                 Traceback (most recent call last)",
      "\u001b[0;32m<ipython-input-23-1c15b23be277>\u001b[0m in \u001b[0;36m<module>\u001b[0;34m\u001b[0m\n\u001b[1;32m      1\u001b[0m \u001b[0;31m# Инициализируем loss, его удобнее хранить в теле обучения\u001b[0m\u001b[0;34m\u001b[0m\u001b[0;34m\u001b[0m\u001b[0;34m\u001b[0m\u001b[0m\n\u001b[0;32m----> 2\u001b[0;31m \u001b[0mloss\u001b[0m \u001b[0;34m=\u001b[0m \u001b[0mCrossEntropy\u001b[0m\u001b[0;34m(\u001b[0m\u001b[0;34m)\u001b[0m\u001b[0;34m\u001b[0m\u001b[0;34m\u001b[0m\u001b[0m\n\u001b[0m\u001b[1;32m      3\u001b[0m \u001b[0mlr\u001b[0m \u001b[0;34m=\u001b[0m \u001b[0;36m0.1\u001b[0m \u001b[0;31m# скорость обучения\u001b[0m\u001b[0;34m\u001b[0m\u001b[0;34m\u001b[0m\u001b[0m\n\u001b[1;32m      4\u001b[0m \u001b[0;32mfor\u001b[0m \u001b[0miter\u001b[0m \u001b[0;32min\u001b[0m \u001b[0mrange\u001b[0m\u001b[0;34m(\u001b[0m\u001b[0;36m100\u001b[0m\u001b[0;34m)\u001b[0m\u001b[0;34m:\u001b[0m \u001b[0;31m# эпохи = полный проход по датасету\u001b[0m\u001b[0;34m\u001b[0m\u001b[0;34m\u001b[0m\u001b[0m\n\u001b[1;32m      5\u001b[0m     \u001b[0mL_acc\u001b[0m \u001b[0;34m=\u001b[0m \u001b[0;36m0.\u001b[0m\u001b[0;34m\u001b[0m\u001b[0;34m\u001b[0m\u001b[0m\n",
      "\u001b[0;31mNameError\u001b[0m: name 'CrossEntropy' is not defined"
     ]
    }
   ],
   "source": [
    "# Инициализируем loss, его удобнее хранить в теле обучения\n",
    "loss = CrossEntropy() \n",
    "lr = 0.1 # скорость обучения\n",
    "for iter in range(100): # эпохи = полный проход по датасету\n",
    "    L_acc = 0.\n",
    "    for i in range(X.shape[0]):\n",
    "        x = X[i]\n",
    "        y = Y[i]\n",
    "        y_h = net.forward(x)\n",
    "        L = loss.forward(y, net.forward(x))\n",
    "        L_acc += L\n",
    "        dz = loss.backward(1, lr)\n",
    "        net.backward(dz, lr)\n",
    "    L_iter.append(L_acc) # коллекционируем loss\n",
    "plt.plot(L_iter) # посмотрим на кривую обучения\n",
    "print( net.forward(X[0]), net.forward(X[1])) # проверим глазами, что обучились"
   ]
  },
  {
   "cell_type": "markdown",
   "metadata": {},
   "source": [
    "# Тест 1 - XOR\n",
    "\n",
    "<img src=\"./imgs/10.png\" width=200>"
   ]
  },
  {
   "cell_type": "markdown",
   "metadata": {},
   "source": [
    "X = np.array([[-1, -1],\n",
    "              [1, -1],\n",
    "              [-1, 1],\n",
    "              [1, 1]], dtype='float')\n",
    "\n",
    "# Закодируем метки классов\n",
    "Y = np.array([[1, 0],\n",
    "              [0, 1],\n",
    "              [0, 1],\n",
    "              [1, 0]], dtype='float')\n"
   ]
  },
  {
   "cell_type": "code",
   "execution_count": 28,
   "metadata": {},
   "outputs": [],
   "source": [
    "class XorNet:\n",
    "    \n",
    "    def __init__(self):\n",
    "        self.d1 = Dense(2, 10)\n",
    "        self.a1 = ReLU()\n",
    "        self.d2 = Dense(10, 2)\n",
    "        self.sm = Softmax()\n",
    "        \n",
    "    def forward(self, x):\n",
    "        net = self.d1.forward(x)\n",
    "        net = self.a1.forward(net)\n",
    "        net = self.d2.forward(net)\n",
    "        net = self.sm.forward(net)\n",
    "        self.net = net\n",
    "        return net\n",
    "    \n",
    "    def backward(self, dz, lr=0.1):\n",
    "        dz = self.sm.backward(dz, lr)\n",
    "        dz = self.d2.backward(dz, lr)\n",
    "        dz = self.a1.backward(dz, lr)\n",
    "        dz = self.d1.backward(dz, lr)\n",
    "        return dz\n",
    "        "
   ]
  },
  {
   "cell_type": "code",
   "execution_count": 29,
   "metadata": {},
   "outputs": [],
   "source": [
    "net = XorNet()"
   ]
  },
  {
   "cell_type": "code",
   "execution_count": 30,
   "metadata": {},
   "outputs": [
    {
     "name": "stdout",
     "output_type": "stream",
     "text": [
      "[0.93060827 0.06939173] [1. 0.]\n",
      "[0.00774235 0.99225765] [0. 1.]\n",
      "[0.00800901 0.99199099] [0. 1.]\n",
      "[0.99629127 0.00370873] [1. 0.]\n"
     ]
    },
    {
     "data": {
      "image/png": "[encoded data removed]",
      "text/plain": [
       "<Figure size 432x288 with 1 Axes>"
      ]
     },
     "metadata": {
      "needs_background": "light"
     },
     "output_type": "display_data"
    }
   ],
   "source": [
    "loss = CrossEntropy()\n",
    "lr = 0.1\n",
    "L_iter = []\n",
    "for iter in range(100):\n",
    "    L_acc = 0.\n",
    "    for i in range(X.shape[0]):\n",
    "        x = X[i]\n",
    "        y = Y[i]\n",
    "        y_h = net.forward(x)\n",
    "        L = loss.forward(y, y_h)\n",
    "        L_acc += L\n",
    "        dz = loss.backward(1, lr)\n",
    "        dz = net.backward(dz, lr)\n",
    "    L_iter.append(L_acc)\n",
    "plt.plot(L_iter)\n",
    "for i in range(4):\n",
    "    print(net.forward(X[i]), Y[i])"
   ]
  },
  {
   "cell_type": "markdown",
   "metadata": {},
   "source": [
    "# Тест 3 - MNIST"
   ]
  },
  {
   "cell_type": "code",
   "execution_count": 31,
   "metadata": {},
   "outputs": [
    {
     "name": "stdout",
     "output_type": "stream",
     "text": [
      "(70000, 784)\n"
     ]
    }
   ],
   "source": [
    "from sklearn.datasets import fetch_mldata\n",
    "mnist = fetch_mldata('MNIST original', data_home='./')\n",
    "X = mnist['data']\n",
    "print(X.shape)"
   ]
  },
  {
   "cell_type": "code",
   "execution_count": 32,
   "metadata": {},
   "outputs": [
    {
     "data": {
      "image/png": "[encoded data removed]",
      "text/plain": [
       "<Figure size 432x288 with 16 Axes>"
      ]
     },
     "metadata": {
      "needs_background": "light"
     },
     "output_type": "display_data"
    }
   ],
   "source": [
    "n=4\n",
    "for i in range(n*n):\n",
    "    plt.subplot(n,n,i+1)\n",
    "    I = X[np.random.randint(0, X.shape[0]),:]\n",
    "    I = I.reshape((28, 28))\n",
    "    plt.imshow(I, cmap='gray')"
   ]
  },
  {
   "cell_type": "code",
   "execution_count": 33,
   "metadata": {},
   "outputs": [
    {
     "data": {
      "text/plain": [
       "[<matplotlib.lines.Line2D at 0x1a1a742588>]"
      ]
     },
     "execution_count": 33,
     "metadata": {},
     "output_type": "execute_result"
    },
    {
     "data": {
      "image/png": "[encoded data removed]",
      "text/plain": [
       "<Figure size 432x288 with 1 Axes>"
      ]
     },
     "metadata": {
      "needs_background": "light"
     },
     "output_type": "display_data"
    },
    {
     "data": {
      "image/png": "[encoded data removed]",
      "text/plain": [
       "<Figure size 432x288 with 1 Axes>"
      ]
     },
     "metadata": {
      "needs_background": "light"
     },
     "output_type": "display_data"
    }
   ],
   "source": [
    "X = X.astype('float')\n",
    "Xm = np.mean(X, axis=0)\n",
    "Xs = np.std(X, axis=0)\n",
    "X=(X - Xm) / (Xs + 0.01)\n",
    "plt.imshow(Xm.reshape((28, 28)))\n",
    "plt.figure()\n",
    "plt.plot(X[0].reshape((28, 28))[14])"
   ]
  },
  {
   "cell_type": "code",
   "execution_count": 34,
   "metadata": {},
   "outputs": [
    {
     "name": "stdout",
     "output_type": "stream",
     "text": [
      "original [5. 5. 5. ... 6. 6. 6.]\n",
      "one hot [[1. 0.]\n",
      " [1. 0.]\n",
      " [1. 0.]\n",
      " ...\n",
      " [0. 1.]\n",
      " [0. 1.]\n",
      " [0. 1.]]\n"
     ]
    },
    {
     "name": "stderr",
     "output_type": "stream",
     "text": [
      "/anaconda2/envs/py36/lib/python3.6/site-packages/sklearn/cross_validation.py:41: DeprecationWarning: This module was deprecated in version 0.18 in favor of the model_selection module into which all the refactored classes and functions are moved. Also note that the interface of the new CV iterators are different from that of this module. This module will be removed in 0.20.\n",
      "  \"This module will be removed in 0.20.\", DeprecationWarning)\n"
     ]
    }
   ],
   "source": [
    "from sklearn.preprocessing import OneHotEncoder\n",
    "from sklearn.cross_validation import train_test_split\n",
    "Y = mnist['target']\n",
    "\n",
    "idxs = np.where((Y == 5 ) | (Y == 6))\n",
    "\n",
    "X_n = X[idxs]\n",
    "Y_n = Y[idxs]\n",
    "\n",
    "print('original', Y_n)\n",
    "t = OneHotEncoder(sparse=False)\n",
    "Y_work = t.fit_transform(Y_n.reshape(-1, 1))\n",
    "print('one hot', Y_work)\n",
    "X_train, X_test, Y_train, Y_test = train_test_split(X_n, Y_work, test_size=0.33, stratify=Y_n)"
   ]
  },
  {
   "cell_type": "code",
   "execution_count": 42,
   "metadata": {},
   "outputs": [],
   "source": [
    "class MnistNet:\n",
    "    \n",
    "    def __init__(self, rlambda=0.0):\n",
    "        self.d = Dense(784, 2, rlambda)\n",
    "        self.m = ReLU()\n",
    "        self.s = Softmax()\n",
    "    \n",
    "    def forward(self, x):\n",
    "        net = self.d.forward(x)\n",
    "        net = self.m.forward(net)\n",
    "        net = self.s.forward(net)\n",
    "        return net\n",
    "    \n",
    "    def backward(self, dz, lr):\n",
    "        dz = self.s.backward(dz, lr)\n",
    "        dz = self.m.backward(dz, lr)\n",
    "        dz = self.d.backward(dz, lr)\n",
    "        return dz"
   ]
  },
  {
   "cell_type": "code",
   "execution_count": 53,
   "metadata": {},
   "outputs": [
    {
     "name": "stdout",
     "output_type": "stream",
     "text": [
      "0 iter loss. Train : 0.11724565107887218 . Test : 0.0832946738729622\n",
      "1 iter loss. Train : 0.06215302183696296 . Test : 0.07766298121971649\n",
      "2 iter loss. Train : 0.05454417041844316 . Test : 0.07336943762849954\n",
      "3 iter loss. Train : 0.04953532647554556 . Test : 0.07285702706699074\n",
      "4 iter loss. Train : 0.046208436191039245 . Test : 0.07335748554956317\n",
      "5 iter loss. Train : 0.04365150065849063 . Test : 0.07012089719450927\n",
      "6 iter loss. Train : 0.041669816306931576 . Test : 0.0688296864845671\n",
      "7 iter loss. Train : 0.03969735482146805 . Test : 0.06784678075330475\n",
      "8 iter loss. Train : 0.03816371473476641 . Test : 0.0688691859833932\n",
      "9 iter loss. Train : 0.03667683412321671 . Test : 0.0676652042982596\n",
      "10 iter loss. Train : 0.03609526819640072 . Test : 0.06783252517442225\n",
      "11 iter loss. Train : 0.03494126926472568 . Test : 0.06864384882683824\n",
      "12 iter loss. Train : 0.033861627397068716 . Test : 0.06800643810069261\n",
      "13 iter loss. Train : 0.03328410138642031 . Test : 0.06875634632211673\n",
      "14 iter loss. Train : 0.032567250992955016 . Test : 0.06845532612676897\n",
      "15 iter loss. Train : 0.03157595587174614 . Test : 0.06832187472498549\n",
      "16 iter loss. Train : 0.03112025086820506 . Test : 0.06956687855125102\n",
      "17 iter loss. Train : 0.031048999078154216 . Test : 0.0688259102784602\n",
      "18 iter loss. Train : 0.03011601631049842 . Test : 0.06782463236787009\n",
      "19 iter loss. Train : 0.029232912619532765 . Test : 0.07002756383276276\n",
      "20 iter loss. Train : 0.02940881587574098 . Test : 0.0689537441384383\n",
      "21 iter loss. Train : 0.028529767094080213 . Test : 0.0691955788405204\n",
      "22 iter loss. Train : 0.02801776330977677 . Test : 0.06994928534505887\n",
      "23 iter loss. Train : 0.02781332129410309 . Test : 0.06955073817835457\n",
      "24 iter loss. Train : 0.027311993160481517 . Test : 0.0700020171125415\n",
      "25 iter loss. Train : 0.026913874848297128 . Test : 0.0689841780208269\n",
      "26 iter loss. Train : 0.026184224532022612 . Test : 0.06946783314318944\n",
      "27 iter loss. Train : 0.02595040632816195 . Test : 0.07027573158828902\n",
      "28 iter loss. Train : 0.025660525513018735 . Test : 0.06982034442016845\n",
      "29 iter loss. Train : 0.025229526156961814 . Test : 0.06991624768472367\n",
      "30 iter loss. Train : 0.0248792842399614 . Test : 0.07145109029397471\n",
      "31 iter loss. Train : 0.02466090085666576 . Test : 0.07039286438804178\n",
      "32 iter loss. Train : 0.024374243059757494 . Test : 0.07013793100033834\n",
      "33 iter loss. Train : 0.024024655803277152 . Test : 0.07077399874011873\n",
      "34 iter loss. Train : 0.023678220273283687 . Test : 0.07192205860950879\n",
      "35 iter loss. Train : 0.0236172691796167 . Test : 0.07053285352165745\n",
      "36 iter loss. Train : 0.02333916817280178 . Test : 0.0704546070691823\n",
      "37 iter loss. Train : 0.022901679867372935 . Test : 0.07029809569372214\n",
      "38 iter loss. Train : 0.022702316505197672 . Test : 0.0722837875398972\n",
      "39 iter loss. Train : 0.022604104734809134 . Test : 0.07077440253003266\n",
      "40 iter loss. Train : 0.022226688488861484 . Test : 0.0702355544373421\n",
      "41 iter loss. Train : 0.0220099301370081 . Test : 0.07133022708798199\n",
      "42 iter loss. Train : 0.02169780635614534 . Test : 0.07247375403893501\n",
      "43 iter loss. Train : 0.021607328788613826 . Test : 0.0725320352654016\n",
      "44 iter loss. Train : 0.021390040848154022 . Test : 0.07270915239567313\n",
      "45 iter loss. Train : 0.021070614511865416 . Test : 0.07133068233142076\n",
      "46 iter loss. Train : 0.020708137701229885 . Test : 0.07353920639643699\n",
      "47 iter loss. Train : 0.02072349164399099 . Test : 0.07338585483243404\n",
      "48 iter loss. Train : 0.020716393309231387 . Test : 0.07459771312727335\n",
      "49 iter loss. Train : 0.02062208369489496 . Test : 0.0730676974318185\n",
      "50 iter loss. Train : 0.020260638765888333 . Test : 0.07292789547341622\n",
      "51 iter loss. Train : 0.020052197701870767 . Test : 0.07348795577121726\n",
      "52 iter loss. Train : 0.01980763172055336 . Test : 0.07372020901950375\n",
      "53 iter loss. Train : 0.019924817332630098 . Test : 0.07354881446432883\n",
      "54 iter loss. Train : 0.019582560267774933 . Test : 0.07363956922804687\n",
      "55 iter loss. Train : 0.019427775057600925 . Test : 0.07401085275639283\n",
      "56 iter loss. Train : 0.019261106198937637 . Test : 0.0765779261778938\n",
      "57 iter loss. Train : 0.01917920044772679 . Test : 0.07370100501599165\n",
      "58 iter loss. Train : 0.01907889786418628 . Test : 0.07442652077296717\n",
      "59 iter loss. Train : 0.01880734879148593 . Test : 0.07539326178943395\n",
      "60 iter loss. Train : 0.018949292768633854 . Test : 0.0754859678405805\n",
      "61 iter loss. Train : 0.018667830632916865 . Test : 0.0759594813992359\n",
      "62 iter loss. Train : 0.01851579031957296 . Test : 0.07537996438302923\n",
      "63 iter loss. Train : 0.018467051715174102 . Test : 0.07602040406592672\n",
      "64 iter loss. Train : 0.01830331808335116 . Test : 0.07662174488959717\n",
      "65 iter loss. Train : 0.01813203092899913 . Test : 0.07569603651607011\n",
      "66 iter loss. Train : 0.018164620855968396 . Test : 0.07644350219028893\n",
      "67 iter loss. Train : 0.018112573334080867 . Test : 0.0768163164638418\n",
      "68 iter loss. Train : 0.017908797922182033 . Test : 0.07641397088794172\n",
      "69 iter loss. Train : 0.01779385474509298 . Test : 0.07754639487310823\n",
      "70 iter loss. Train : 0.01772073965406682 . Test : 0.07691542172992072\n",
      "71 iter loss. Train : 0.017445297810086004 . Test : 0.0779337172358814\n",
      "72 iter loss. Train : 0.0175659878380855 . Test : 0.07743222105346882\n",
      "73 iter loss. Train : 0.01749354623468131 . Test : 0.07713230032053886\n",
      "74 iter loss. Train : 0.017353295710127056 . Test : 0.07711996234576227\n",
      "75 iter loss. Train : 0.017149563198809035 . Test : 0.07781524920739509\n",
      "76 iter loss. Train : 0.01708124159354803 . Test : 0.07735022906904784\n",
      "77 iter loss. Train : 0.01706082352951192 . Test : 0.07924891116650566\n",
      "78 iter loss. Train : 0.017055195577900265 . Test : 0.07923728049912018\n",
      "79 iter loss. Train : 0.01676267777379765 . Test : 0.0791967631660761\n",
      "80 iter loss. Train : 0.016684102271922963 . Test : 0.07973278300347322\n",
      "81 iter loss. Train : 0.01670082159142445 . Test : 0.07828297431490788\n",
      "82 iter loss. Train : 0.016655379321683497 . Test : 0.0789219782010156\n",
      "83 iter loss. Train : 0.016481549576757973 . Test : 0.07983453280697086\n",
      "84 iter loss. Train : 0.016465258939327498 . Test : 0.07891926198419902\n",
      "85 iter loss. Train : 0.01627289685220244 . Test : 0.07984011547795773\n",
      "86 iter loss. Train : 0.016404852322082022 . Test : 0.07878913418405173\n",
      "87 iter loss. Train : 0.016231234889389275 . Test : 0.07946301936415948\n",
      "88 iter loss. Train : 0.01599159542978814 . Test : 0.0810066435307523\n",
      "89 iter loss. Train : 0.016289917438838942 . Test : 0.0798378470242096\n",
      "90 iter loss. Train : 0.016150908415325644 . Test : 0.08018127200180819\n",
      "91 iter loss. Train : 0.016063089166309046 . Test : 0.07937130894588319\n",
      "92 iter loss. Train : 0.015943393344826733 . Test : 0.07998742922866155\n",
      "93 iter loss. Train : 0.015832437535968438 . Test : 0.07957032195700496\n",
      "94 iter loss. Train : 0.015707399477716974 . Test : 0.08062793647952401\n",
      "95 iter loss. Train : 0.015649058329105025 . Test : 0.08050453099526547\n",
      "96 iter loss. Train : 0.015750133994424667 . Test : 0.0798621031403552\n",
      "97 iter loss. Train : 0.015556341863844983 . Test : 0.08014966580171785\n",
      "98 iter loss. Train : 0.015492046155232586 . Test : 0.08177159730197135\n",
      "99 iter loss. Train : 0.015394469384364009 . Test : 0.08027467345394998\n",
      "100 iter loss. Train : 0.015440170787744947 . Test : 0.08049510179372057\n",
      "101 iter loss. Train : 0.015345453647473221 . Test : 0.08113714259130472\n",
      "102 iter loss. Train : 0.015357890213610533 . Test : 0.08148993047509752\n",
      "103 iter loss. Train : 0.015227150082541718 . Test : 0.08158449339922053\n",
      "104 iter loss. Train : 0.015131256958277222 . Test : 0.08075341379354202\n",
      "105 iter loss. Train : 0.015092995180378302 . Test : 0.08188420625385774\n",
      "106 iter loss. Train : 0.014947985887503333 . Test : 0.082934136037469\n",
      "107 iter loss. Train : 0.014900175544821464 . Test : 0.08194183896592024\n",
      "108 iter loss. Train : 0.014861359657978173 . Test : 0.08113434927677188\n",
      "109 iter loss. Train : 0.014867552794069091 . Test : 0.08250554476317175\n",
      "110 iter loss. Train : 0.01479363080581132 . Test : 0.08284396171131969\n",
      "111 iter loss. Train : 0.0146670073448428 . Test : 0.08133846878901496\n",
      "112 iter loss. Train : 0.01475977118558034 . Test : 0.08331300080357802\n",
      "113 iter loss. Train : 0.014622619683848532 . Test : 0.08337951129137054\n",
      "114 iter loss. Train : 0.014552670416739757 . Test : 0.08272816315342683\n"
     ]
    },
    {
     "name": "stdout",
     "output_type": "stream",
     "text": [
      "115 iter loss. Train : 0.014451422827373613 . Test : 0.08243034167849374\n",
      "116 iter loss. Train : 0.01450251269631394 . Test : 0.08328190940173547\n",
      "117 iter loss. Train : 0.014365402011100674 . Test : 0.08358810206293822\n",
      "118 iter loss. Train : 0.014323385620123528 . Test : 0.0838492476044149\n",
      "119 iter loss. Train : 0.014273606377744967 . Test : 0.08363207401833861\n",
      "120 iter loss. Train : 0.014341369125793847 . Test : 0.08299901815069047\n",
      "121 iter loss. Train : 0.014235493508281996 . Test : 0.0852356943473234\n",
      "122 iter loss. Train : 0.014257686041182497 . Test : 0.08427779870692786\n",
      "123 iter loss. Train : 0.014151790928181541 . Test : 0.08301075316809457\n",
      "124 iter loss. Train : 0.014119430741457521 . Test : 0.0837765630235482\n",
      "125 iter loss. Train : 0.014095173130646552 . Test : 0.08420986226303823\n",
      "126 iter loss. Train : 0.01399253516479643 . Test : 0.08549944494057204\n",
      "127 iter loss. Train : 0.013988409925344386 . Test : 0.084248293744285\n",
      "128 iter loss. Train : 0.013928863029202486 . Test : 0.08483691886952578\n",
      "129 iter loss. Train : 0.013785381048527397 . Test : 0.08461959971554774\n",
      "130 iter loss. Train : 0.013847124269054012 . Test : 0.08509718005590804\n",
      "131 iter loss. Train : 0.013863577096060453 . Test : 0.08495055022338904\n",
      "132 iter loss. Train : 0.013828710911454748 . Test : 0.0838893041180016\n",
      "133 iter loss. Train : 0.01371899887379613 . Test : 0.08632537559785455\n",
      "134 iter loss. Train : 0.013716298638195401 . Test : 0.08544265644129989\n",
      "135 iter loss. Train : 0.013566993399645795 . Test : 0.08447976923658333\n",
      "136 iter loss. Train : 0.013660382463765823 . Test : 0.08592648864113092\n",
      "137 iter loss. Train : 0.013607915422401723 . Test : 0.08551736746466787\n",
      "138 iter loss. Train : 0.013574253334253626 . Test : 0.08561178041249894\n",
      "139 iter loss. Train : 0.013689029657809736 . Test : 0.08585428272005671\n",
      "140 iter loss. Train : 0.013428716812989561 . Test : 0.08658585822130385\n",
      "141 iter loss. Train : 0.01340564499730747 . Test : 0.08611296082977048\n",
      "142 iter loss. Train : 0.013274964849311429 . Test : 0.08605120477844466\n",
      "143 iter loss. Train : 0.0132704198712231 . Test : 0.08521509727925311\n",
      "144 iter loss. Train : 0.013209567095243792 . Test : 0.08632100524197087\n",
      "145 iter loss. Train : 0.013253060663675906 . Test : 0.08551418163224153\n",
      "146 iter loss. Train : 0.013207024026439996 . Test : 0.08688900653493818\n",
      "147 iter loss. Train : 0.013109125663427637 . Test : 0.08631354814350853\n",
      "148 iter loss. Train : 0.013093613234292588 . Test : 0.08587263205624561\n",
      "149 iter loss. Train : 0.01310134336919639 . Test : 0.08769239096514178\n",
      "150 iter loss. Train : 0.013062100276573677 . Test : 0.08667594002443188\n",
      "151 iter loss. Train : 0.013019574423376735 . Test : 0.08615591799912994\n",
      "152 iter loss. Train : 0.012951365267569617 . Test : 0.08752482127047728\n",
      "153 iter loss. Train : 0.012901937216102721 . Test : 0.08760826681108214\n",
      "154 iter loss. Train : 0.012903497866966764 . Test : 0.08693298921050613\n",
      "155 iter loss. Train : 0.012895960977330818 . Test : 0.08719831257609402\n",
      "156 iter loss. Train : 0.012746347100546115 . Test : 0.08723863812073121\n",
      "157 iter loss. Train : 0.012715133728383331 . Test : 0.08615689039447547\n",
      "158 iter loss. Train : 0.012853771505150904 . Test : 0.08754501165165786\n",
      "159 iter loss. Train : 0.012653147295725165 . Test : 0.08845925193558783\n",
      "160 iter loss. Train : 0.012628528808088627 . Test : 0.08766442622749514\n",
      "161 iter loss. Train : 0.012672684410359092 . Test : 0.08811157467801164\n",
      "162 iter loss. Train : 0.01256171174608835 . Test : 0.08754072713232246\n",
      "163 iter loss. Train : 0.012516450676986611 . Test : 0.08804408578709313\n",
      "164 iter loss. Train : 0.012472747248186918 . Test : 0.08779363725125593\n",
      "165 iter loss. Train : 0.012548464201487482 . Test : 0.08820680197083708\n",
      "166 iter loss. Train : 0.012453236160515262 . Test : 0.08808879155415272\n",
      "167 iter loss. Train : 0.012344855323472305 . Test : 0.08873413857416917\n",
      "168 iter loss. Train : 0.012375255166017975 . Test : 0.08841722451082548\n",
      "169 iter loss. Train : 0.012332703575708552 . Test : 0.08787555192606188\n",
      "170 iter loss. Train : 0.012327235004554836 . Test : 0.08954433801907477\n",
      "171 iter loss. Train : 0.012259773824594282 . Test : 0.08878215290167213\n",
      "172 iter loss. Train : 0.012228738561958377 . Test : 0.0887692853678863\n",
      "173 iter loss. Train : 0.012223209480927035 . Test : 0.08891987587677336\n",
      "174 iter loss. Train : 0.012161210622647547 . Test : 0.08913198639620402\n",
      "175 iter loss. Train : 0.012215903547955764 . Test : 0.08831230759709909\n",
      "176 iter loss. Train : 0.012250212278110234 . Test : 0.08925899558800097\n",
      "177 iter loss. Train : 0.012087211364682687 . Test : 0.08980381304814197\n",
      "178 iter loss. Train : 0.012097954274333063 . Test : 0.08949073563985044\n",
      "179 iter loss. Train : 0.012097137575343114 . Test : 0.09016367549116598\n",
      "180 iter loss. Train : 0.012056782897299686 . Test : 0.08914095555571788\n",
      "181 iter loss. Train : 0.011970346010258669 . Test : 0.08981830451122762\n",
      "182 iter loss. Train : 0.011906358852437035 . Test : 0.0897198315197749\n",
      "183 iter loss. Train : 0.011922596496134677 . Test : 0.0898447968655123\n",
      "184 iter loss. Train : 0.011934754768587127 . Test : 0.08938721046240966\n",
      "185 iter loss. Train : 0.011897294694388745 . Test : 0.09042092782249658\n",
      "186 iter loss. Train : 0.01181706546847349 . Test : 0.089882441692866\n",
      "187 iter loss. Train : 0.011825927833373532 . Test : 0.08991579069994825\n",
      "188 iter loss. Train : 0.011772517423263365 . Test : 0.09096804973779453\n",
      "189 iter loss. Train : 0.011780899525995732 . Test : 0.08977535113910264\n",
      "190 iter loss. Train : 0.011833353552717172 . Test : 0.0905184836712442\n",
      "191 iter loss. Train : 0.011683917106590395 . Test : 0.09073744916980922\n",
      "192 iter loss. Train : 0.011651088575901733 . Test : 0.09149305970581026\n",
      "193 iter loss. Train : 0.011693969583538263 . Test : 0.0904488606487289\n",
      "194 iter loss. Train : 0.011636687680564837 . Test : 0.08943229978982252\n",
      "195 iter loss. Train : 0.011693664112602002 . Test : 0.09146166604245728\n",
      "196 iter loss. Train : 0.01159879917463899 . Test : 0.09082972487510403\n",
      "197 iter loss. Train : 0.01156912139608017 . Test : 0.09154324401162149\n",
      "198 iter loss. Train : 0.01152744408321561 . Test : 0.09173289269913104\n",
      "199 iter loss. Train : 0.011506977253555555 . Test : 0.09025311336404455\n",
      "200 iter loss. Train : 0.01159633049258356 . Test : 0.09104963613230468\n",
      "201 iter loss. Train : 0.011468838534337522 . Test : 0.09105195790559006\n",
      "202 iter loss. Train : 0.011462883305285578 . Test : 0.09177060996296826\n",
      "203 iter loss. Train : 0.011402128458730012 . Test : 0.09128668492102521\n",
      "204 iter loss. Train : 0.011335156255669868 . Test : 0.09259676282343016\n",
      "205 iter loss. Train : 0.011347140605839964 . Test : 0.09240480548293009\n",
      "206 iter loss. Train : 0.011430609009356968 . Test : 0.0923659118776553\n",
      "207 iter loss. Train : 0.011332971740108954 . Test : 0.09178896785212874\n",
      "208 iter loss. Train : 0.01126804960695813 . Test : 0.09223672805879127\n",
      "209 iter loss. Train : 0.011255078968813064 . Test : 0.09276303147773872\n",
      "210 iter loss. Train : 0.011252594523095011 . Test : 0.09155677425007085\n",
      "211 iter loss. Train : 0.011286349216953026 . Test : 0.09171201162999229\n",
      "212 iter loss. Train : 0.011250542443539197 . Test : 0.09212587008517999\n",
      "213 iter loss. Train : 0.011203886224194394 . Test : 0.09228795320085184\n",
      "214 iter loss. Train : 0.011157664016596678 . Test : 0.09337378391456004\n",
      "215 iter loss. Train : 0.011137607329861708 . Test : 0.0928036817821021\n",
      "216 iter loss. Train : 0.011090750084440321 . Test : 0.09214130703690562\n",
      "217 iter loss. Train : 0.011161587373401272 . Test : 0.09201713639136709\n",
      "218 iter loss. Train : 0.01117748366715352 . Test : 0.09256845245550425\n",
      "219 iter loss. Train : 0.0109932140911351 . Test : 0.09336656984497747\n",
      "220 iter loss. Train : 0.011013528902628585 . Test : 0.09235144496813726\n",
      "221 iter loss. Train : 0.010990767297491969 . Test : 0.09370837774791269\n",
      "222 iter loss. Train : 0.010933348880085628 . Test : 0.0940755132303826\n",
      "223 iter loss. Train : 0.010979035613954495 . Test : 0.09287081937912692\n",
      "224 iter loss. Train : 0.010938899312217651 . Test : 0.09334921131476683\n",
      "225 iter loss. Train : 0.010953274538295773 . Test : 0.09385476514989678\n",
      "226 iter loss. Train : 0.010873419703440015 . Test : 0.09452821621281193\n",
      "227 iter loss. Train : 0.010893682969160793 . Test : 0.09414218361123917\n"
     ]
    },
    {
     "name": "stdout",
     "output_type": "stream",
     "text": [
      "228 iter loss. Train : 0.01090973184099639 . Test : 0.09338605500106162\n",
      "229 iter loss. Train : 0.010928553213608647 . Test : 0.09359539226878393\n",
      "230 iter loss. Train : 0.010815150471405377 . Test : 0.0949569116136101\n",
      "231 iter loss. Train : 0.010808549708801843 . Test : 0.09405273622651082\n",
      "232 iter loss. Train : 0.01075639888868856 . Test : 0.09481779464249633\n",
      "233 iter loss. Train : 0.010777631786342315 . Test : 0.09500716817385234\n",
      "234 iter loss. Train : 0.010713453249502253 . Test : 0.09386757447416143\n",
      "235 iter loss. Train : 0.010676643060200011 . Test : 0.09514720026188983\n",
      "236 iter loss. Train : 0.010662482291523832 . Test : 0.09431803553508461\n",
      "237 iter loss. Train : 0.010645375862684787 . Test : 0.09467046716201839\n",
      "238 iter loss. Train : 0.010684949929603695 . Test : 0.09438075264922204\n",
      "239 iter loss. Train : 0.01066676831147857 . Test : 0.09458706052594539\n",
      "240 iter loss. Train : 0.010564082185085956 . Test : 0.09503244101906046\n",
      "241 iter loss. Train : 0.010547327519126081 . Test : 0.09505840175807496\n",
      "242 iter loss. Train : 0.010547398475041665 . Test : 0.09515625210568095\n",
      "243 iter loss. Train : 0.010513539645584076 . Test : 0.09492549410535094\n",
      "244 iter loss. Train : 0.010510675298926528 . Test : 0.09576267788067222\n",
      "245 iter loss. Train : 0.010507279754609527 . Test : 0.0947455033322512\n",
      "246 iter loss. Train : 0.01050007224390277 . Test : 0.09567205265144509\n",
      "247 iter loss. Train : 0.010507694244672799 . Test : 0.09587095552253215\n",
      "248 iter loss. Train : 0.010429805038725242 . Test : 0.09585508072710908\n",
      "249 iter loss. Train : 0.010435065954142059 . Test : 0.09619205065954901\n",
      "250 iter loss. Train : 0.010376615948040952 . Test : 0.09695157416212039\n",
      "251 iter loss. Train : 0.010421398409695474 . Test : 0.09643535750726628\n",
      "252 iter loss. Train : 0.010519912751838844 . Test : 0.09558773441519543\n",
      "253 iter loss. Train : 0.010352425208200107 . Test : 0.09641795278277931\n",
      "254 iter loss. Train : 0.01034178114000721 . Test : 0.0967905571606347\n",
      "255 iter loss. Train : 0.010355303219074952 . Test : 0.09630300667030452\n",
      "256 iter loss. Train : 0.010310520132982316 . Test : 0.09666897400639489\n",
      "257 iter loss. Train : 0.010308561486309795 . Test : 0.0960930244559047\n",
      "258 iter loss. Train : 0.010329586948682025 . Test : 0.09696780746245787\n",
      "259 iter loss. Train : 0.01025874193001601 . Test : 0.09717894677331287\n",
      "260 iter loss. Train : 0.010266077425714731 . Test : 0.09702738121135654\n",
      "261 iter loss. Train : 0.01032192097535253 . Test : 0.0955117413426389\n",
      "262 iter loss. Train : 0.010290424038159555 . Test : 0.09646677679727904\n",
      "263 iter loss. Train : 0.010230624282901609 . Test : 0.09723186275912248\n",
      "264 iter loss. Train : 0.010164353636506451 . Test : 0.09740832024437784\n",
      "265 iter loss. Train : 0.01016342626072181 . Test : 0.0975828077747196\n",
      "266 iter loss. Train : 0.010145200709858046 . Test : 0.09777596427056177\n",
      "267 iter loss. Train : 0.010263732625564707 . Test : 0.0967643502171562\n",
      "268 iter loss. Train : 0.010231860583626228 . Test : 0.09643761296256279\n",
      "269 iter loss. Train : 0.010152024471958692 . Test : 0.09807264067779306\n",
      "270 iter loss. Train : 0.01022533642512979 . Test : 0.09639974495615555\n",
      "271 iter loss. Train : 0.010110168378196754 . Test : 0.09783127488178463\n",
      "272 iter loss. Train : 0.010069531097354882 . Test : 0.09779426686057491\n",
      "273 iter loss. Train : 0.010035756211353674 . Test : 0.0980943711568488\n",
      "274 iter loss. Train : 0.010003281324329413 . Test : 0.09820312587440745\n",
      "275 iter loss. Train : 0.01000183886559449 . Test : 0.09845893939391526\n",
      "276 iter loss. Train : 0.009989624166315549 . Test : 0.09792526604813698\n",
      "277 iter loss. Train : 0.009926507973220608 . Test : 0.09850592129298677\n",
      "278 iter loss. Train : 0.009946089019330284 . Test : 0.09857535799918643\n",
      "279 iter loss. Train : 0.009928405933795199 . Test : 0.09835756501816122\n",
      "280 iter loss. Train : 0.010047952559488427 . Test : 0.09663959154827972\n",
      "281 iter loss. Train : 0.00991010147604481 . Test : 0.09835779718018375\n",
      "282 iter loss. Train : 0.009869526249795188 . Test : 0.0982106060145408\n",
      "283 iter loss. Train : 0.009840586636189216 . Test : 0.09854450388253716\n",
      "284 iter loss. Train : 0.009850048870245428 . Test : 0.09769865148909444\n",
      "285 iter loss. Train : 0.00988320717367142 . Test : 0.0968671687235662\n",
      "286 iter loss. Train : 0.009848061614261314 . Test : 0.09831575778610245\n",
      "287 iter loss. Train : 0.009810707580053122 . Test : 0.09779664497385604\n",
      "288 iter loss. Train : 0.009792860760187396 . Test : 0.09809053833142908\n",
      "289 iter loss. Train : 0.009769623474002237 . Test : 0.09830108940128698\n",
      "290 iter loss. Train : 0.0097692973662429 . Test : 0.09832596620018591\n",
      "291 iter loss. Train : 0.009729337689271717 . Test : 0.09879069514587589\n",
      "292 iter loss. Train : 0.00972426940935434 . Test : 0.09821170088589168\n",
      "293 iter loss. Train : 0.00974397062891716 . Test : 0.09703730614814782\n",
      "294 iter loss. Train : 0.009807983836766003 . Test : 0.09820161354559333\n",
      "295 iter loss. Train : 0.009726173179305535 . Test : 0.09766630560097014\n",
      "296 iter loss. Train : 0.009689448043222327 . Test : 0.09894447302132593\n",
      "297 iter loss. Train : 0.009646976008200085 . Test : 0.098612113993465\n",
      "298 iter loss. Train : 0.00970193098444167 . Test : 0.09902187012965469\n",
      "299 iter loss. Train : 0.009681616299976025 . Test : 0.09817260257365805\n",
      "300 iter loss. Train : 0.009644298915665797 . Test : 0.09936894551404692\n",
      "301 iter loss. Train : 0.0096419571871325 . Test : 0.0991983465942754\n",
      "302 iter loss. Train : 0.009612674717814107 . Test : 0.09964178988990582\n",
      "303 iter loss. Train : 0.009618192599825022 . Test : 0.09901184968826675\n",
      "304 iter loss. Train : 0.009575629755887034 . Test : 0.0996062791622285\n",
      "305 iter loss. Train : 0.009584280624516009 . Test : 0.09988672222544083\n",
      "306 iter loss. Train : 0.009550323326129474 . Test : 0.0998553371715116\n",
      "307 iter loss. Train : 0.009668085951730144 . Test : 0.09782277408395094\n",
      "308 iter loss. Train : 0.009594517630209956 . Test : 0.09866248151108399\n",
      "309 iter loss. Train : 0.009556489448684763 . Test : 0.09937411011956972\n",
      "310 iter loss. Train : 0.009518016400213554 . Test : 0.09977199420627582\n",
      "311 iter loss. Train : 0.009506943046718218 . Test : 0.09981564833117088\n",
      "312 iter loss. Train : 0.009484472963059907 . Test : 0.10080207443997367\n",
      "313 iter loss. Train : 0.009497455991670232 . Test : 0.10047183543976185\n",
      "314 iter loss. Train : 0.009469162503287979 . Test : 0.10040923710199313\n",
      "315 iter loss. Train : 0.009489898404227237 . Test : 0.09846944033458603\n",
      "316 iter loss. Train : 0.009512402734752859 . Test : 0.10030436198228013\n",
      "317 iter loss. Train : 0.00947950055483078 . Test : 0.10019122140704509\n",
      "318 iter loss. Train : 0.00941674623218347 . Test : 0.10064207316324611\n",
      "319 iter loss. Train : 0.009405090577244934 . Test : 0.1000205512947031\n",
      "320 iter loss. Train : 0.009415711748163733 . Test : 0.10059209464452536\n",
      "321 iter loss. Train : 0.00947222870513002 . Test : 0.10054539012980125\n",
      "322 iter loss. Train : 0.009397973337907858 . Test : 0.10129289595457276\n",
      "323 iter loss. Train : 0.009452567132653078 . Test : 0.09950602116854879\n",
      "324 iter loss. Train : 0.00949957271332436 . Test : 0.10031533280495837\n",
      "325 iter loss. Train : 0.009356517570148545 . Test : 0.1008711795562896\n",
      "326 iter loss. Train : 0.00935338786705301 . Test : 0.10112539598525822\n",
      "327 iter loss. Train : 0.00936309027023227 . Test : 0.10067299180282163\n",
      "328 iter loss. Train : 0.009308719302816177 . Test : 0.10154399158157158\n",
      "329 iter loss. Train : 0.00931321750561902 . Test : 0.10197382981537138\n",
      "330 iter loss. Train : 0.009326407577621371 . Test : 0.1010690127140503\n",
      "331 iter loss. Train : 0.009303995825232319 . Test : 0.10161323422380758\n",
      "332 iter loss. Train : 0.009381612079245113 . Test : 0.10203740131135683\n",
      "333 iter loss. Train : 0.009290006337519063 . Test : 0.10142442957161604\n",
      "334 iter loss. Train : 0.009275069631677737 . Test : 0.1018342798676968\n",
      "335 iter loss. Train : 0.009275707717942389 . Test : 0.1010597060907573\n",
      "336 iter loss. Train : 0.009266270523915184 . Test : 0.101696934262277\n",
      "337 iter loss. Train : 0.009244571569927276 . Test : 0.10236656744799699\n",
      "338 iter loss. Train : 0.00938852275925427 . Test : 0.10104484468966275\n",
      "339 iter loss. Train : 0.009257152323608912 . Test : 0.10106366655539928\n",
      "340 iter loss. Train : 0.009211909591593345 . Test : 0.10211772008331965\n"
     ]
    },
    {
     "name": "stdout",
     "output_type": "stream",
     "text": [
      "341 iter loss. Train : 0.009227847564883977 . Test : 0.10142878688598192\n",
      "342 iter loss. Train : 0.009210942858957235 . Test : 0.1021487326768435\n",
      "343 iter loss. Train : 0.009180811075161822 . Test : 0.10261656534753319\n",
      "344 iter loss. Train : 0.009177630702981724 . Test : 0.10275017115673053\n",
      "345 iter loss. Train : 0.009261873690934974 . Test : 0.10105585915749936\n",
      "346 iter loss. Train : 0.00924018952826102 . Test : 0.1026216826084608\n",
      "347 iter loss. Train : 0.009163932749225681 . Test : 0.10246974980825428\n",
      "348 iter loss. Train : 0.009167714072025034 . Test : 0.10271351365746036\n",
      "349 iter loss. Train : 0.009141517928116039 . Test : 0.10314711781903069\n",
      "350 iter loss. Train : 0.009148947026700315 . Test : 0.10183514288742397\n",
      "351 iter loss. Train : 0.00919353026364458 . Test : 0.1028596161350378\n",
      "352 iter loss. Train : 0.009154702335722178 . Test : 0.10322092177405312\n",
      "353 iter loss. Train : 0.009110288259197102 . Test : 0.10272214934039035\n",
      "354 iter loss. Train : 0.00910835785909058 . Test : 0.10282013790717814\n",
      "355 iter loss. Train : 0.009162013248532367 . Test : 0.10303025329693723\n",
      "356 iter loss. Train : 0.00909963031693856 . Test : 0.10311280420525686\n",
      "357 iter loss. Train : 0.009084447721314287 . Test : 0.10345258566694558\n",
      "358 iter loss. Train : 0.009085131680635171 . Test : 0.10280647207682114\n",
      "359 iter loss. Train : 0.009079888391639796 . Test : 0.10308295814896133\n",
      "360 iter loss. Train : 0.009048009766352866 . Test : 0.10332024636855414\n",
      "361 iter loss. Train : 0.009035740076962047 . Test : 0.10389419753001454\n",
      "362 iter loss. Train : 0.009057700697710277 . Test : 0.10274195937341081\n",
      "363 iter loss. Train : 0.009113396251764046 . Test : 0.10331608906191245\n",
      "364 iter loss. Train : 0.009061132812829628 . Test : 0.1030838130221409\n",
      "365 iter loss. Train : 0.009028006838326443 . Test : 0.1033403537460635\n",
      "366 iter loss. Train : 0.009027379093360018 . Test : 0.1030508998135023\n",
      "367 iter loss. Train : 0.008997702773159762 . Test : 0.10355450020543824\n",
      "368 iter loss. Train : 0.009005568908804355 . Test : 0.10380411747568735\n",
      "369 iter loss. Train : 0.00898241555419841 . Test : 0.10395459324493125\n",
      "370 iter loss. Train : 0.009040226401637399 . Test : 0.10410448352142261\n",
      "371 iter loss. Train : 0.00898695427219501 . Test : 0.10393548561640345\n",
      "372 iter loss. Train : 0.0089922495810195 . Test : 0.1038202204715792\n",
      "373 iter loss. Train : 0.008971689599970497 . Test : 0.10359850782712539\n",
      "374 iter loss. Train : 0.008959896934198576 . Test : 0.10423858656366167\n",
      "375 iter loss. Train : 0.008954591337528956 . Test : 0.10451064161846185\n",
      "376 iter loss. Train : 0.008931835787781551 . Test : 0.10420462975449503\n",
      "377 iter loss. Train : 0.008944942920895609 . Test : 0.10422274953338466\n",
      "378 iter loss. Train : 0.008932635548426474 . Test : 0.1041237544469134\n",
      "379 iter loss. Train : 0.009030574577641861 . Test : 0.10287649032071357\n",
      "380 iter loss. Train : 0.00899121337086392 . Test : 0.10502515799520377\n",
      "381 iter loss. Train : 0.008902537521351301 . Test : 0.1043064963726886\n",
      "382 iter loss. Train : 0.008920644505140693 . Test : 0.10432590372966519\n",
      "383 iter loss. Train : 0.008889172527633745 . Test : 0.10461672849960389\n",
      "384 iter loss. Train : 0.0089256445332072 . Test : 0.10387777780920601\n",
      "385 iter loss. Train : 0.008905340796146024 . Test : 0.10500809882471761\n",
      "386 iter loss. Train : 0.008900867676287203 . Test : 0.10477252231820458\n",
      "387 iter loss. Train : 0.008857929103595508 . Test : 0.10476551420880338\n",
      "388 iter loss. Train : 0.008845778722941044 . Test : 0.10586512418221021\n",
      "389 iter loss. Train : 0.008889550014328434 . Test : 0.10462570647232229\n",
      "390 iter loss. Train : 0.008838903186081475 . Test : 0.10510551113591803\n",
      "391 iter loss. Train : 0.008842489813293011 . Test : 0.10532692481786485\n",
      "392 iter loss. Train : 0.008834621231035924 . Test : 0.10569897930754726\n",
      "393 iter loss. Train : 0.008902789611569664 . Test : 0.10428443995742509\n",
      "394 iter loss. Train : 0.00883546048110599 . Test : 0.10550723642780419\n",
      "395 iter loss. Train : 0.008816953601519741 . Test : 0.10583640878392321\n",
      "396 iter loss. Train : 0.008793069485199473 . Test : 0.1059862977072445\n",
      "397 iter loss. Train : 0.008790479548582725 . Test : 0.10634522104451224\n",
      "398 iter loss. Train : 0.008822039758531039 . Test : 0.10546747607803549\n",
      "399 iter loss. Train : 0.008799328077401502 . Test : 0.10450090496977181\n",
      "400 iter loss. Train : 0.008830141356529 . Test : 0.10503060846269589\n",
      "401 iter loss. Train : 0.00878407236902748 . Test : 0.10547003622576637\n",
      "402 iter loss. Train : 0.00878580408507675 . Test : 0.10593468006061457\n",
      "403 iter loss. Train : 0.00875777171864487 . Test : 0.10598091486837728\n",
      "404 iter loss. Train : 0.008771166511487877 . Test : 0.10537841582329877\n",
      "405 iter loss. Train : 0.008769619739736507 . Test : 0.10546250375886393\n",
      "406 iter loss. Train : 0.008745753368528291 . Test : 0.10650886502156712\n",
      "407 iter loss. Train : 0.008737363898841072 . Test : 0.10655759765484446\n",
      "408 iter loss. Train : 0.008744845262919871 . Test : 0.10603344049003598\n",
      "409 iter loss. Train : 0.008741678767305066 . Test : 0.10625359738707593\n",
      "410 iter loss. Train : 0.008716692241806987 . Test : 0.10648101748951382\n",
      "411 iter loss. Train : 0.008766880370121037 . Test : 0.10505185640718903\n",
      "412 iter loss. Train : 0.008763152595466665 . Test : 0.10669291010808823\n",
      "413 iter loss. Train : 0.008730974190726276 . Test : 0.10618916947424674\n",
      "414 iter loss. Train : 0.008711673027053035 . Test : 0.10635751651951904\n",
      "415 iter loss. Train : 0.008697593211835667 . Test : 0.10702394338760822\n",
      "416 iter loss. Train : 0.00868793714283028 . Test : 0.1061658153814348\n",
      "417 iter loss. Train : 0.008695099008846572 . Test : 0.10670450378108703\n",
      "418 iter loss. Train : 0.008700209513838526 . Test : 0.1065003860814257\n",
      "419 iter loss. Train : 0.008660565147043943 . Test : 0.10703349539970318\n",
      "420 iter loss. Train : 0.00865718321145943 . Test : 0.10677696630191075\n",
      "421 iter loss. Train : 0.008670673964650554 . Test : 0.10665252119249427\n",
      "422 iter loss. Train : 0.008654970697157361 . Test : 0.10711899376833185\n",
      "423 iter loss. Train : 0.008663875159074613 . Test : 0.10744088675536428\n",
      "424 iter loss. Train : 0.008689174189245953 . Test : 0.10567254976609321\n",
      "425 iter loss. Train : 0.008687454200457329 . Test : 0.10724519771120987\n",
      "426 iter loss. Train : 0.008657120234442085 . Test : 0.10684520449090158\n",
      "427 iter loss. Train : 0.008641309403713405 . Test : 0.10716258775721002\n",
      "428 iter loss. Train : 0.008619523965529645 . Test : 0.10778136599923463\n",
      "429 iter loss. Train : 0.008594543690918782 . Test : 0.10837818702629871\n",
      "430 iter loss. Train : 0.008637004158828057 . Test : 0.10712910425086133\n",
      "431 iter loss. Train : 0.008597647116775494 . Test : 0.1075367952583639\n",
      "432 iter loss. Train : 0.00859554594518462 . Test : 0.10814557832983845\n",
      "433 iter loss. Train : 0.008636221180507463 . Test : 0.10798617981089545\n",
      "434 iter loss. Train : 0.008602162643236589 . Test : 0.10694580940312959\n",
      "435 iter loss. Train : 0.008652582101755079 . Test : 0.10771962788838262\n",
      "436 iter loss. Train : 0.00860280745014963 . Test : 0.10698397364837232\n",
      "437 iter loss. Train : 0.008584561154279129 . Test : 0.10817834031114829\n",
      "438 iter loss. Train : 0.00858151302672666 . Test : 0.10808692325151892\n",
      "439 iter loss. Train : 0.008569102474350547 . Test : 0.10810420680959058\n",
      "440 iter loss. Train : 0.008575222336472468 . Test : 0.1080570222836156\n",
      "441 iter loss. Train : 0.008563570844229033 . Test : 0.1078239318781206\n",
      "442 iter loss. Train : 0.008551098544798557 . Test : 0.10830669032117618\n",
      "443 iter loss. Train : 0.008558054089037906 . Test : 0.10759507388771647\n",
      "444 iter loss. Train : 0.008551944335605294 . Test : 0.10794076891969416\n",
      "445 iter loss. Train : 0.008536684525444158 . Test : 0.10897184400016471\n",
      "446 iter loss. Train : 0.008549546237536822 . Test : 0.10688877343464193\n",
      "447 iter loss. Train : 0.008624668045868294 . Test : 0.10787499099890821\n",
      "448 iter loss. Train : 0.008531087511598479 . Test : 0.10878329216215676\n",
      "449 iter loss. Train : 0.008501612049478802 . Test : 0.10932417743615108\n",
      "450 iter loss. Train : 0.008524321891640617 . Test : 0.10812124135681013\n",
      "451 iter loss. Train : 0.008573942591715965 . Test : 0.1085429191314488\n",
      "452 iter loss. Train : 0.008514381840621846 . Test : 0.10905731807171637\n",
      "453 iter loss. Train : 0.008524845833677006 . Test : 0.10846212558815224\n"
     ]
    },
    {
     "name": "stdout",
     "output_type": "stream",
     "text": [
      "454 iter loss. Train : 0.008493594026474819 . Test : 0.10886736113777794\n",
      "455 iter loss. Train : 0.008487667693724681 . Test : 0.10900232918161697\n",
      "456 iter loss. Train : 0.008494661600475104 . Test : 0.1088137678830468\n",
      "457 iter loss. Train : 0.00847554518543441 . Test : 0.10890198083372789\n",
      "458 iter loss. Train : 0.008478501308044834 . Test : 0.10902541088283746\n",
      "459 iter loss. Train : 0.008481138536487855 . Test : 0.10906052461969559\n",
      "460 iter loss. Train : 0.008500835755532916 . Test : 0.10889476125260415\n",
      "461 iter loss. Train : 0.00848222746534043 . Test : 0.10905709303556706\n",
      "462 iter loss. Train : 0.008479268913411128 . Test : 0.10873618600252154\n",
      "463 iter loss. Train : 0.008465899661684333 . Test : 0.10893097650251818\n",
      "464 iter loss. Train : 0.008452035950717012 . Test : 0.10885865096166047\n",
      "465 iter loss. Train : 0.008448737922791282 . Test : 0.10935079659101457\n",
      "466 iter loss. Train : 0.008415639285438476 . Test : 0.11003055465756027\n",
      "467 iter loss. Train : 0.008483870610302615 . Test : 0.10942994519191475\n",
      "468 iter loss. Train : 0.008427706181937318 . Test : 0.11000957468444254\n",
      "469 iter loss. Train : 0.00844161084542858 . Test : 0.10848170056568757\n",
      "470 iter loss. Train : 0.008479476578285928 . Test : 0.1091254807129141\n",
      "471 iter loss. Train : 0.00844638911184425 . Test : 0.10957180650875192\n",
      "472 iter loss. Train : 0.00840193219335336 . Test : 0.10986736941400572\n",
      "473 iter loss. Train : 0.00841422933375475 . Test : 0.11002804247427195\n",
      "474 iter loss. Train : 0.008412359812513454 . Test : 0.11033117639830112\n",
      "475 iter loss. Train : 0.008431407119015223 . Test : 0.10920124057703667\n",
      "476 iter loss. Train : 0.008433221430632739 . Test : 0.10872017371870446\n",
      "477 iter loss. Train : 0.008409057323629133 . Test : 0.10968329919663228\n",
      "478 iter loss. Train : 0.008404250087837661 . Test : 0.10923610532843807\n",
      "479 iter loss. Train : 0.008391307330394497 . Test : 0.10908125909401957\n",
      "480 iter loss. Train : 0.008402106593109708 . Test : 0.10920787657666779\n",
      "481 iter loss. Train : 0.008383288051343476 . Test : 0.10986697758723898\n",
      "482 iter loss. Train : 0.008373836998308576 . Test : 0.11011318443318288\n",
      "483 iter loss. Train : 0.008372413537975638 . Test : 0.11007005542878846\n",
      "484 iter loss. Train : 0.008371412709288687 . Test : 0.10993785750937549\n",
      "485 iter loss. Train : 0.008367346146798588 . Test : 0.10996086457442518\n",
      "486 iter loss. Train : 0.008379639278617944 . Test : 0.10966301020446859\n",
      "487 iter loss. Train : 0.008363560561500722 . Test : 0.11058576618218324\n",
      "488 iter loss. Train : 0.0083746572859455 . Test : 0.10879310339254326\n",
      "489 iter loss. Train : 0.008410541872049116 . Test : 0.10972460645741847\n",
      "490 iter loss. Train : 0.008339590697662005 . Test : 0.1096953173466463\n",
      "491 iter loss. Train : 0.00834583433480518 . Test : 0.11047456388767773\n",
      "492 iter loss. Train : 0.008351205642159087 . Test : 0.1106480377553396\n",
      "493 iter loss. Train : 0.00834117650154221 . Test : 0.10971353152875894\n",
      "494 iter loss. Train : 0.0083345925863614 . Test : 0.11046983379934804\n",
      "495 iter loss. Train : 0.008324059519024988 . Test : 0.110447542946149\n",
      "496 iter loss. Train : 0.008331228104351033 . Test : 0.11063146417590124\n",
      "497 iter loss. Train : 0.00831614121807258 . Test : 0.11045725178280526\n",
      "498 iter loss. Train : 0.008302991066205495 . Test : 0.11148333882965754\n",
      "499 iter loss. Train : 0.008338838883562317 . Test : 0.10981352948907898\n"
     ]
    }
   ],
   "source": [
    "net = MnistNet(0)\n",
    "loss = CrossEntropy()\n",
    "lr = 0.001\n",
    "L_train = []\n",
    "L_test = []\n",
    "for iter in range(500):\n",
    "    L_acc = 0.\n",
    "    sh = list(range(X_train.shape[0])) # больше рандома богу рандома\n",
    "    np.random.shuffle(sh)\n",
    "    for i in range(X_train.shape[0]):\n",
    "        x = X_train[sh[i]]\n",
    "        y = Y_train[sh[i]]\n",
    "        y_h = net.forward(x)\n",
    "        L = loss.forward(y, y_h) #+ net.get_reg_loss()\n",
    "        L_acc += L \n",
    "        dz = loss.backward(1, lr)\n",
    "        dz = net.backward(dz, lr)\n",
    "    L_acc /= Y_train.shape[0]\n",
    "    L_train.append(L_acc)\n",
    "    L_e_acc = 0.\n",
    "    for i in range(X_test.shape[0]):\n",
    "        x = X_test[i]\n",
    "        y = Y_test[i]\n",
    "        y_h = net.forward(x)\n",
    "        L = loss.forward(y, y_h) #+ net.get_reg_loss()\n",
    "        L_e_acc += L\n",
    "    L_e_acc /= Y_test.shape[0]\n",
    "    L_test.append(L_e_acc)\n",
    "    print(\"{} iter loss. Train : {} . Test : {}\".format(iter, L_acc, L_e_acc))"
   ]
  },
  {
   "cell_type": "code",
   "execution_count": 54,
   "metadata": {},
   "outputs": [
    {
     "data": {
      "text/plain": [
       "[<matplotlib.lines.Line2D at 0x1a251a8048>]"
      ]
     },
     "execution_count": 54,
     "metadata": {},
     "output_type": "execute_result"
    },
    {
     "data": {
      "image/png": "[encoded data removed]",
      "text/plain": [
       "<Figure size 432x288 with 1 Axes>"
      ]
     },
     "metadata": {
      "needs_background": "light"
     },
     "output_type": "display_data"
    }
   ],
   "source": [
    "plt.plot(L_train, label='train')\n",
    "plt.plot(L_test, label='test')"
   ]
  },
  {
   "cell_type": "code",
   "execution_count": 55,
   "metadata": {},
   "outputs": [
    {
     "data": {
      "image/png": "[encoded data removed]",
      "text/plain": [
       "<Figure size 432x432 with 9 Axes>"
      ]
     },
     "metadata": {
      "needs_background": "light"
     },
     "output_type": "display_data"
    }
   ],
   "source": [
    "plt.figure(figsize=(6,6))\n",
    "\n",
    "sh = list(range(X_test.shape[0]))\n",
    "np.random.shuffle(sh)\n",
    "\n",
    "n = 3\n",
    "for i in range(n*n):\n",
    "    ax = plt.subplot(n, n, i+1)\n",
    "\n",
    "    j = sh[i]\n",
    "    R = np.argmax(Y_test[j])\n",
    "    P = net.forward(X_test[j])\n",
    "    Rp = np.argmax(P)\n",
    "\n",
    "    ax.set_title('%s = %.2f R:%s' % (Rp, P[Rp], R))\n",
    "    ax.set_axis_off()\n",
    "    plt.imshow(X_test[j].reshape((28, 28)))\n"
   ]
  },
  {
   "cell_type": "code",
   "execution_count": 56,
   "metadata": {},
   "outputs": [
    {
     "data": {
      "image/png": "[encoded data removed]",
      "text/plain": [
       "<Figure size 432x432 with 2 Axes>"
      ]
     },
     "metadata": {
      "needs_background": "light"
     },
     "output_type": "display_data"
    }
   ],
   "source": [
    "plt.figure(figsize=(6,6))\n",
    "\n",
    "for i in range(0, 2):\n",
    "    ax = plt.subplot(1, 2, i + 1)\n",
    "    ax.set_title('%s' % (i))\n",
    "    ax.set_axis_off()\n",
    "    plt.imshow( net.d.W[i].reshape((28, 28)).T, cmap='gray' )"
   ]
  },
  {
   "cell_type": "markdown",
   "metadata": {},
   "source": [
    "# Pytorch. Autograd.\n",
    "\n",
    "Переходим в другой ноутбук."
   ]
  },
  {
   "cell_type": "markdown",
   "metadata": {},
   "source": [
    "# Чеклист"
   ]
  },
  {
   "cell_type": "markdown",
   "metadata": {},
   "source": [
    "- устройство многослойного персептрона\n",
    "- слои: полносвязный, ReLu, Softmax, Dropout, CrossEntropy\n",
    "- chain rule\n",
    "- правило дифференцирования сложной функции\n",
    "- алгоритм обратного распространения ошибки\n",
    "- Xavier's / He's инициализации\n",
    "- почему при обучении сеть потребляет больше памяти, чем при выводе"
   ]
  },
  {
   "cell_type": "markdown",
   "metadata": {},
   "source": [
    "# Почитать"
   ]
  },
  {
   "cell_type": "markdown",
   "metadata": {},
   "source": [
    "Backprop: лекция в cs231n\n",
    "- почитать: http://cs231n.github.io/optimization-2/\n",
    "- посмотреть: https://www.youtube.com/watch?v=d14TUNcbn1k\n",
    "\n",
    "Устройство мозга\n",
    "- медицина: https://www.coursera.org/learn/medical-neuroscience\n",
    "- информатика: https://www.coursera.org/learn/computational-neuroscience\n",
    "\n",
    "Нейроморфные процессоры\n",
    "- IBM SyNAPSE chip: http://research.ibm.com/cognitive-computing/neurosynaptic-chips.shtml"
   ]
  },
  {
   "cell_type": "code",
   "execution_count": null,
   "metadata": {},
   "outputs": [],
   "source": []
  },
  {
   "cell_type": "code",
   "execution_count": null,
   "metadata": {},
   "outputs": [],
   "source": []
  },
  {
   "cell_type": "code",
   "execution_count": null,
   "metadata": {},
   "outputs": [],
   "source": []
  }
 ],
 "metadata": {
  "kernelspec": {
   "display_name": "Python 3",
   "language": "python",
   "name": "python3"
  },
  "language_info": {
   "codemirror_mode": {
    "name": "ipython",
    "version": 3
   },
   "file_extension": ".py",
   "mimetype": "text/x-python",
   "name": "python",
   "nbconvert_exporter": "python",
   "pygments_lexer": "ipython3",
   "version": "3.7.2"
  }
 },
 "nbformat": 4,
 "nbformat_minor": 2
}
