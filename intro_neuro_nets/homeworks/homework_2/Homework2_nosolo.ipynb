{
 "cells": [
  {
   "cell_type": "code",
   "execution_count": 1,
   "metadata": {},
   "outputs": [],
   "source": [
    "import numpy as np\n",
    "import matplotlib.pyplot as plt\n",
    "import pickle\n",
    "import copy\n",
    "from sklearn.model_selection import train_test_split\n",
    "from sklearn.model_selection import StratifiedKFold\n",
    "from sklearn.metrics import log_loss\n",
    "%matplotlib inline"
   ]
  },
  {
   "cell_type": "code",
   "execution_count": 2,
   "metadata": {},
   "outputs": [],
   "source": [
    "# класс one-hot encoder'а для MNIST\n",
    "class OneHotEncoder:\n",
    "    def __init__(self):\n",
    "        self.transform_mapping = np.zeros((10,10))\n",
    "        for i in range(self.transform_mapping.shape[0]):\n",
    "            self.transform_mapping[i][i] = 1.0\n",
    "    def transform(self, y):\n",
    "        return self.transform_mapping[int(y)]"
   ]
  },
  {
   "cell_type": "code",
   "execution_count": 3,
   "metadata": {},
   "outputs": [],
   "source": [
    "def make_submission(X_test, net, fname=\"my_submission.csv\"):\n",
    "    with open(fname,'w') as fout:\n",
    "        fout.write('Id,Category')\n",
    "        for i in range(X_test.shape[0]):\n",
    "            y_h = net.predict(X_test[i])\n",
    "            y = np.argmax(y_h)\n",
    "            fout.write(\"\\n{},{}\".format(i, int(y)))"
   ]
  },
  {
   "cell_type": "code",
   "execution_count": 4,
   "metadata": {},
   "outputs": [],
   "source": [
    "# внимание, тут Y_test в обычном формате(не onehot)\n",
    "def compute_acc(X_test, Y_test, net):\n",
    "    acc = 0.0\n",
    "    for i in range(X_test.shape[0]):\n",
    "        y_h = net.forward(X_test[i])\n",
    "        y = np.argmax(y_h)\n",
    "        if(y == Y_test[i]):\n",
    "            acc += 1.0\n",
    "    return acc / Y_test.shape[0]"
   ]
  },
  {
   "cell_type": "code",
   "execution_count": 5,
   "metadata": {},
   "outputs": [],
   "source": [
    "train_data = None\n",
    "test_data = None\n",
    "encoder = OneHotEncoder()\n",
    "with open('data_train.pickle','rb') as fin:\n",
    "    train_data = pickle.load(fin)\n",
    "with open('data_test_no_labels.pickle','rb') as fin:\n",
    "    test_data = pickle.load(fin)\n",
    "    \n",
    "X_train = train_data['data']\n",
    "Y_train = train_data['target']\n",
    "Y_train_oh = np.array(list(map(lambda x : encoder.transform(x), Y_train)))\n",
    "\n",
    "\n",
    "X_test_fin = test_data['data']"
   ]
  },
  {
   "cell_type": "code",
   "execution_count": 6,
   "metadata": {},
   "outputs": [
    {
     "data": {
      "image/png": "[encoded data removed]",
      "text/plain": [
       "<Figure size 432x288 with 16 Axes>"
      ]
     },
     "metadata": {
      "needs_background": "light"
     },
     "output_type": "display_data"
    }
   ],
   "source": [
    "n=4\n",
    "for i in range(n*n):\n",
    "    plt.subplot(n,n,i+1)\n",
    "    I = train_data['data'][np.random.randint(0, X_train.shape[0]),:]\n",
    "    I = I.reshape((28, 28))\n",
    "    plt.imshow(I, cmap='gray')"
   ]
  },
  {
   "cell_type": "markdown",
   "metadata": {},
   "source": [
    "## Подготовка датасета"
   ]
  },
  {
   "cell_type": "markdown",
   "metadata": {},
   "source": [
    "### Деление на обучающие, тестовые и валидационные подвыборки"
   ]
  },
  {
   "cell_type": "code",
   "execution_count": 7,
   "metadata": {},
   "outputs": [],
   "source": [
    "X_train, X_test, y_train, y_test = train_test_split(X_train, Y_train_oh, test_size=0.2, \n",
    "                                                    random_state=12, stratify=Y_train)"
   ]
  },
  {
   "cell_type": "code",
   "execution_count": 8,
   "metadata": {},
   "outputs": [
    {
     "data": {
      "text/plain": [
       "42000"
      ]
     },
     "execution_count": 8,
     "metadata": {},
     "output_type": "execute_result"
    }
   ],
   "source": [
    "len(y_train)"
   ]
  },
  {
   "cell_type": "code",
   "execution_count": 9,
   "metadata": {},
   "outputs": [
    {
     "data": {
      "text/plain": [
       "10500"
      ]
     },
     "execution_count": 9,
     "metadata": {},
     "output_type": "execute_result"
    }
   ],
   "source": [
    "len(y_test)"
   ]
  },
  {
   "cell_type": "code",
   "execution_count": 10,
   "metadata": {},
   "outputs": [],
   "source": [
    "X_train, X_val, y_train, y_val = train_test_split(X_train, y_train, test_size=0.2, \n",
    "                                                    random_state=12)"
   ]
  },
  {
   "cell_type": "code",
   "execution_count": 11,
   "metadata": {},
   "outputs": [
    {
     "data": {
      "text/plain": [
       "33600"
      ]
     },
     "execution_count": 11,
     "metadata": {},
     "output_type": "execute_result"
    }
   ],
   "source": [
    "len(y_train)"
   ]
  },
  {
   "cell_type": "code",
   "execution_count": 12,
   "metadata": {},
   "outputs": [
    {
     "data": {
      "text/plain": [
       "8400"
      ]
     },
     "execution_count": 12,
     "metadata": {},
     "output_type": "execute_result"
    }
   ],
   "source": [
    "len(y_val)"
   ]
  },
  {
   "cell_type": "markdown",
   "metadata": {},
   "source": [
    "### Непосредственное преобразование данных"
   ]
  },
  {
   "cell_type": "code",
   "execution_count": 13,
   "metadata": {},
   "outputs": [],
   "source": [
    "mu = np.mean(X_train)\n",
    "std = np.std(X_train)\n",
    "eps = 1e-5"
   ]
  },
  {
   "cell_type": "code",
   "execution_count": 14,
   "metadata": {},
   "outputs": [],
   "source": [
    "X_train = (X_train - mu) / (std + eps)\n",
    "X_val = (X_val - mu) / (std + eps)\n",
    "X_test = (X_test - mu) / (std + eps)"
   ]
  },
  {
   "cell_type": "code",
   "execution_count": 15,
   "metadata": {},
   "outputs": [],
   "source": [
    "X_test_fin = (X_test_fin - mu) / (std + eps)"
   ]
  },
  {
   "cell_type": "code",
   "execution_count": 16,
   "metadata": {},
   "outputs": [],
   "source": [
    "A = np.array([[1, 2], [3, 4]])"
   ]
  },
  {
   "cell_type": "code",
   "execution_count": 17,
   "metadata": {},
   "outputs": [
    {
     "data": {
      "text/plain": [
       "array([3, 7])"
      ]
     },
     "execution_count": 17,
     "metadata": {},
     "output_type": "execute_result"
    }
   ],
   "source": [
    "np.sum(A, axis=1)"
   ]
  },
  {
   "cell_type": "markdown",
   "metadata": {},
   "source": [
    "## Определение слоев сети"
   ]
  },
  {
   "cell_type": "code",
   "execution_count": 18,
   "metadata": {},
   "outputs": [],
   "source": [
    "class Softmax:\n",
    "    \n",
    "    def forward(self, x):\n",
    "        self.x = x\n",
    "        exps = np.exp(x)\n",
    "        cache = exps\n",
    "        return (exps / np.sum(exps, axis=1).reshape(-1, 1)), cache \n",
    "    \n",
    "    def backward(self, din, cache):\n",
    "        exps = cache\n",
    "        sums = np.sum(exps, axis=1)\n",
    "        isums = 1 / sums\n",
    "        dhat1 = din * isums.reshape(-1, 1)\n",
    "        \n",
    "        dhat2 = din * exps\n",
    "        dhat2 = dhat2 * (- isums * isums).reshape(-1, 1)\n",
    "        dhat2 = dhat2 * exps\n",
    "        \n",
    "        dexp = dhat1 + dhat2\n",
    "        \n",
    "        dout = dexp * exps\n",
    "        return dout"
   ]
  },
  {
   "cell_type": "code",
   "execution_count": 19,
   "metadata": {},
   "outputs": [],
   "source": [
    "class CrossEntropy:\n",
    "    \n",
    "    def forward(self, y, scores):\n",
    "        sm = Softmax()\n",
    "        self.sm = sm\n",
    "        \n",
    "        loss = 0\n",
    "        probs, cache_sm = sm.forward(scores)\n",
    "        logs = - np.log(probs) * y\n",
    "        loss = np.sum(logs) / len(y)\n",
    "        \n",
    "        cache = (y, scores, probs, logs, cache_sm)\n",
    "        \n",
    "        return loss, cache\n",
    "        \n",
    "    \n",
    "    def backward(self, din, cache):\n",
    "        y, scores, probs, logs, exps = cache\n",
    "        N = len(y)\n",
    "        \n",
    "        dsum = - din * (1 / N) * y * np.ones_like(probs)\n",
    "        dlog = dsum / probs\n",
    "        dout = self.sm.backward(dlog, exps)\n",
    "        return dout"
   ]
  },
  {
   "cell_type": "code",
   "execution_count": 71,
   "metadata": {},
   "outputs": [],
   "source": [
    "class MultiLayerNetwork:\n",
    "    \n",
    "    def __init__(self, in_size, hidden_sizes, num_classes, reg=0.0, learning_rate=1e-5):\n",
    "        sizes = np.hstack((np.array(in_size), hidden_sizes, np.array(num_classes)))\n",
    "        self.W = []\n",
    "        self.b = []\n",
    "        \n",
    "        for i in range(len(sizes) - 1):\n",
    "            in_size = sizes[i]\n",
    "            out_size = sizes[i+1]\n",
    "            self.W.append(np.random.normal(scale=1, size=[in_size, out_size]) * np.sqrt(2 / in_size))\n",
    "            self.b.append(np.zeros(out_size))\n",
    "        \n",
    "        self.reg = reg\n",
    "        self.lr = learning_rate\n",
    "    \n",
    "    def affine_forward(self, x, num):\n",
    "        W = self.W[num]\n",
    "        b = self.b[num]\n",
    "        out = np.dot(x, W) + b\n",
    "        cache = (x, num)\n",
    "        return out, cache\n",
    "    \n",
    "    def relu_forward(self, x):\n",
    "        return np.maximum(0, x)\n",
    "    \n",
    "    def affine_relu_forward(self, x, num):\n",
    "        y, affine_cache = self.affine_forward(x, num)\n",
    "        out = self.relu_forward(y)\n",
    "        relu_cache = out\n",
    "        return out, (affine_cache, relu_cache)\n",
    "    \n",
    "    \n",
    "    def affine_backward(self, dout, cache):\n",
    "        x, num = cache\n",
    "        W = self.W[num]\n",
    "        b = self.b[num]\n",
    "        num_exam = x.shape[0]\n",
    "        \n",
    "        dw = np.dot(x.reshape(num_exam, -1).T, dout)\n",
    "        dx = np.dot(dout, W.T).reshape(x.shape)\n",
    "        db = np.dot(np.ones(num_exam), dout).T\n",
    "        \n",
    "        return dx, dw, db\n",
    "        \n",
    "    def relu_backward(self, dout, cache):\n",
    "        mask = cache\n",
    "        mask = mask <= 0\n",
    "        or_shape = dout.shape\n",
    "        dx = copy.deepcopy(dout)\n",
    "        dx = dout.flatten()\n",
    "        mask = mask.flatten()\n",
    "        dx[mask] = 0\n",
    "        dx = dx.reshape(or_shape)\n",
    "        \n",
    "        return dx\n",
    "\n",
    "    def affine_relu_backward(self, dout, cache):\n",
    "        affine_cache, relu_cache = cache\n",
    "        dout = self.relu_backward(dout, relu_cache)\n",
    "        dx, dw, db = self.affine_backward(dout, affine_cache)\n",
    "        return dx, dw, db\n",
    "    \n",
    "    def predict(self, x):\n",
    "        h = copy.deepcopy(x)\n",
    "        for num in range(len(self.W) - 1):\n",
    "            h, _ = self.affine_relu_forward(h, num)\n",
    "        num += 1\n",
    "        scores, _ = self.affine_forward(h, num)\n",
    "        return scores\n",
    "    \n",
    "    def forward_pass(self, x, y):\n",
    "        cache = []\n",
    "        masks = []\n",
    "        batch = x\n",
    "        for num in range(len(self.W) - 1):\n",
    "            batch, cur_cache = self.affine_relu_forward(batch, num)\n",
    "            batch, cur_mask = self.forward_dropout(batch)\n",
    "            cache.append(cur_cache)\n",
    "            masks.append(cur_mask)\n",
    "        num += 1\n",
    "        scores, cur_cache = self.affine_forward(batch, num)\n",
    "        cache.append(cur_cache)\n",
    "        return scores, cache, masks\n",
    "    \n",
    "    def forward_dropout(self, x):\n",
    "        p = self.p\n",
    "        mask = (np.random.rand(*x.shape) < p) / p\n",
    "        out = x * mask\n",
    "        return out, mask\n",
    "        \n",
    "    def backward_dropout(self, din, mask):\n",
    "        return din * mask\n",
    "    \n",
    "    def forward_loss(self, scores, y, loss_f):\n",
    "        sum_ww = 0\n",
    "        num = 0\n",
    "        reg = self.reg\n",
    "        for num in range(len(self.W)):\n",
    "            w = self.W[num]\n",
    "            sum_ww += np.sum(w * w)\n",
    "        loss, loss_cache = loss_f.forward(y, scores)\n",
    "        loss += 0.5 * reg * sum_ww\n",
    "        return loss, loss_cache\n",
    "     \n",
    "    def train(self, x, y, X_val, y_val, epoches=1, batch_size=1, p=1):\n",
    "        reg = self.reg\n",
    "        lr = self.lr\n",
    "        self.p = p\n",
    "        iter_per_epoche = x.shape[0] // batch_size\n",
    "        tr_losses = []\n",
    "        te_losses = []\n",
    "        for epoche in range(epoches):\n",
    "            for i in range(iter_per_epoche):\n",
    "                idx = np.random.randint(low=0, high=x.shape[0], size=batch_size)\n",
    "                batch = x[idx]\n",
    "                batch_y = y[idx]\n",
    "                \n",
    "                #forward pass\n",
    "                scores, cache, masks= self.forward_pass(batch, batch_y)\n",
    "                loss_f = CrossEntropy()\n",
    "                loss, loss_cache = self.forward_loss(scores, batch_y, loss_f)\n",
    "                \n",
    "                #backward pass\n",
    "                dout = 1\n",
    "                dout = loss_f.backward(dout, loss_cache)\n",
    "                dout, dw, db = self.affine_backward(dout, cache[-1])\n",
    "                self.W[-1] -= (lr * dw + reg * self.W[-1])\n",
    "                self.b[-1] -= lr * db\n",
    "                for i in range(len(cache)-2, -1, -1):\n",
    "                    dout = self.backward_dropout(dout, masks[i])\n",
    "                    dout, dw, db = self.affine_relu_backward(dout, cache[i])\n",
    "                    self.W[i] -= (lr * dw + reg * self.W[i])\n",
    "                    self.b[i] -= lr * db\n",
    "            \n",
    "            \n",
    "            scores = self.predict(x)\n",
    "            loss, loss_cache = loss_f.forward(y, scores)\n",
    "            acc = compute_acc(x[0:10000], y[0:10000], self)\n",
    "            tr_losses.append((loss, acc))\n",
    "            \n",
    "            scores = self.predict(X_val)\n",
    "            loss, loss_cache = loss_f.forward(y_val, scores)\n",
    "            acc = compute_acc(X_val[0:1000], y_val[0:1000], self)\n",
    "            te_losses.append((loss, acc))\n",
    "                \n",
    "            if(epoche % 10 == 0):\n",
    "                print(\"epoche:\", epoche)\n",
    "                scores = self.predict(x)\n",
    "                loss, loss_cache = self.forward_loss(scores, y, loss_f)\n",
    "                print(loss)\n",
    "                \n",
    "        return (tr_losses, te_losses)\n",
    "                "
   ]
  },
  {
   "cell_type": "code",
   "execution_count": 72,
   "metadata": {},
   "outputs": [],
   "source": [
    "def compute_acc(X_test, Y_test, net):\n",
    "    acc = 0.0\n",
    "    for i in range(X_test.shape[0]):\n",
    "        y_h = net.predict(X_test[i])\n",
    "        y = np.argmax(y_h)\n",
    "        idx = np.argmax(Y_test[i])\n",
    "        if(y == idx):\n",
    "            acc += 1.0\n",
    "    return acc / Y_test.shape[0]"
   ]
  },
  {
   "cell_type": "code",
   "execution_count": 73,
   "metadata": {},
   "outputs": [
    {
     "data": {
      "text/plain": [
       "33600"
      ]
     },
     "execution_count": 73,
     "metadata": {},
     "output_type": "execute_result"
    }
   ],
   "source": [
    "X_train.shape[0]"
   ]
  },
  {
   "cell_type": "markdown",
   "metadata": {},
   "source": [
    "## Опеределение самой сети"
   ]
  },
  {
   "cell_type": "code",
   "execution_count": 108,
   "metadata": {},
   "outputs": [
    {
     "name": "stdout",
     "output_type": "stream",
     "text": [
      "epoche: 0\n",
      "3.292045408221199\n",
      "epoche: 10\n",
      "3.2155252836262322\n",
      "epoche: 20\n",
      "3.1426127953150464\n",
      "epoche: 30\n",
      "3.072640546398094\n",
      "epoche: 40\n",
      "3.006876473919874\n",
      "epoche: 50\n",
      "2.9340540349488373\n",
      "epoche: 60\n",
      "2.872009788642628\n",
      "epoche: 70\n",
      "2.8137939274434256\n",
      "epoche: 80\n",
      "2.7528413367027396\n",
      "epoche: 90\n",
      "2.6929845060390756\n",
      "epoche: 100\n",
      "2.632204910922037\n",
      "epoche: 110\n",
      "2.57509509085314\n",
      "epoche: 120\n",
      "2.524437159057649\n",
      "epoche: 130\n",
      "2.469964456756738\n",
      "epoche: 140\n",
      "2.4173343029111414\n",
      "epoche: 150\n",
      "2.370313410907985\n",
      "epoche: 160\n",
      "2.324385032548393\n",
      "epoche: 170\n",
      "2.2777618824155916\n",
      "epoche: 180\n",
      "2.2331185496585504\n",
      "epoche: 190\n",
      "2.1933438739111986\n",
      "epoche: 200\n",
      "2.1514873920475397\n",
      "epoche: 210\n",
      "2.1135991690052083\n",
      "epoche: 220\n",
      "2.0789134073141393\n",
      "epoche: 230\n",
      "2.047860492435311\n",
      "epoche: 240\n",
      "2.017519247919636\n",
      "epoche: 250\n",
      "1.9878326330456801\n",
      "epoche: 260\n",
      "1.9608363648314235\n",
      "epoche: 270\n",
      "1.9386163332041975\n",
      "epoche: 280\n",
      "1.9167905278461455\n",
      "epoche: 290\n",
      "1.8910865137473543\n",
      "epoche: 300\n",
      "1.872048151444347\n",
      "epoche: 310\n",
      "1.8531031878751942\n",
      "epoche: 320\n",
      "1.8389444900049459\n",
      "epoche: 330\n",
      "1.820863988643108\n",
      "epoche: 340\n",
      "1.8077725512719311\n",
      "epoche: 350\n",
      "1.7904030769177968\n",
      "epoche: 360\n",
      "1.7730725000660286\n",
      "epoche: 370\n",
      "1.7562374780329513\n",
      "epoche: 380\n",
      "1.745451619378232\n",
      "epoche: 390\n",
      "1.733708768550796\n",
      "epoche: 400\n",
      "1.7229799494336557\n",
      "epoche: 410\n",
      "1.7100445281348002\n",
      "epoche: 420\n",
      "1.699020292375375\n",
      "epoche: 430\n",
      "1.6880116511345236\n",
      "epoche: 440\n",
      "1.679348927638585\n",
      "epoche: 450\n",
      "1.6694648711084654\n",
      "epoche: 460\n",
      "1.6595450325936096\n",
      "epoche: 470\n",
      "1.6499111032409886\n",
      "epoche: 480\n",
      "1.6428251630452853\n",
      "epoche: 490\n",
      "1.6356697919165988\n",
      "epoche: 500\n",
      "1.62796390788646\n",
      "epoche: 510\n",
      "1.622722152833738\n",
      "epoche: 520\n",
      "1.6185405587016881\n",
      "epoche: 530\n",
      "1.6139489500558475\n",
      "epoche: 540\n",
      "1.6101245951581487\n",
      "epoche: 550\n",
      "1.6062917400831804\n",
      "epoche: 560\n",
      "1.603022612342016\n",
      "epoche: 570\n",
      "1.5989442976768575\n",
      "epoche: 580\n",
      "1.5953273283219127\n",
      "epoche: 590\n",
      "1.5926530638552576\n"
     ]
    }
   ],
   "source": [
    "\"\"\"learning_rate = [2e-4]\n",
    "losses = []\n",
    "for lr in learning_rate:\"\"\"\n",
    "lr = 1e-5\n",
    "net = MultiLayerNetwork(X_train.shape[1], 100, 10, learning_rate=lr, reg=0)\n",
    "losses = net.train(X_train[0:10], y_train[0:10], X_val, y_val, batch_size = 1, epoches=600, p=1)\n",
    "#losses.append(cur_losses)"
   ]
  },
  {
   "cell_type": "code",
   "execution_count": null,
   "metadata": {},
   "outputs": [],
   "source": [
    "ce = CrossEntropy()\n",
    "scores = [[0.375, 0.625], [0.9, 0.1], [0.33, 0.67]]\n",
    "y = [[0, 1], [0, 1], [1, 0]]\n",
    "loss, cache = ce.forward(y, scores)\n",
    "loss"
   ]
  },
  {
   "cell_type": "code",
   "execution_count": 419,
   "metadata": {},
   "outputs": [
    {
     "data": {
      "text/plain": [
       "1.293750448920464"
      ]
     },
     "execution_count": 419,
     "metadata": {},
     "output_type": "execute_result"
    }
   ],
   "source": [
    "log_loss([1, 1, 0], [[0.375, 0.625], [0.9, 0.1], [0.33, 0.67]])"
   ]
  },
  {
   "cell_type": "code",
   "execution_count": 109,
   "metadata": {},
   "outputs": [
    {
     "data": {
      "text/plain": [
       "0.1"
      ]
     },
     "execution_count": 109,
     "metadata": {},
     "output_type": "execute_result"
    }
   ],
   "source": [
    "compute_acc(X_train[0:10], y_train[0:10], net)"
   ]
  },
  {
   "cell_type": "code",
   "execution_count": 110,
   "metadata": {},
   "outputs": [
    {
     "data": {
      "text/plain": [
       "0.12285714285714286"
      ]
     },
     "execution_count": 110,
     "metadata": {},
     "output_type": "execute_result"
    }
   ],
   "source": [
    "compute_acc(X_test, y_test, net)"
   ]
  },
  {
   "cell_type": "code",
   "execution_count": 111,
   "metadata": {},
   "outputs": [
    {
     "data": {
      "text/plain": [
       "0.12738095238095237"
      ]
     },
     "execution_count": 111,
     "metadata": {},
     "output_type": "execute_result"
    }
   ],
   "source": [
    "compute_acc(X_val, y_val, net)"
   ]
  },
  {
   "cell_type": "markdown",
   "metadata": {},
   "source": [
    "## Графики CrossEntropyLoss для обучающей и валидационной выборок"
   ]
  },
  {
   "cell_type": "code",
   "execution_count": 112,
   "metadata": {},
   "outputs": [
    {
     "data": {
      "text/plain": [
       "'t1, t2, t3 = losses\\ntr1, te1 = t1\\ntr2, te2 = t2\\ntr3, te3 = t3'"
      ]
     },
     "execution_count": 112,
     "metadata": {},
     "output_type": "execute_result"
    }
   ],
   "source": [
    "\"\"\"t1, t2, t3 = losses\n",
    "tr1, te1 = t1\n",
    "tr2, te2 = t2\n",
    "tr3, te3 = t3\"\"\""
   ]
  },
  {
   "cell_type": "code",
   "execution_count": 113,
   "metadata": {},
   "outputs": [
    {
     "data": {
      "text/plain": [
       "\"plt.title('loss')\\nplt.plot([e[0] for e in tr1], label='1')\\nplt.plot([e[0] for e in tr2], label='2')\\nplt.plot([e[0] for e in tr3], label='3')\\nplt.legend()\""
      ]
     },
     "execution_count": 113,
     "metadata": {},
     "output_type": "execute_result"
    },
    {
     "data": {
      "image/png": "[encoded data removed]",
      "text/plain": [
       "<Figure size 432x288 with 1 Axes>"
      ]
     },
     "metadata": {
      "needs_background": "light"
     },
     "output_type": "display_data"
    }
   ],
   "source": [
    "tr, te = losses\n",
    "plt.title('loss')\n",
    "plt.plot([e[0] for e in tr], label='train')\n",
    "plt.plot([e[0] for e in tr], label='val')\n",
    "plt.legend()\n",
    "\"\"\"plt.title('loss')\n",
    "plt.plot([e[0] for e in tr1], label='1')\n",
    "plt.plot([e[0] for e in tr2], label='2')\n",
    "plt.plot([e[0] for e in tr3], label='3')\n",
    "plt.legend()\"\"\""
   ]
  },
  {
   "cell_type": "code",
   "execution_count": 114,
   "metadata": {},
   "outputs": [
    {
     "data": {
      "text/plain": [
       "\"plt.title('acc')\\nplt.plot([e[1] for e in te1], label='1')\\nplt.plot([e[1] for e in te2], label='2')\\nplt.plot([e[1] for e in te3], label='3')\\nplt.legend()\""
      ]
     },
     "execution_count": 114,
     "metadata": {},
     "output_type": "execute_result"
    },
    {
     "data": {
      "image/png": "[encoded data removed]",
      "text/plain": [
       "<Figure size 432x288 with 1 Axes>"
      ]
     },
     "metadata": {
      "needs_background": "light"
     },
     "output_type": "display_data"
    }
   ],
   "source": [
    "plt.title('acc')\n",
    "plt.plot([e[1] for e in tr], label='train')\n",
    "plt.plot([e[1] for e in te], label='val')\n",
    "plt.legend()\n",
    "\"\"\"plt.title('acc')\n",
    "plt.plot([e[1] for e in te1], label='1')\n",
    "plt.plot([e[1] for e in te2], label='2')\n",
    "plt.plot([e[1] for e in te3], label='3')\n",
    "plt.legend()\"\"\""
   ]
  },
  {
   "cell_type": "code",
   "execution_count": 324,
   "metadata": {},
   "outputs": [],
   "source": [
    "# формируем сабмишшен и заливаем его на kaggle\n",
    "make_submission(X_test_fin, net)"
   ]
  },
  {
   "cell_type": "code",
   "execution_count": null,
   "metadata": {},
   "outputs": [],
   "source": []
  }
 ],
 "metadata": {
  "kernelspec": {
   "display_name": "Python 3",
   "language": "python",
   "name": "python3"
  },
  "language_info": {
   "codemirror_mode": {
    "name": "ipython",
    "version": 3
   },
   "file_extension": ".py",
   "mimetype": "text/x-python",
   "name": "python",
   "nbconvert_exporter": "python",
   "pygments_lexer": "ipython3",
   "version": "3.6.8"
  }
 },
 "nbformat": 4,
 "nbformat_minor": 2
}
