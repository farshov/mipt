{
 "cells": [
  {
   "cell_type": "code",
   "execution_count": 250,
   "metadata": {},
   "outputs": [],
   "source": [
    "import numpy as np\n",
    "import matplotlib.pyplot as plt\n",
    "import pickle\n",
    "import copy\n",
    "from sklearn.model_selection import train_test_split\n",
    "from sklearn.model_selection import StratifiedKFold\n",
    "from sklearn.metrics import log_loss\n",
    "%matplotlib inline"
   ]
  },
  {
   "cell_type": "code",
   "execution_count": 2,
   "metadata": {},
   "outputs": [],
   "source": [
    "# класс one-hot encoder'а для MNIST\n",
    "class OneHotEncoder:\n",
    "    def __init__(self):\n",
    "        self.transform_mapping = np.zeros((10,10))\n",
    "        for i in range(self.transform_mapping.shape[0]):\n",
    "            self.transform_mapping[i][i] = 1.0\n",
    "    def transform(self, y):\n",
    "        return self.transform_mapping[int(y)]"
   ]
  },
  {
   "cell_type": "code",
   "execution_count": 323,
   "metadata": {},
   "outputs": [],
   "source": [
    "def make_submission(X_test, net, fname=\"my_submission.csv\"):\n",
    "    with open(fname,'w') as fout:\n",
    "        fout.write('Id,Category')\n",
    "        for i in range(X_test.shape[0]):\n",
    "            y_h = net.predict(X_test[i])\n",
    "            y = np.argmax(y_h)\n",
    "            fout.write(\"\\n{},{}\".format(i, int(y)))"
   ]
  },
  {
   "cell_type": "code",
   "execution_count": 4,
   "metadata": {},
   "outputs": [],
   "source": [
    "# внимание, тут Y_test в обычном формате(не onehot)\n",
    "def compute_acc(X_test, Y_test, net):\n",
    "    acc = 0.0\n",
    "    for i in range(X_test.shape[0]):\n",
    "        y_h = net.forward(X_test[i])\n",
    "        y = np.argmax(y_h)\n",
    "        if(y == Y_test[i]):\n",
    "            acc += 1.0\n",
    "    return acc / Y_test.shape[0]"
   ]
  },
  {
   "cell_type": "code",
   "execution_count": 5,
   "metadata": {},
   "outputs": [],
   "source": [
    "train_data = None\n",
    "test_data = None\n",
    "encoder = OneHotEncoder()\n",
    "with open('data_train.pickle','rb') as fin:\n",
    "    train_data = pickle.load(fin)\n",
    "with open('data_test_no_labels.pickle','rb') as fin:\n",
    "    test_data = pickle.load(fin)\n",
    "    \n",
    "X_train = train_data['data']\n",
    "Y_train = train_data['target']\n",
    "Y_train_oh = np.array(list(map(lambda x : encoder.transform(x), Y_train)))\n",
    "\n",
    "\n",
    "X_test_fin = test_data['data']"
   ]
  },
  {
   "cell_type": "code",
   "execution_count": 6,
   "metadata": {},
   "outputs": [
    {
     "data": {
      "image/png": "[encoded data removed]",
      "text/plain": [
       "<Figure size 432x288 with 16 Axes>"
      ]
     },
     "metadata": {
      "needs_background": "light"
     },
     "output_type": "display_data"
    }
   ],
   "source": [
    "n=4\n",
    "for i in range(n*n):\n",
    "    plt.subplot(n,n,i+1)\n",
    "    I = train_data['data'][np.random.randint(0, X_train.shape[0]),:]\n",
    "    I = I.reshape((28, 28))\n",
    "    plt.imshow(I, cmap='gray')"
   ]
  },
  {
   "cell_type": "markdown",
   "metadata": {},
   "source": [
    "## Подготовка датасета"
   ]
  },
  {
   "cell_type": "markdown",
   "metadata": {},
   "source": [
    "### Деление на обучающие, тестовые и валидационные подвыборки"
   ]
  },
  {
   "cell_type": "code",
   "execution_count": 7,
   "metadata": {},
   "outputs": [],
   "source": [
    "X_train, X_test, y_train, y_test = train_test_split(X_train, Y_train_oh, test_size=0.2, \n",
    "                                                    random_state=12, stratify=Y_train)"
   ]
  },
  {
   "cell_type": "code",
   "execution_count": 8,
   "metadata": {},
   "outputs": [
    {
     "data": {
      "text/plain": [
       "42000"
      ]
     },
     "execution_count": 8,
     "metadata": {},
     "output_type": "execute_result"
    }
   ],
   "source": [
    "len(y_train)"
   ]
  },
  {
   "cell_type": "code",
   "execution_count": 9,
   "metadata": {},
   "outputs": [
    {
     "data": {
      "text/plain": [
       "10500"
      ]
     },
     "execution_count": 9,
     "metadata": {},
     "output_type": "execute_result"
    }
   ],
   "source": [
    "len(y_test)"
   ]
  },
  {
   "cell_type": "code",
   "execution_count": 10,
   "metadata": {},
   "outputs": [],
   "source": [
    "X_train, X_val, y_train, y_val = train_test_split(X_train, y_train, test_size=0.2, \n",
    "                                                    random_state=12)"
   ]
  },
  {
   "cell_type": "code",
   "execution_count": 11,
   "metadata": {},
   "outputs": [
    {
     "data": {
      "text/plain": [
       "33600"
      ]
     },
     "execution_count": 11,
     "metadata": {},
     "output_type": "execute_result"
    }
   ],
   "source": [
    "len(y_train)"
   ]
  },
  {
   "cell_type": "code",
   "execution_count": 12,
   "metadata": {},
   "outputs": [
    {
     "data": {
      "text/plain": [
       "8400"
      ]
     },
     "execution_count": 12,
     "metadata": {},
     "output_type": "execute_result"
    }
   ],
   "source": [
    "len(y_val)"
   ]
  },
  {
   "cell_type": "markdown",
   "metadata": {},
   "source": [
    "### Непосредственное преобразование данных"
   ]
  },
  {
   "cell_type": "code",
   "execution_count": 13,
   "metadata": {},
   "outputs": [],
   "source": [
    "mu = np.mean(X_train)\n",
    "std = np.std(X_train)\n",
    "eps = 1e-5"
   ]
  },
  {
   "cell_type": "code",
   "execution_count": 14,
   "metadata": {},
   "outputs": [],
   "source": [
    "X_train = (X_train - mu) / (std + eps)\n",
    "X_val = (X_val - mu) / (std + eps)\n",
    "X_test = (X_test - mu) / (std + eps)"
   ]
  },
  {
   "cell_type": "code",
   "execution_count": 311,
   "metadata": {},
   "outputs": [],
   "source": [
    "X_test_fin = (X_test_fin - mu) / (std + eps)"
   ]
  },
  {
   "cell_type": "code",
   "execution_count": 312,
   "metadata": {},
   "outputs": [],
   "source": [
    "A = np.array([[1, 2], [3, 4]])"
   ]
  },
  {
   "cell_type": "code",
   "execution_count": 313,
   "metadata": {},
   "outputs": [
    {
     "data": {
      "text/plain": [
       "array([3, 7])"
      ]
     },
     "execution_count": 313,
     "metadata": {},
     "output_type": "execute_result"
    }
   ],
   "source": [
    "np.sum(A, axis=1)"
   ]
  },
  {
   "cell_type": "markdown",
   "metadata": {},
   "source": [
    "## Определение слоев сети"
   ]
  },
  {
   "cell_type": "code",
   "execution_count": 17,
   "metadata": {},
   "outputs": [],
   "source": [
    "class Softmax:\n",
    "    \n",
    "    def forward(self, x):\n",
    "        self.x = x\n",
    "        exps = np.exp(x)\n",
    "        cache = exps\n",
    "        return (exps / np.sum(exps, axis=1).reshape(-1, 1)), cache \n",
    "    \n",
    "    def backward(self, din, cache):\n",
    "        exps = cache\n",
    "        sums = np.sum(exps, axis=1)\n",
    "        isums = 1 / sums\n",
    "        dhat1 = din * isums.reshape(-1, 1)\n",
    "        \n",
    "        dhat2 = din * exps\n",
    "        dhat2 = dhat2 * (- isums * isums).reshape(-1, 1)\n",
    "        dhat2 = dhat2 * exps\n",
    "        \n",
    "        dexp = dhat1 + dhat2\n",
    "        \n",
    "        dout = dexp * exps\n",
    "        return dout"
   ]
  },
  {
   "cell_type": "code",
   "execution_count": 18,
   "metadata": {},
   "outputs": [],
   "source": [
    "class CrossEntropy:\n",
    "    \n",
    "    def forward(self, y, scores):\n",
    "        sm = Softmax()\n",
    "        self.sm = sm\n",
    "        \n",
    "        loss = 0\n",
    "        probs, cache_sm = sm.forward(scores)\n",
    "        logs = - np.log(probs) * y\n",
    "        loss = np.sum(logs) / len(y)\n",
    "        \n",
    "        cache = (y, scores, probs, logs, cache_sm)\n",
    "        \n",
    "        return loss, cache\n",
    "        \n",
    "    \n",
    "    def backward(self, din, cache):\n",
    "        y, scores, probs, logs, exps = cache\n",
    "        N = len(y)\n",
    "        \n",
    "        dsum = - din * (1 / N) * y * np.ones_like(probs)\n",
    "        dlog = dsum / probs\n",
    "        dout = self.sm.backward(dlog, exps)\n",
    "        return dout"
   ]
  },
  {
   "cell_type": "code",
   "execution_count": 288,
   "metadata": {},
   "outputs": [],
   "source": [
    "class MultiLayerNetwork:\n",
    "    \n",
    "    def __init__(self, in_size, hidden_sizes, num_classes, reg=0.0, learning_rate=1e-5):\n",
    "        sizes = np.hstack((np.array(in_size), hidden_sizes, np.array(num_classes)))\n",
    "        self.W = []\n",
    "        self.b = []\n",
    "        \n",
    "        for i in range(len(sizes) - 1):\n",
    "            in_size = sizes[i]\n",
    "            out_size = sizes[i+1]\n",
    "            self.W.append(np.random.normal(scale=1, size=[in_size, out_size]) * np.sqrt(2 / in_size))\n",
    "            self.b.append(np.zeros(out_size))\n",
    "        \n",
    "        self.reg = reg\n",
    "        self.lr = learning_rate\n",
    "    \n",
    "    def affine_forward(self, x, num):\n",
    "        W = self.W[num]\n",
    "        b = self.b[num]\n",
    "        out = np.dot(x, W) + b\n",
    "        cache = (x, num)\n",
    "        return out, cache\n",
    "    \n",
    "    def relu_forward(self, x):\n",
    "        return np.maximum(0, x)\n",
    "    \n",
    "    def affine_relu_forward(self, x, num):\n",
    "        y, affine_cache = self.affine_forward(x, num)\n",
    "        out = self.relu_forward(y)\n",
    "        relu_cache = out\n",
    "        return out, (affine_cache, relu_cache)\n",
    "    \n",
    "    \n",
    "    def affine_backward(self, dout, cache):\n",
    "        x, num = cache\n",
    "        W = self.W[num]\n",
    "        b = self.b[num]\n",
    "        num_exam = x.shape[0]\n",
    "        \n",
    "        dw = np.dot(x.reshape(num_exam, -1).T, dout)\n",
    "        dx = np.dot(dout, W.T).reshape(x.shape)\n",
    "        db = np.dot(np.ones(num_exam), dout).T\n",
    "        \n",
    "        return dx, dw, db\n",
    "        \n",
    "    def relu_backward(self, dout, cache):\n",
    "        mask = cache\n",
    "        mask = mask <= 0\n",
    "        or_shape = dout.shape\n",
    "        dx = copy.deepcopy(dout)\n",
    "        dx = dout.flatten()\n",
    "        mask = mask.flatten()\n",
    "        dx[mask] = 0\n",
    "        dx = dx.reshape(or_shape)\n",
    "        \n",
    "        return dx\n",
    "\n",
    "    def affine_relu_backward(self, dout, cache):\n",
    "        affine_cache, relu_cache = cache\n",
    "        dout = self.relu_backward(dout, relu_cache)\n",
    "        dx, dw, db = self.affine_backward(dout, affine_cache)\n",
    "        return dx, dw, db\n",
    "    \n",
    "    def predict(self, x):\n",
    "        h = copy.deepcopy(x)\n",
    "        for num in range(len(self.W) - 1):\n",
    "            h, _ = self.affine_relu_forward(h, num)\n",
    "        num += 1\n",
    "        scores, _ = self.affine_forward(h, num)\n",
    "        return scores\n",
    "    \n",
    "    def forward_pass(self, x, y):\n",
    "        cache = []\n",
    "        masks = []\n",
    "        batch = copy.deepcopy(x)\n",
    "        for num in range(len(self.W) - 1):\n",
    "            batch, cur_cache = self.affine_relu_forward(batch, num)\n",
    "            batch, cur_mask = self.forward_dropout(batch, self.p)\n",
    "            cache.append(cur_cache)\n",
    "            masks.append(cur_mask)\n",
    "        num += 1\n",
    "        scores, cur_cache = self.affine_forward(batch, num)\n",
    "        cache.append(cur_cache)\n",
    "        return scores, cache\n",
    "    \n",
    "    def forward_dropout(self, x, p):\n",
    "        mask = (np.random.rand(*x.shape) < p) / p\n",
    "        out = x * mask\n",
    "        \n",
    "    def backward_dropout(self, din, mask):\n",
    "        return din * mask\n",
    "    \n",
    "    def forward_loss(self, scores, y, loss_f):\n",
    "        sum_ww = 0\n",
    "        num = 0\n",
    "        reg = self.reg\n",
    "        for num in range(len(self.W)):\n",
    "            w = self.W[num]\n",
    "            sum_ww += np.sum(w * w)\n",
    "        loss, loss_cache = loss_f.forward(y, scores)\n",
    "        loss += 0.5 * reg * sum_ww\n",
    "        return loss, loss_cache\n",
    "     \n",
    "    def train(self, x, y, X_val, y_val, epoches=1, batch_size=1, p=1):\n",
    "        reg = self.reg\n",
    "        lr = self.lr\n",
    "        iter_per_epoche = x.shape[0] // batch_size\n",
    "        tr_losses = []\n",
    "        te_losses = []\n",
    "        for epoche in range(epoches):\n",
    "            for i in range(iter_per_epoche):\n",
    "                idx = np.random.randint(low=0, high=x.shape[0], size=batch_size)\n",
    "                batch = x[idx]\n",
    "                batch_y = y[idx]\n",
    "                \n",
    "                #forward pass\n",
    "                scores, cache = self.forward_pass(batch, batch_y, p)\n",
    "                loss_f = CrossEntropy()\n",
    "                loss, loss_cache = self.forward_loss(scores, batch_y, loss_f)\n",
    "                \n",
    "                #backward pass\n",
    "                dout = 1\n",
    "                dout = loss_f.backward(dout, loss_cache)\n",
    "                dout, dw, db = self.affine_backward(dout, cache[-1])\n",
    "                self.W[-1] -= (lr * dw + reg * self.W[-1])\n",
    "                self.b[-1] -= lr * db\n",
    "                for i in range(len(cache)-2, -1, -1):\n",
    "                    dout, dw, db = self.affine_relu_backward(dout, cache[i])\n",
    "                    self.W[i] -= (lr * dw + reg * self.W[i])\n",
    "                    self.b[i] -= lr * db\n",
    "            \n",
    "            \n",
    "            scores = self.predict(x)\n",
    "            loss, loss_cache = loss_f.forward(y, scores)\n",
    "            acc = compute_acc(x[0:10000], y[0:10000], self)\n",
    "            tr_losses.append((loss, acc))\n",
    "            \n",
    "            scores = self.predict(X_val)\n",
    "            loss, loss_cache = loss_f.forward(y_val, scores)\n",
    "            acc = compute_acc(X_val[0:1000], y_val[0:1000], self)\n",
    "            te_losses.append((loss, acc))\n",
    "                \n",
    "            if(epoche % 50 == 0):\n",
    "                print(\"epoche:\", epoche)\n",
    "                scores = self.predict(x)\n",
    "                loss, loss_cache = self.forward_loss(scores, y, loss_f)\n",
    "                print(loss)\n",
    "                \n",
    "        return (tr_losses, te_losses)\n",
    "                "
   ]
  },
  {
   "cell_type": "code",
   "execution_count": 289,
   "metadata": {},
   "outputs": [],
   "source": [
    "def compute_acc(X_test, Y_test, net):\n",
    "    acc = 0.0\n",
    "    for i in range(X_test.shape[0]):\n",
    "        y_h = net.predict(X_test[i])\n",
    "        y = np.argmax(y_h)\n",
    "        idx = np.argmax(Y_test[i])\n",
    "        if(y == idx):\n",
    "            acc += 1.0\n",
    "    return acc / Y_test.shape[0]"
   ]
  },
  {
   "cell_type": "code",
   "execution_count": 290,
   "metadata": {},
   "outputs": [
    {
     "data": {
      "text/plain": [
       "33600"
      ]
     },
     "execution_count": 290,
     "metadata": {},
     "output_type": "execute_result"
    }
   ],
   "source": [
    "X_train.shape[0]"
   ]
  },
  {
   "cell_type": "markdown",
   "metadata": {},
   "source": [
    "## Опеределение самой сети"
   ]
  },
  {
   "cell_type": "code",
   "execution_count": 310,
   "metadata": {},
   "outputs": [
    {
     "name": "stdout",
     "output_type": "stream",
     "text": [
      "epoche: 0\n",
      "3.3877657235133634\n",
      "epoche: 50\n",
      "2.2185062477859265\n",
      "epoche: 100\n",
      "2.0431999235915743\n",
      "epoche: 150\n",
      "2.001511083678191\n",
      "epoche: 200\n",
      "2.0056506284050086\n",
      "epoche: 250\n",
      "2.030133677052389\n",
      "epoche: 300\n",
      "2.0627377854473825\n",
      "epoche: 350\n",
      "2.097424346200823\n"
     ]
    }
   ],
   "source": [
    "net = MultiLayerNetwork(X_train.shape[1], 100, 10, learning_rate=3e-4, reg=4e-4)\n",
    "loss = net.train(X_train[0:1000], y_train[0:1000], X_val, y_val, batch_size = 100, epoches=400)"
   ]
  },
  {
   "cell_type": "code",
   "execution_count": 314,
   "metadata": {},
   "outputs": [],
   "source": [
    "scores = net.predict(X_val)"
   ]
  },
  {
   "cell_type": "code",
   "execution_count": 315,
   "metadata": {},
   "outputs": [
    {
     "data": {
      "text/plain": [
       "8400"
      ]
     },
     "execution_count": 315,
     "metadata": {},
     "output_type": "execute_result"
    }
   ],
   "source": [
    "len(np.argmax(scores, axis=1))"
   ]
  },
  {
   "cell_type": "code",
   "execution_count": 316,
   "metadata": {},
   "outputs": [
    {
     "data": {
      "text/plain": [
       "0.5897916666666667"
      ]
     },
     "execution_count": 316,
     "metadata": {},
     "output_type": "execute_result"
    }
   ],
   "source": [
    "compute_acc(X_train, y_train, net)"
   ]
  },
  {
   "cell_type": "code",
   "execution_count": 317,
   "metadata": {},
   "outputs": [
    {
     "data": {
      "text/plain": [
       "0.5898095238095238"
      ]
     },
     "execution_count": 317,
     "metadata": {},
     "output_type": "execute_result"
    }
   ],
   "source": [
    "compute_acc(X_test, y_test, net)"
   ]
  },
  {
   "cell_type": "code",
   "execution_count": 318,
   "metadata": {},
   "outputs": [
    {
     "data": {
      "text/plain": [
       "0.5930952380952381"
      ]
     },
     "execution_count": 318,
     "metadata": {},
     "output_type": "execute_result"
    }
   ],
   "source": [
    "compute_acc(X_val, y_val, net)"
   ]
  },
  {
   "cell_type": "markdown",
   "metadata": {},
   "source": [
    "## Графики CrossEntropyLoss для обучающей и валидационной выборок"
   ]
  },
  {
   "cell_type": "code",
   "execution_count": 319,
   "metadata": {},
   "outputs": [],
   "source": [
    "tr, te = loss"
   ]
  },
  {
   "cell_type": "code",
   "execution_count": 320,
   "metadata": {},
   "outputs": [
    {
     "data": {
      "text/plain": [
       "<matplotlib.legend.Legend at 0x7f6f69be5ef0>"
      ]
     },
     "execution_count": 320,
     "metadata": {},
     "output_type": "execute_result"
    },
    {
     "data": {
      "image/png": "[encoded data removed]",
      "text/plain": [
       "<Figure size 432x288 with 1 Axes>"
      ]
     },
     "metadata": {
      "needs_background": "light"
     },
     "output_type": "display_data"
    }
   ],
   "source": [
    "plt.title('loss')\n",
    "plt.plot([e[0] for e in tr], label='train')\n",
    "plt.plot([e[0] for e in te], label='val')\n",
    "plt.legend()"
   ]
  },
  {
   "cell_type": "code",
   "execution_count": 321,
   "metadata": {},
   "outputs": [
    {
     "data": {
      "text/plain": [
       "<matplotlib.legend.Legend at 0x7f6f69fff400>"
      ]
     },
     "execution_count": 321,
     "metadata": {},
     "output_type": "execute_result"
    },
    {
     "data": {
      "image/png": "[encoded data removed]",
      "text/plain": [
       "<Figure size 432x288 with 1 Axes>"
      ]
     },
     "metadata": {
      "needs_background": "light"
     },
     "output_type": "display_data"
    }
   ],
   "source": [
    "plt.title('acc')\n",
    "plt.plot([e[1] for e in tr], label='train')\n",
    "plt.plot([e[1] for e in te], label='val')\n",
    "plt.legend()"
   ]
  },
  {
   "cell_type": "code",
   "execution_count": 324,
   "metadata": {},
   "outputs": [],
   "source": [
    "# формируем сабмишшен и заливаем его на kaggle\n",
    "make_submission(X_test_fin, net)"
   ]
  },
  {
   "cell_type": "code",
   "execution_count": null,
   "metadata": {},
   "outputs": [],
   "source": []
  }
 ],
 "metadata": {
  "kernelspec": {
   "display_name": "Python 3",
   "language": "python",
   "name": "python3"
  },
  "language_info": {
   "codemirror_mode": {
    "name": "ipython",
    "version": 3
   },
   "file_extension": ".py",
   "mimetype": "text/x-python",
   "name": "python",
   "nbconvert_exporter": "python",
   "pygments_lexer": "ipython3",
   "version": "3.6.8"
  }
 },
 "nbformat": 4,
 "nbformat_minor": 2
}
