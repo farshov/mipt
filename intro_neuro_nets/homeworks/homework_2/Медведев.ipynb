{
 "cells": [
  {
   "cell_type": "code",
   "execution_count": 1,
   "metadata": {},
   "outputs": [],
   "source": [
    "import numpy as np\n",
    "import matplotlib.pyplot as plt\n",
    "import pickle\n",
    "import copy\n",
    "from sklearn.model_selection import train_test_split\n",
    "from sklearn.model_selection import StratifiedKFold\n",
    "%matplotlib inline"
   ]
  },
  {
   "cell_type": "code",
   "execution_count": 2,
   "metadata": {},
   "outputs": [],
   "source": [
    "# класс one-hot encoder'а для MNIST\n",
    "class OneHotEncoder:\n",
    "    def __init__(self):\n",
    "        self.transform_mapping = np.zeros((10,10))\n",
    "        for i in range(self.transform_mapping.shape[0]):\n",
    "            self.transform_mapping[i][i] = 1.0\n",
    "    def transform(self, y):\n",
    "        return self.transform_mapping[int(y)]"
   ]
  },
  {
   "cell_type": "code",
   "execution_count": 3,
   "metadata": {},
   "outputs": [],
   "source": [
    "def make_submission(X_test, net, fname=\"my_submission.csv\"):\n",
    "    with open(fname,'w') as fout:\n",
    "        fout.write('Id,Category')\n",
    "        for i in range(X_test.shape[0]):\n",
    "            y_h, _ = net.forward(X_test[i])\n",
    "            y = np.argmax(y_h)\n",
    "            fout.write(\"\\n{},{}\".format(i, int(y)))"
   ]
  },
  {
   "cell_type": "code",
   "execution_count": 4,
   "metadata": {},
   "outputs": [],
   "source": [
    "# внимание, тут Y_test в обычном формате(не onehot)\n",
    "def compute_acc(scores, y, net):\n",
    "    acc = 0.0\n",
    "    idxs = np.argmax(scores, axis=1)\n",
    "    y_true = np.argmax(y, axis=1)\n",
    "    acc = np.sum(idxs == y_true)\n",
    "    return acc / y.shape[0]"
   ]
  },
  {
   "cell_type": "code",
   "execution_count": 5,
   "metadata": {},
   "outputs": [],
   "source": [
    "train_data = None\n",
    "test_data = None\n",
    "encoder = OneHotEncoder()\n",
    "with open('data_train.pickle','rb') as fin:\n",
    "    train_data = pickle.load(fin)\n",
    "with open('data_test_no_labels.pickle','rb') as fin:\n",
    "    test_data = pickle.load(fin)\n",
    "    \n",
    "X_train = train_data['data']\n",
    "Y_train = train_data['target']\n",
    "Y_train_oh = np.array(list(map(lambda x : encoder.transform(x), Y_train)))\n",
    "\n",
    "\n",
    "X_test_fin = test_data['data']"
   ]
  },
  {
   "cell_type": "code",
   "execution_count": 6,
   "metadata": {},
   "outputs": [
    {
     "data": {
      "image/png": "[encoded data removed]",
      "text/plain": [
       "<Figure size 432x288 with 16 Axes>"
      ]
     },
     "metadata": {
      "needs_background": "light"
     },
     "output_type": "display_data"
    }
   ],
   "source": [
    "n=4\n",
    "for i in range(n*n):\n",
    "    plt.subplot(n,n,i+1)\n",
    "    I = train_data['data'][np.random.randint(0, X_train.shape[0]),:]\n",
    "    I = I.reshape((28, 28))\n",
    "    plt.imshow(I, cmap='gray')"
   ]
  },
  {
   "cell_type": "markdown",
   "metadata": {},
   "source": [
    "# Подготовка датасета"
   ]
  },
  {
   "cell_type": "code",
   "execution_count": 7,
   "metadata": {},
   "outputs": [],
   "source": [
    "X_train, X_test, y_train, y_test = train_test_split(X_train, Y_train_oh, test_size=0.2, \n",
    "                                                    random_state=12, stratify=Y_train)\n",
    "X_train, X_val, y_train, y_val = train_test_split(X_train, y_train, test_size=0.2, \n",
    "                                                    random_state=12)"
   ]
  },
  {
   "cell_type": "code",
   "execution_count": 8,
   "metadata": {},
   "outputs": [],
   "source": [
    "mu = np.mean(X_train)\n",
    "std = np.std(X_train)\n",
    "eps = 1e-5"
   ]
  },
  {
   "cell_type": "code",
   "execution_count": 9,
   "metadata": {},
   "outputs": [],
   "source": [
    "X_train = (X_train - mu) / (std + eps)\n",
    "X_val = (X_val - mu) / (std + eps)\n",
    "X_test = (X_test - mu) / (std + eps)\n",
    "X_test_fin = (X_test_fin - mu) / (std + eps)"
   ]
  },
  {
   "cell_type": "markdown",
   "metadata": {},
   "source": [
    "# Определение слоев сети"
   ]
  },
  {
   "cell_type": "markdown",
   "metadata": {},
   "source": [
    "### affine_forward"
   ]
  },
  {
   "cell_type": "code",
   "execution_count": 10,
   "metadata": {},
   "outputs": [],
   "source": [
    "def affine_forward(x, w, b):\n",
    "    out = np.dot(x, w) + b\n",
    "    cache = (x, w, b)\n",
    "    return out, cache\n",
    "\n",
    "def affine_backward(dout, cache):\n",
    "    x, w, b = cache\n",
    "    db = np.sum(dout, axis=0)\n",
    "    dw = np.dot(x.T, dout)\n",
    "    dx = np.dot(dout, w.T)\n",
    "    return dx, dw, db"
   ]
  },
  {
   "cell_type": "code",
   "execution_count": 11,
   "metadata": {},
   "outputs": [],
   "source": [
    "x = np.array([[1, 2, 3], [4, 5, 6]])\n",
    "w = np.array([[1, 1], [1, 1], [1, 1]])\n",
    "b = np.array([0.5, 0.4])\n",
    "out, cachce = affine_forward(x, w, b)\n",
    "dout = np.array([[1, 3], [1, 2]])\n",
    "dx, dw, db = affine_backward(dout, cachce)"
   ]
  },
  {
   "cell_type": "code",
   "execution_count": 12,
   "metadata": {},
   "outputs": [],
   "source": [
    "def relu_forward(x):\n",
    "    out = np.maximum(0, x)\n",
    "    cache = x\n",
    "    return out, cache\n",
    "\n",
    "def relu_backward(dout, cache):\n",
    "    x = cache\n",
    "    mask, _ = relu_forward(x)\n",
    "    mask = mask > 0\n",
    "    dout = dout * mask\n",
    "    return dout"
   ]
  },
  {
   "cell_type": "code",
   "execution_count": 13,
   "metadata": {},
   "outputs": [],
   "source": [
    "def dropout_forward(x, p=1):\n",
    "    mask = (np.random.rand(*x.shape) < p) / p \n",
    "    out = x * mask\n",
    "    cache = (p, mask)\n",
    "    return out, cache\n",
    "\n",
    "def dropout_backward(dout, cache):\n",
    "    p, mask = cache\n",
    "    dx = dout * mask\n",
    "    return dx"
   ]
  },
  {
   "cell_type": "code",
   "execution_count": 14,
   "metadata": {},
   "outputs": [],
   "source": [
    "def batchnorm_forward():\n",
    "    pass"
   ]
  },
  {
   "cell_type": "code",
   "execution_count": 15,
   "metadata": {},
   "outputs": [],
   "source": [
    "def cross_entropy(x, y):\n",
    "    shifted_logits = x - np.max(x, axis=1, keepdims=True)\n",
    "    Z = np.sum(np.exp(shifted_logits), axis=1, keepdims=True)\n",
    "    log_probs = shifted_logits - np.log(Z)\n",
    "    probs = np.exp(log_probs)\n",
    "    N = x.shape[0]\n",
    "    idxs = np.argmax(y, axis=1)\n",
    "    loss = -np.sum(log_probs[np.arange(N), idxs]) / N\n",
    "    dx = probs.copy()\n",
    "    dx[np.arange(N), idxs] -= 1\n",
    "    dx /= N\n",
    "    return loss, dx"
   ]
  },
  {
   "cell_type": "markdown",
   "metadata": {},
   "source": [
    "# Neuro Net"
   ]
  },
  {
   "cell_type": "code",
   "execution_count": 32,
   "metadata": {},
   "outputs": [],
   "source": [
    "class MultiClassNet():\n",
    "    \n",
    "    def __init__(self, in_size, hidden_sizes, out_size, learning_rate=1e-4, prob=1, lr_decay=1):\n",
    "        self.lr = learning_rate\n",
    "        self.W = []\n",
    "        self.b = []\n",
    "        self.p = prob\n",
    "        self.decay = lr_decay\n",
    "        sizes = np.hstack((in_size, hidden_sizes, out_size))\n",
    "        for i in range(len(sizes) - 1):\n",
    "            in_size = sizes[i]\n",
    "            out_size = sizes[i+1]\n",
    "            w = np.random.normal(scale=1, size=[in_size, out_size]) * np.sqrt(2 / in_size)\n",
    "            b = np.zeros(out_size)\n",
    "            self.W.append(w)\n",
    "            self.b.append(b)\n",
    "       \n",
    "    def forward(self, batch, mode='test'):\n",
    "        cache_aff = []\n",
    "        cache_relu = []\n",
    "        cache_drout = []\n",
    "        \n",
    "        for n in range(len(self.W) - 1):\n",
    "            batch, cur_aff_cache = affine_forward(batch, self.W[n], self.b[n])\n",
    "            batch, cur_relu_cache = relu_forward(batch)\n",
    "            if(mode == 'train'):\n",
    "                batch, cur_drout_cache = dropout_forward(batch, self.p)\n",
    "                cache_drout.append(cur_drout_cache)\n",
    "            cache_aff.append(cur_aff_cache)\n",
    "            cache_relu.append(cur_relu_cache)\n",
    "       \n",
    "        n += 1\n",
    "        batch, cur_aff_cache = affine_forward(batch, self.W[n], self.b[n])\n",
    "        cache_aff.append(cur_aff_cache)\n",
    "        return batch, (cache_aff, cache_relu, cache_drout)\n",
    "    \n",
    "    \n",
    "    def backward(self, dout, cache):\n",
    "        lr = self.lr\n",
    "        cache_aff, cache_relu, cache_drout = cache\n",
    "        \n",
    "        dout, dw, db = affine_backward(dout, cache_aff[-1])\n",
    "        self.W[-1] = self.W[-1] - lr * dw\n",
    "        self.b[-1] = self.b[-1] - lr * db\n",
    "        \n",
    "        for i in range(len(self.W) - 2, -1, -1):\n",
    "            dout = dropout_backward(dout, cache_drout[i])\n",
    "            dout = relu_backward(dout, cache_relu[i])\n",
    "            dout, dw, db = affine_backward(dout, cache_aff[i])\n",
    "            self.W[i] = self.W[i] - lr * dw\n",
    "            self.b[i] = self.b[i] - lr * db\n",
    "        \n",
    "    def predict(self, x):\n",
    "        scores, _ = self.forward(x)\n",
    "        return scores \n",
    "    \n",
    "    def train(self, x, y, x_val, y_val, batch_size=1, epoches=10):\n",
    "        iter_per_ep = x.shape[0] // batch_size\n",
    "        losses = []\n",
    "        accs = []\n",
    "        losses_val = []\n",
    "        accs_val = []\n",
    "        for ep in range(epoches):\n",
    "            if(ep % 1 == 0):\n",
    "                print('epoch:', ep)\n",
    "            for i in range(iter_per_ep):\n",
    "                if(i % 500 == 0):    \n",
    "                    print(i)\n",
    "                batch = copy.deepcopy(x)\n",
    "                idx = np.random.randint(low=0, high=x.shape[0], size=batch_size)\n",
    "                batch = x[idx]\n",
    "                batch_y = y[idx]\n",
    "                \n",
    "                \"\"\"batch = copy.deepcopy(x)\n",
    "                batch_y = y\"\"\"\n",
    "                scores, cache = self.forward(batch, mode='train')\n",
    "\n",
    "                loss, dout = cross_entropy(scores, batch_y)\n",
    "                \n",
    "                self.backward(dout, cache)\n",
    "            \n",
    "            self.lr *= self.decay\n",
    "            \n",
    "            scores = self.predict(x)\n",
    "            loss, _ = cross_entropy(scores, y)\n",
    "            losses.append(loss)\n",
    "            acc = compute_acc(scores, y, self)\n",
    "            accs.append(acc)\n",
    "            \n",
    "            scores = self.predict(X_val)\n",
    "            loss, _ = cross_entropy(scores, y_val)\n",
    "            losses_val.append(loss)\n",
    "            acc = compute_acc(scores, y_val, self)\n",
    "            accs_val.append(acc)\n",
    "            print(\"acc_val:\", acc)\n",
    "                \n",
    "        return (losses, accs), (losses_val, accs_val)"
   ]
  },
  {
   "cell_type": "code",
   "execution_count": 33,
   "metadata": {},
   "outputs": [
    {
     "name": "stdout",
     "output_type": "stream",
     "text": [
      "(33600, 784)\n"
     ]
    }
   ],
   "source": [
    "print(X_train.shape)"
   ]
  },
  {
   "cell_type": "code",
   "execution_count": 42,
   "metadata": {},
   "outputs": [
    {
     "name": "stdout",
     "output_type": "stream",
     "text": [
      "epoch: 0\n",
      "0\n",
      "500\n",
      "1000\n",
      "1500\n",
      "acc_val: 0.9332142857142857\n",
      "epoch: 1\n",
      "0\n",
      "500\n",
      "1000\n",
      "1500\n",
      "acc_val: 0.9523809523809523\n",
      "epoch: 2\n",
      "0\n",
      "500\n",
      "1000\n",
      "1500\n",
      "acc_val: 0.9596428571428571\n",
      "epoch: 3\n",
      "0\n",
      "500\n",
      "1000\n",
      "1500\n",
      "acc_val: 0.9602380952380952\n",
      "epoch: 4\n",
      "0\n",
      "500\n",
      "1000\n",
      "1500\n",
      "acc_val: 0.9641666666666666\n",
      "epoch: 5\n",
      "0\n",
      "500\n",
      "1000\n",
      "1500\n",
      "acc_val: 0.9655952380952381\n",
      "epoch: 6\n",
      "0\n",
      "500\n",
      "1000\n",
      "1500\n",
      "acc_val: 0.9670238095238095\n",
      "epoch: 7\n",
      "0\n",
      "500\n",
      "1000\n",
      "1500\n",
      "acc_val: 0.968452380952381\n",
      "epoch: 8\n",
      "0\n",
      "500\n",
      "1000\n",
      "1500\n",
      "acc_val: 0.97\n",
      "epoch: 9\n",
      "0\n",
      "500\n",
      "1000\n",
      "1500\n",
      "acc_val: 0.9680952380952381\n",
      "epoch: 10\n",
      "0\n",
      "500\n",
      "1000\n",
      "1500\n",
      "acc_val: 0.9708333333333333\n",
      "epoch: 11\n",
      "0\n",
      "500\n",
      "1000\n",
      "1500\n",
      "acc_val: 0.9723809523809523\n",
      "epoch: 12\n",
      "0\n",
      "500\n",
      "1000\n",
      "1500\n",
      "acc_val: 0.9723809523809523\n",
      "epoch: 13\n",
      "0\n",
      "500\n",
      "1000\n",
      "1500\n",
      "acc_val: 0.9739285714285715\n",
      "epoch: 14\n",
      "0\n",
      "500\n",
      "1000\n",
      "1500\n",
      "acc_val: 0.9736904761904762\n",
      "epoch: 15\n",
      "0\n",
      "500\n",
      "1000\n",
      "1500\n",
      "acc_val: 0.9744047619047619\n",
      "epoch: 16\n",
      "0\n",
      "500\n",
      "1000\n",
      "1500\n",
      "acc_val: 0.974047619047619\n",
      "epoch: 17\n",
      "0\n",
      "500\n",
      "1000\n",
      "1500\n",
      "acc_val: 0.9744047619047619\n",
      "epoch: 18\n",
      "0\n",
      "500\n",
      "1000\n",
      "1500\n",
      "acc_val: 0.9747619047619047\n",
      "epoch: 19\n",
      "0\n",
      "500\n",
      "1000\n",
      "1500\n",
      "acc_val: 0.9748809523809524\n",
      "epoch: 20\n",
      "0\n",
      "500\n",
      "1000\n",
      "1500\n",
      "acc_val: 0.9764285714285714\n",
      "epoch: 21\n",
      "0\n",
      "500\n",
      "1000\n",
      "1500\n",
      "acc_val: 0.9761904761904762\n",
      "epoch: 22\n",
      "0\n",
      "500\n",
      "1000\n",
      "1500\n",
      "acc_val: 0.9758333333333333\n",
      "epoch: 23\n",
      "0\n",
      "500\n",
      "1000\n",
      "1500\n",
      "acc_val: 0.9752380952380952\n",
      "epoch: 24\n",
      "0\n",
      "500\n",
      "1000\n",
      "1500\n",
      "acc_val: 0.9760714285714286\n",
      "epoch: 25\n",
      "0\n",
      "500\n",
      "1000\n",
      "1500\n",
      "acc_val: 0.9761904761904762\n",
      "epoch: 26\n",
      "0\n",
      "500\n",
      "1000\n",
      "1500\n",
      "acc_val: 0.9779761904761904\n",
      "epoch: 27\n",
      "0\n",
      "500\n",
      "1000\n",
      "1500\n",
      "acc_val: 0.9775\n",
      "epoch: 28\n",
      "0\n",
      "500\n",
      "1000\n",
      "1500\n",
      "acc_val: 0.9769047619047619\n",
      "epoch: 29\n",
      "0\n",
      "500\n",
      "1000\n",
      "1500\n",
      "acc_val: 0.9775\n"
     ]
    }
   ],
   "source": [
    "net = MultiClassNet(X_train.shape[1], [400, 200], 10, learning_rate=1e-1, prob=0.5, lr_decay=0.95)\n",
    "losses, losses_val = net.train(X_train, y_train, X_val, y_val, batch_size = 20, epoches=30)"
   ]
  },
  {
   "cell_type": "code",
   "execution_count": 43,
   "metadata": {},
   "outputs": [],
   "source": [
    "loss, accs = losses"
   ]
  },
  {
   "cell_type": "code",
   "execution_count": 44,
   "metadata": {},
   "outputs": [],
   "source": [
    "loss_val, accs_val = losses_val"
   ]
  },
  {
   "cell_type": "code",
   "execution_count": 45,
   "metadata": {},
   "outputs": [],
   "source": [
    "scores = net.predict(X_test)"
   ]
  },
  {
   "cell_type": "code",
   "execution_count": 46,
   "metadata": {},
   "outputs": [
    {
     "data": {
      "text/plain": [
       "0.9761904761904762"
      ]
     },
     "execution_count": 46,
     "metadata": {},
     "output_type": "execute_result"
    }
   ],
   "source": [
    "compute_acc(scores, y_test, net)"
   ]
  },
  {
   "cell_type": "code",
   "execution_count": 47,
   "metadata": {},
   "outputs": [
    {
     "data": {
      "text/plain": [
       "<matplotlib.legend.Legend at 0x7f6fbff447b8>"
      ]
     },
     "execution_count": 47,
     "metadata": {},
     "output_type": "execute_result"
    },
    {
     "data": {
      "image/png": "[encoded data removed]",
      "text/plain": [
       "<Figure size 432x288 with 1 Axes>"
      ]
     },
     "metadata": {
      "needs_background": "light"
     },
     "output_type": "display_data"
    }
   ],
   "source": [
    "plt.title('loss')\n",
    "plt.plot(loss, label='train')\n",
    "plt.plot(loss_val, label='val')\n",
    "plt.legend()"
   ]
  },
  {
   "cell_type": "code",
   "execution_count": 48,
   "metadata": {},
   "outputs": [
    {
     "data": {
      "text/plain": [
       "<matplotlib.legend.Legend at 0x7f6fbf7c7dd8>"
      ]
     },
     "execution_count": 48,
     "metadata": {},
     "output_type": "execute_result"
    },
    {
     "data": {
      "image/png": "[encoded data removed]",
      "text/plain": [
       "<Figure size 432x288 with 1 Axes>"
      ]
     },
     "metadata": {
      "needs_background": "light"
     },
     "output_type": "display_data"
    }
   ],
   "source": [
    "plt.title('acc')\n",
    "plt.plot(accs, label='train')\n",
    "plt.plot(accs_val, label='val')\n",
    "plt.legend()"
   ]
  },
  {
   "cell_type": "code",
   "execution_count": 49,
   "metadata": {},
   "outputs": [],
   "source": [
    "# формируем сабмишшен и заливаем его на kaggle\n",
    "make_submission(X_test_fin, net)"
   ]
  }
 ],
 "metadata": {
  "kernelspec": {
   "display_name": "Python 3",
   "language": "python",
   "name": "python3"
  },
  "language_info": {
   "codemirror_mode": {
    "name": "ipython",
    "version": 3
   },
   "file_extension": ".py",
   "mimetype": "text/x-python",
   "name": "python",
   "nbconvert_exporter": "python",
   "pygments_lexer": "ipython3",
   "version": "3.7.2"
  }
 },
 "nbformat": 4,
 "nbformat_minor": 2
}
